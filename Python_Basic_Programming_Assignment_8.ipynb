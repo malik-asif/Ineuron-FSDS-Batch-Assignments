{
 "cells": [
  {
   "cell_type": "markdown",
   "id": "7692b0e7",
   "metadata": {},
   "source": [
    "# Python Basic Programming Assignment 8"
   ]
  },
  {
   "cell_type": "markdown",
   "id": "1a265c5f",
   "metadata": {},
   "source": [
    "### 1. Write a Python Program to Add Two Matrices?"
   ]
  },
  {
   "cell_type": "code",
   "execution_count": 2,
   "id": "a677845f",
   "metadata": {},
   "outputs": [
    {
     "name": "stdout",
     "output_type": "stream",
     "text": [
      "Add two matrics :\n",
      " [[19 17  6]\n",
      " [12 14 11]\n",
      " [13 15 19]]\n"
     ]
    }
   ],
   "source": [
    "import numpy as np\n",
    "X = [[13,8,4],\n",
    "    [5,6,7],\n",
    "    [8,9,10]]\n",
    "\n",
    "Y = [[6,9,2],\n",
    "    [7,8,4],\n",
    "    [5,6,9]]\n",
    "\n",
    "arr1= np.array(X)+np.array(Y)\n",
    "print(\"Add two matrics :\\n\",arr1)\n"
   ]
  },
  {
   "cell_type": "markdown",
   "id": "fa9b99fd",
   "metadata": {},
   "source": [
    "### 2. Write a Python Program to Multiply Two Matrices?"
   ]
  },
  {
   "cell_type": "code",
   "execution_count": 3,
   "id": "e9c89804",
   "metadata": {},
   "outputs": [
    {
     "name": "stdout",
     "output_type": "stream",
     "text": [
      "Mulitply two matrics :\n",
      " [[78 72  8]\n",
      " [35 48 28]\n",
      " [40 54 90]]\n"
     ]
    }
   ],
   "source": [
    "arr1= np.array(X)*np.array(Y)\n",
    "print(\"Mulitply two matrics :\\n\",arr1)"
   ]
  },
  {
   "cell_type": "markdown",
   "id": "3a2fbf67",
   "metadata": {},
   "source": [
    "### 3. Write a Python Program to Transpose a Matrix?"
   ]
  },
  {
   "cell_type": "code",
   "execution_count": 4,
   "id": "55685fbc",
   "metadata": {},
   "outputs": [
    {
     "name": "stdout",
     "output_type": "stream",
     "text": [
      "original matrics :\n",
      " [[13  8  4]\n",
      " [ 5  6  7]\n",
      " [ 8  9 10]]\n",
      "Transpose matrics :\n",
      " [[13  5  8]\n",
      " [ 8  6  9]\n",
      " [ 4  7 10]]\n"
     ]
    }
   ],
   "source": [
    "print(\"original matrics :\\n\",np.array(X))\n",
    "print(\"Transpose matrics :\\n\",np.array(X).T)"
   ]
  },
  {
   "cell_type": "markdown",
   "id": "7aad2d40",
   "metadata": {},
   "source": [
    "### 4. Write a Python Program to Sort Words in Alphabetic Order?"
   ]
  },
  {
   "cell_type": "code",
   "execution_count": 5,
   "id": "ae3bafc1",
   "metadata": {},
   "outputs": [
    {
     "name": "stdout",
     "output_type": "stream",
     "text": [
      "Sorted Text :\n",
      " a alphabetic in order program python sort to words write\n"
     ]
    }
   ],
   "source": [
    "text=\"Write a Python Program to Sort Words in Alphabetic Order\"\n",
    "print(\"Sorted Text :\\n\",\" \".join(sorted(text.lower().split())))"
   ]
  },
  {
   "cell_type": "markdown",
   "id": "8424146a",
   "metadata": {},
   "source": [
    "### 5.Write a Python Program to Remove Punctuation From a String?"
   ]
  },
  {
   "cell_type": "code",
   "execution_count": 1,
   "id": "eb076699",
   "metadata": {},
   "outputs": [
    {
     "name": "stdout",
     "output_type": "stream",
     "text": [
      "\n",
      "Entered string is :\n",
      "  He come @ palanpur. I will meet @ Bus stop. # Meet-up.\n",
      "\n",
      "After removing punctuations, the string is : \n",
      " He come  palanpur I will meet  Bus stop  Meetup\n"
     ]
    }
   ],
   "source": [
    "punctuations = '''!()-[]{};:'\"\\,<>./?@#$%^&*_~'''\n",
    "my_str = input(\"Enter a string with punctuations :\\n \")\n",
    "print(\"\\nEntered string is :\\n \",my_str)\n",
    "no_punct = \"\"\n",
    "for char in my_str:\n",
    "    if char not in punctuations:\n",
    "        no_punct = no_punct + char\n",
    "print(\"\\nAfter removing punctuations, the string is : \\n\",no_punct)"
   ]
  },
  {
   "cell_type": "code",
   "execution_count": null,
   "id": "e2fc9ae0",
   "metadata": {},
   "outputs": [],
   "source": []
  }
 ],
 "metadata": {
  "kernelspec": {
   "display_name": "base",
   "language": "python",
   "name": "python3"
  },
  "language_info": {
   "codemirror_mode": {
    "name": "ipython",
    "version": 3
   },
   "file_extension": ".py",
   "mimetype": "text/x-python",
   "name": "python",
   "nbconvert_exporter": "python",
   "pygments_lexer": "ipython3",
   "version": "3.9.13"
  },
  "vscode": {
   "interpreter": {
    "hash": "d4d32026e0067de0316c73ac1a8629660854211ed9c19d462c1689f5b4c6c67d"
   }
  }
 },
 "nbformat": 4,
 "nbformat_minor": 5
}
