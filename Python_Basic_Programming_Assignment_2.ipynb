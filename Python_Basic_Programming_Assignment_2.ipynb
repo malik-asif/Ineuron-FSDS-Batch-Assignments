{
 "cells": [
  {
   "cell_type": "markdown",
   "id": "82eb72dd",
   "metadata": {},
   "source": [
    "# Python Basic Programming Assignment 1"
   ]
  },
  {
   "cell_type": "markdown",
   "id": "c3c1dd7a",
   "metadata": {},
   "source": [
    "### 1.\tWrite a Python program to convert kilometers to miles?\n",
    "    \n",
    "    Fomula: Mile = kilometer/1.609\n",
    "\n",
    "            1 kilo = 0.621371 miles"
   ]
  },
  {
   "cell_type": "code",
   "execution_count": 6,
   "id": "ab8af18b",
   "metadata": {},
   "outputs": [
    {
     "name": "stdout",
     "output_type": "stream",
     "text": [
      "Enter Kilometer 5\n",
      "5 kilometer is 3.107520198881293 miles\n"
     ]
    }
   ],
   "source": [
    "# Taking user input for kilometer\n",
    "kilometer=int(input(\"Enter Kilometer \"))\n",
    "\n",
    "#conversion to miles by  kilometer by divide kilometer with 1.609\n",
    "\n",
    "miles = kilometer / 1.609\n",
    "\n",
    "print(\"{} kilometer is {} miles\".format(kilometer,miles))"
   ]
  },
  {
   "cell_type": "markdown",
   "id": "99c30f99",
   "metadata": {},
   "source": [
    "### 2.\tWrite a Python program to convert Celsius to Fahrenheit?\n",
    "\n",
    "    formula : (0°C × 9/5) + 32 = 32°F\n"
   ]
  },
  {
   "cell_type": "code",
   "execution_count": 10,
   "id": "06131268",
   "metadata": {},
   "outputs": [
    {
     "name": "stdout",
     "output_type": "stream",
     "text": [
      "Enter Celsius 1\n",
      "1 Celsius is 33.8 Fahrenheit\n"
     ]
    }
   ],
   "source": [
    "# Taking user input for Celsius\n",
    "Celsius=int(input(\"Enter Celsius \"))\n",
    "\n",
    "#conversion to Celsius by  Fahrenheit  (Celsius × 9/5) + 32\n",
    "\n",
    "Fahrenheit = (Celsius*(9/5))+32\n",
    "\n",
    "print(\"{} Celsius is {} Fahrenheit\".format(Celsius,Fahrenheit))"
   ]
  },
  {
   "cell_type": "markdown",
   "id": "05d94e9f",
   "metadata": {},
   "source": [
    "### 3.\tWrite a Python program to display calendar?"
   ]
  },
  {
   "cell_type": "code",
   "execution_count": 2,
   "id": "adc7b00a",
   "metadata": {},
   "outputs": [
    {
     "name": "stdout",
     "output_type": "stream",
     "text": [
      "\n",
      "      March 2023\n",
      "Mo Tu We Th Fr Sa Su\n",
      "       1  2  3  4  5\n",
      " 6  7  8  9 10 11 12\n",
      "13 14 15 16 17 18 19\n",
      "20 21 22 23 24 25 26\n",
      "27 28 29 30 31\n",
      "\n"
     ]
    }
   ],
   "source": [
    "#import  calendar\n",
    "import calendar\n",
    "\n",
    "year=int(input(\"Enter the year  -\"))\n",
    "month=int(input(\"Enter the month- \"))\n",
    "\n",
    "#display calender\n",
    "c=calendar.month(year,month)\n",
    "print(\"\\n\",c)"
   ]
  },
  {
   "cell_type": "markdown",
   "id": "5c6f7bc3",
   "metadata": {},
   "source": [
    "\n",
    "### 4.\tWrite a Python program to solve quadratic equation?"
   ]
  },
  {
   "cell_type": "code",
   "execution_count": 7,
   "id": "7598bc0c",
   "metadata": {},
   "outputs": [
    {
     "name": "stdout",
     "output_type": "stream",
     "text": [
      "The solution are (-0.2075471698113208-1.1713319392580195j) and (-0.2075471698113208+1.1713319392580195j)\n"
     ]
    }
   ],
   "source": [
    "# import complex math module  \n",
    "import cmath  \n",
    "a = float(input('Enter a: '))  \n",
    "b = float(input('Enter b: '))  \n",
    "c = float(input('Enter c: '))  \n",
    "  \n",
    "# calculate the discriminant  \n",
    "d = (b**2) - (4*a*c)  \n",
    "  \n",
    "# two solutions  ((-b ± (b ** 2 - 4 * a * c) ** 0.5) / (2 * a)) \n",
    "\n",
    "sol1 = complex((-b-cmath.sqrt(d))/(2*a)) \n",
    "sol2 = complex((-b+cmath.sqrt(d))/(2*a)) \n",
    "print('The solution are {0} and {1}'.format(sol1,sol2))"
   ]
  },
  {
   "cell_type": "markdown",
   "id": "64a21945",
   "metadata": {},
   "source": [
    "### 5.Write a Python program to swap two variables without temp variable?\n"
   ]
  },
  {
   "cell_type": "code",
   "execution_count": 3,
   "id": "9f944714",
   "metadata": {},
   "outputs": [
    {
     "name": "stdout",
     "output_type": "stream",
     "text": [
      "Before swaping x=Malik,y=Asif\n",
      "After swaping x=Asif,y=Malik\n"
     ]
    }
   ],
   "source": [
    "x=input(\"Enter first value \")\n",
    "y=input(\"Enter second value \")\n",
    "\n",
    "#Before swaping\n",
    "\n",
    "print(\"Before swaping x={},y={}\".format(x,y))\n",
    "\n",
    "#swaping\n",
    "x,y=y,x\n",
    "\n",
    "#After swaping\n",
    "print(\"After swaping x={},y={}\".format(x,y))"
   ]
  },
  {
   "cell_type": "code",
   "execution_count": null,
   "id": "62ea1695",
   "metadata": {},
   "outputs": [],
   "source": []
  }
 ],
 "metadata": {
  "kernelspec": {
   "display_name": "base",
   "language": "python",
   "name": "python3"
  },
  "language_info": {
   "codemirror_mode": {
    "name": "ipython",
    "version": 3
   },
   "file_extension": ".py",
   "mimetype": "text/x-python",
   "name": "python",
   "nbconvert_exporter": "python",
   "pygments_lexer": "ipython3",
   "version": "3.9.13"
  },
  "vscode": {
   "interpreter": {
    "hash": "d4d32026e0067de0316c73ac1a8629660854211ed9c19d462c1689f5b4c6c67d"
   }
  }
 },
 "nbformat": 4,
 "nbformat_minor": 5
}
