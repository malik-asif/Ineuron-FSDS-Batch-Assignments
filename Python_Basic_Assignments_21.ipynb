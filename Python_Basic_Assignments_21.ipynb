{
 "cells": [
  {
   "cell_type": "markdown",
   "id": "001061ed",
   "metadata": {},
   "source": [
    "# Assignment 21 'Python basic'"
   ]
  },
  {
   "cell_type": "markdown",
   "id": "a1e0e2a7",
   "metadata": {},
   "source": [
    "### 1. Add the current date to the text file today.txt as a string."
   ]
  },
  {
   "cell_type": "code",
   "execution_count": 2,
   "id": "b27dbd14",
   "metadata": {},
   "outputs": [],
   "source": [
    "from datetime import date\n",
    "now = date.today()\n",
    "now_str = now.isoformat()\n",
    "with open('today.txt', 'wt') as output:\n",
    "    print(now_str, file=output)"
   ]
  },
  {
   "cell_type": "markdown",
   "id": "4adc0bc7",
   "metadata": {},
   "source": [
    "### 2. Read the text file today.txt into the string today_string"
   ]
  },
  {
   "cell_type": "code",
   "execution_count": 3,
   "id": "642f9b19",
   "metadata": {},
   "outputs": [
    {
     "data": {
      "text/plain": [
       "'2023-03-19\\n'"
      ]
     },
     "execution_count": 3,
     "metadata": {},
     "output_type": "execute_result"
    }
   ],
   "source": [
    "with open('today.txt', 'rt') as f:\n",
    "    today_string = f.read()\n",
    "    \n",
    "today_string"
   ]
  },
  {
   "cell_type": "markdown",
   "id": "16cf7249",
   "metadata": {},
   "source": [
    "### 3. Parse the date from today_string."
   ]
  },
  {
   "cell_type": "code",
   "execution_count": 4,
   "id": "2e14b9bc",
   "metadata": {},
   "outputs": [
    {
     "data": {
      "text/plain": [
       "datetime.datetime(2023, 3, 19, 0, 0)"
      ]
     },
     "execution_count": 4,
     "metadata": {},
     "output_type": "execute_result"
    }
   ],
   "source": [
    "from datetime import datetime\n",
    "fmt = '%Y-%m-%d\\n'\n",
    "datetime.strptime(today_string, fmt)"
   ]
  },
  {
   "cell_type": "markdown",
   "id": "abbdecfb",
   "metadata": {},
   "source": [
    "### 4. List the files in your current directory"
   ]
  },
  {
   "cell_type": "code",
   "execution_count": 4,
   "id": "6b51b22a",
   "metadata": {},
   "outputs": [
    {
     "data": {
      "text/plain": [
       "['.ipynb_checkpoints',\n",
       " 'books.csv',\n",
       " 'books.db',\n",
       " 'books.db-journal',\n",
       " 'combined.docx',\n",
       " 'drawing.png',\n",
       " 'Python_Basic_Assignments_10.ipynb',\n",
       " 'Python_Basic_Assignments_11.ipynb',\n",
       " 'Python_Basic_Assignments_12.ipynb',\n",
       " 'Python_Basic_Assignments_13.ipynb',\n",
       " 'Python_Basic_Assignments_14.ipynb',\n",
       " 'Python_Basic_Assignments_15.ipynb',\n",
       " 'Python_Basic_Assignments_16.ipynb',\n",
       " 'Python_Basic_Assignments_17.ipynb',\n",
       " 'Python_Basic_Assignments_18',\n",
       " 'Python_Basic_Assignments_19.ipynb',\n",
       " 'Python_Basic_Assignments_2.ipynb',\n",
       " 'Python_Basic_Assignments_20.ipynb',\n",
       " 'Python_Basic_Assignments_21.ipynb',\n",
       " 'Python_Basic_Assignments_3.ipynb',\n",
       " 'Python_Basic_Assignments_4.ipynb',\n",
       " 'Python_Basic_Assignments_5.ipynb',\n",
       " 'Python_Basic_Assignments_6.ipynb',\n",
       " 'Python_Basic_Assignments_7.ipynb',\n",
       " 'Python_Basic_Assignments_8.ipynb',\n",
       " 'Python_Basic_Assignments_9.ipynb',\n",
       " 'Python_Basic_Assignment_1 .ipynb',\n",
       " 'test.txt',\n",
       " 'today.txt',\n",
       " '__pycache__']"
      ]
     },
     "execution_count": 4,
     "metadata": {},
     "output_type": "execute_result"
    }
   ],
   "source": [
    "import os\n",
    "os.listdir(\".\")"
   ]
  },
  {
   "cell_type": "markdown",
   "id": "07433d25",
   "metadata": {},
   "source": [
    "### 5. Create a list of all of the files in your parent directory (minimum five files should be available)."
   ]
  },
  {
   "cell_type": "code",
   "execution_count": 5,
   "id": "d7dd5d09",
   "metadata": {},
   "outputs": [
    {
     "data": {
      "text/plain": [
       "['.ipynb_checkpoints',\n",
       " '.vscode',\n",
       " 'Class Task and challengs',\n",
       " 'Live Class Practice code',\n",
       " 'Maths_Statistics_in Machine_Learning',\n",
       " 'My_Python_Practices_Notes',\n",
       " 'Pandas',\n",
       " 'Pycharm_Python_Basic',\n",
       " 'Python',\n",
       " 'Python Basic Assignments',\n",
       " 'Python Basic Programming Assignments',\n",
       " 'PythonNotes',\n",
       " 'PythonProject',\n",
       " 'Python_App_Devlopment',\n",
       " 'Python_Logging',\n",
       " 'Python_SQL',\n",
       " 'README.md']"
      ]
     },
     "execution_count": 5,
     "metadata": {},
     "output_type": "execute_result"
    }
   ],
   "source": [
    "os.listdir('..')"
   ]
  },
  {
   "cell_type": "markdown",
   "id": "f758d868",
   "metadata": {},
   "source": [
    "### 6. Use multiprocessing to create three separate processes. Make each one wait a random number of seconds between one and five, print the current time, and then exit."
   ]
  },
  {
   "cell_type": "markdown",
   "id": "5a2b1eb2",
   "metadata": {},
   "source": [
    "!python multi_process.py"
   ]
  },
  {
   "cell_type": "markdown",
   "id": "ca103819",
   "metadata": {},
   "source": [
    "### 7. Create a date object of your day of birth."
   ]
  },
  {
   "cell_type": "code",
   "execution_count": 5,
   "id": "8f6585ca",
   "metadata": {},
   "outputs": [
    {
     "data": {
      "text/plain": [
       "datetime.date(2000, 8, 6)"
      ]
     },
     "execution_count": 5,
     "metadata": {},
     "output_type": "execute_result"
    }
   ],
   "source": [
    "my_day = date(2000,8, 6)\n",
    "my_day"
   ]
  },
  {
   "cell_type": "markdown",
   "id": "07f68e06",
   "metadata": {},
   "source": [
    "### 8. What day of the week was your day of birth?"
   ]
  },
  {
   "cell_type": "code",
   "execution_count": 6,
   "id": "ad7b8928",
   "metadata": {},
   "outputs": [
    {
     "data": {
      "text/plain": [
       "7"
      ]
     },
     "execution_count": 6,
     "metadata": {},
     "output_type": "execute_result"
    }
   ],
   "source": [
    "my_day.isoweekday()"
   ]
  },
  {
   "cell_type": "markdown",
   "id": "47c187fa",
   "metadata": {},
   "source": [
    "### 9. When will you be (or when were you) 10,000 days old?"
   ]
  },
  {
   "cell_type": "code",
   "execution_count": 7,
   "id": "8f82b26e",
   "metadata": {},
   "outputs": [
    {
     "data": {
      "text/plain": [
       "datetime.date(2027, 12, 23)"
      ]
     },
     "execution_count": 7,
     "metadata": {},
     "output_type": "execute_result"
    }
   ],
   "source": [
    "from datetime import timedelta\n",
    "ten_thousand = my_day + timedelta(days=10000)\n",
    "ten_thousand"
   ]
  },
  {
   "cell_type": "code",
   "execution_count": null,
   "id": "cf85dc78",
   "metadata": {},
   "outputs": [],
   "source": []
  }
 ],
 "metadata": {
  "kernelspec": {
   "display_name": "Python 3 (ipykernel)",
   "language": "python",
   "name": "python3"
  },
  "language_info": {
   "codemirror_mode": {
    "name": "ipython",
    "version": 3
   },
   "file_extension": ".py",
   "mimetype": "text/x-python",
   "name": "python",
   "nbconvert_exporter": "python",
   "pygments_lexer": "ipython3",
   "version": "3.9.13"
  }
 },
 "nbformat": 4,
 "nbformat_minor": 5
}
