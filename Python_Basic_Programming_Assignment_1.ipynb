{
 "cells": [
  {
   "cell_type": "markdown",
   "id": "76cf0942",
   "metadata": {},
   "source": [
    "##  Python Basic  Programming Assignment 1"
   ]
  },
  {
   "cell_type": "markdown",
   "id": "7b42dcb3",
   "metadata": {},
   "source": [
    "### 1. Write a Python program to print \"Hello Python\"?"
   ]
  },
  {
   "cell_type": "code",
   "execution_count": 1,
   "id": "51c34df6",
   "metadata": {},
   "outputs": [
    {
     "name": "stdout",
     "output_type": "stream",
     "text": [
      "Hello Python\n"
     ]
    }
   ],
   "source": [
    "print(\"Hello Python\")"
   ]
  },
  {
   "cell_type": "markdown",
   "id": "febb1cde",
   "metadata": {},
   "source": [
    "### 2. Write a Python program to do arithmetical operations addition and division.?"
   ]
  },
  {
   "cell_type": "code",
   "execution_count": 2,
   "id": "e66e40a5",
   "metadata": {},
   "outputs": [
    {
     "name": "stdout",
     "output_type": "stream",
     "text": [
      "\n",
      "Addition of 10 & 2 is 12\n",
      "\n",
      "Division of 10 & 2 is 5\n"
     ]
    }
   ],
   "source": [
    "#Takeing input with user\n",
    "a=int(input(\"Enter first value \"))\n",
    "b=int(input(\"Enter second value \"))\n",
    "#Addition perform\n",
    "print()\n",
    "print(\"Addition of {} & {} is {}\".format(a,b,a+b))\n",
    "print()\n",
    "#Division perform\n",
    "print(\"Division of {} & {} is {}\".format(a,b,a//b))"
   ]
  },
  {
   "cell_type": "markdown",
   "id": "d1d904a1",
   "metadata": {},
   "source": [
    "### 3. Write a Python program to find the Area of triangle  ?\n",
    "\n",
    "            side = (a+b+c)/2\n",
    "            area = √(s(s-a)*(s-b)*(s-c)) or Area = (s*(s-a)*(s-b)*(s-c)) ** 0.5  "
   ]
  },
  {
   "cell_type": "code",
   "execution_count": 3,
   "id": "fed94866",
   "metadata": {
    "scrolled": true
   },
   "outputs": [
    {
     "name": "stdout",
     "output_type": "stream",
     "text": [
      "Enter first side 3\n",
      "Enter second side 8\n",
      "Enter Third side 9\n",
      "Area of Triangle of side a = 3,b= 8,c= 9 is 11.832159566199232\n"
     ]
    }
   ],
   "source": [
    "#with math libary\n",
    "import math\n",
    "a=int(input(\"Enter first side \"))\n",
    "b=int(input(\"Enter second side \"))\n",
    "c=int(input(\"Enter Third side \"))\n",
    "s=(a+b+c)/2\n",
    "area=math.sqrt(s*(s-a)*(s-b)*(s-c))\n",
    "print(\"Area of Triangle of side a = {},b= {},c= {} is {}\".format(a,b,c,area))\n",
    "\n"
   ]
  },
  {
   "cell_type": "code",
   "execution_count": 4,
   "id": "a0fafc0d",
   "metadata": {},
   "outputs": [
    {
     "name": "stdout",
     "output_type": "stream",
     "text": [
      "Enter first side 5\n",
      "Enter second side 6\n",
      "Enter Third side 2\n",
      "Area of Triangle of side a = 5,b= 6,c= 2 is 4.683748498798798\n"
     ]
    }
   ],
   "source": [
    "#without math libary\n",
    "a=int(input(\"Enter first side \"))\n",
    "b=int(input(\"Enter second side \"))\n",
    "c=int(input(\"Enter Third side \"))\n",
    "s=(a+b+c)/2\n",
    "area1=(s*(s-a)*(s-b)*(s-c))**0.5\n",
    "print(\"Area of Triangle of side a = {},b= {},c= {} is {}\".format(a,b,c,area1))\n"
   ]
  },
  {
   "cell_type": "markdown",
   "id": "5405b0cc",
   "metadata": {},
   "source": [
    "### 4. Write a Python program to swap two variables?\n"
   ]
  },
  {
   "cell_type": "code",
   "execution_count": 3,
   "id": "8a583aa9",
   "metadata": {},
   "outputs": [
    {
     "name": "stdout",
     "output_type": "stream",
     "text": [
      "\n",
      "Data : 10 & 20 ----- without swaping\n",
      "\n",
      "Data: 20 & 10---- with swaping\n"
     ]
    }
   ],
   "source": [
    "a=input(\"Enter your first data for swap  \")\n",
    "b=input(\"Enter  your second data for swap \")\n",
    "print()\n",
    "print (f\"Data : {a} & {b} ----- without swaping\")\n",
    "a,b=b,a\n",
    "print()\n",
    "print (f\"Data: {a} & {b}---- with swaping\")"
   ]
  },
  {
   "cell_type": "markdown",
   "id": "c16f249f",
   "metadata": {},
   "source": [
    "### 5. Write a Python program to generate a random number?"
   ]
  },
  {
   "cell_type": "code",
   "execution_count": 4,
   "id": "59f10c76",
   "metadata": {},
   "outputs": [
    {
     "name": "stdout",
     "output_type": "stream",
     "text": [
      "0.4892894710670187\n",
      "77\n",
      "20\n"
     ]
    }
   ],
   "source": [
    "import random\n",
    "print(random.random())\n",
    "print(random.randint(10,100))\n",
    "print(random.randrange(0,40,2))"
   ]
  },
  {
   "cell_type": "code",
   "execution_count": null,
   "id": "075f3d0d",
   "metadata": {},
   "outputs": [],
   "source": []
  },
  {
   "cell_type": "code",
   "execution_count": null,
   "id": "19d981da",
   "metadata": {},
   "outputs": [],
   "source": []
  }
 ],
 "metadata": {
  "kernelspec": {
   "display_name": "base",
   "language": "python",
   "name": "python3"
  },
  "language_info": {
   "codemirror_mode": {
    "name": "ipython",
    "version": 3
   },
   "file_extension": ".py",
   "mimetype": "text/x-python",
   "name": "python",
   "nbconvert_exporter": "python",
   "pygments_lexer": "ipython3",
   "version": "3.9.13"
  },
  "vscode": {
   "interpreter": {
    "hash": "d4d32026e0067de0316c73ac1a8629660854211ed9c19d462c1689f5b4c6c67d"
   }
  }
 },
 "nbformat": 4,
 "nbformat_minor": 5
}
