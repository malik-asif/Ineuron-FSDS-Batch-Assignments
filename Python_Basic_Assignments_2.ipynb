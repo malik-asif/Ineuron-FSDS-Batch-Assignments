{
 "cells": [
  {
   "cell_type": "markdown",
   "id": "d88d7b98",
   "metadata": {},
   "source": [
    "# Assignment 2 'Python basic'"
   ]
  },
  {
   "attachments": {},
   "cell_type": "markdown",
   "id": "a875d45f",
   "metadata": {},
   "source": [
    "### 1.What are the two values of the Boolean data type? How do you write them?\n",
    "        \n",
    "        The two  values of the boolean data type is:\n",
    "            1. True or 1\n",
    "            2. False or 0\n",
    "            \n",
    "         Bool  data type  give  either True Or False after checking expression or statement like\n",
    "          \"SUNNY\"==\"SUNNY\" give True \n",
    "          \"SUNNY\"==\"Sunny\" give False\n",
    "          \n",
    "          "
   ]
  },
  {
   "cell_type": "code",
   "execution_count": 1,
   "id": "b3b584bf",
   "metadata": {},
   "outputs": [
    {
     "name": "stdout",
     "output_type": "stream",
     "text": [
      "Boolen Value  of 'a' is True\n",
      "Boolen Value  type  of 'a' is <class 'bool'>\n",
      "****************************************************\n",
      "Boolen Value  of 'b' is True\n",
      "Boolen Value  type  of 'b'is <class 'bool'>\n"
     ]
    }
   ],
   "source": [
    "a=\"SUNNY\"==\"SUNNY\" \n",
    "print(f\"Boolen Value  of 'a' is {a}\") \n",
    "print(f\"Boolen Value  type  of 'a' is {type(a)}\") \n",
    "\n",
    "print(\"****************************************************\")\n",
    "    \n",
    "b=\"SUNNY\"==\"SUNNY\"\n",
    "print(f\"Boolen Value  of 'b' is {b}\") \n",
    "print(f\"Boolen Value  type  of 'b'is {type(b)}\") \n"
   ]
  },
  {
   "cell_type": "markdown",
   "id": "dd2630f2",
   "metadata": {},
   "source": [
    "### 2. What are the three different types of Boolean operators?\n",
    "        \n",
    "        The three different types of Boolean operators  are:\n",
    "            1.AND is conditional AND\n",
    "            2.OR is conditional AND\n",
    "            3.NOT is Unary  Negation"
   ]
  },
  {
   "cell_type": "code",
   "execution_count": 2,
   "id": "ffb4352d",
   "metadata": {},
   "outputs": [
    {
     "name": "stdout",
     "output_type": "stream",
     "text": [
      "Checking AND Operation... False\n",
      "Checking OR Operation... True\n",
      "Checking NOT Operation... True\n",
      "Checking NOT Operation... False\n"
     ]
    }
   ],
   "source": [
    "a=True\n",
    "b=False\n",
    "print(\"Checking AND Operation...\",a and b)\n",
    "print(\"Checking OR Operation...\",a or b)\n",
    "print(\"Checking NOT Operation...\",not b)\n",
    "print(\"Checking NOT Operation...\",not a)"
   ]
  },
  {
   "cell_type": "markdown",
   "id": "6a902f66",
   "metadata": {},
   "source": [
    "### 3. Make a list of each Boolean operator&#39;s truth tables (i.e. every possible combination of Boolean values for the operator and what it evaluate )."
   ]
  },
  {
   "cell_type": "code",
   "execution_count": 3,
   "id": "292ebcf5",
   "metadata": {},
   "outputs": [
    {
     "name": "stdout",
     "output_type": "stream",
     "text": [
      "TRUTH TABLE WITH  1 AND 0 Using AND Opertor \n",
      "\n",
      "0 + 0 = 0\n",
      "1 + 0 = 0\n",
      "0 + 1 = 0\n",
      "1 + 1 = 1\n",
      "\n",
      "TRUTH TABLE WITH  'TRUE' AND 'FALSE' Using AND Opertor \n",
      "\n",
      "False + False = False\n",
      "True  + False = False\n",
      "False + True  = False\n",
      "True  + True  = True\n",
      "\n",
      "TRUTH TABLE WITH  1 AND 0 Using OR Opertor \n",
      "\n",
      "0 + 0 = 0\n",
      "1 + 0 = 1\n",
      "0 + 1 = 1\n",
      "1 + 1 = 1\n",
      "\n",
      "TRUTH TABLE WITH  'TRUE' AND 'FALSE' Using OR Opertor \n",
      "\n",
      "False + False = False\n",
      "True  + False = True\n",
      "False + True  = True\n",
      "True  + True  = True\n",
      "\n",
      "TRUTH TABLE WITH  1 AND 0 Using NOT Opertor \n",
      "\n",
      "not 1 = 0\n",
      "not 0 = 1\n",
      "\n",
      "TRUTH TABLE WITH  'TRUE' AND 'FALSE' Using NOT Opertor \n",
      "\n",
      "not True  = False\n",
      "not False = True\n"
     ]
    }
   ],
   "source": [
    "#AND Opertor Truth Table\n",
    "a=True\n",
    "b=False\n",
    "print(\"TRUTH TABLE WITH  1 AND 0 Using AND Opertor \")\n",
    "print()\n",
    "print (\"0 + 0 =\",int(b and b))\n",
    "print (\"1 + 0 =\",int(a and b))\n",
    "print (\"0 + 1 =\",int(b and a))\n",
    "print (\"1 + 1 =\",int(a and a))\n",
    "print()\n",
    "print(\"TRUTH TABLE WITH  'TRUE' AND 'FALSE' Using AND Opertor \")\n",
    "print()\n",
    "print (\"False + False =\",bool(b and b))\n",
    "print (\"True  + False =\",bool(a and b))\n",
    "print (\"False + True  =\",bool(b and a))\n",
    "print (\"True  + True  =\",bool(a and a))\n",
    "print()\n",
    "print(\"TRUTH TABLE WITH  1 AND 0 Using OR Opertor \")\n",
    "print()\n",
    "print (\"0 + 0 =\",int(b or b))\n",
    "print (\"1 + 0 =\",int(a or b))\n",
    "print (\"0 + 1 =\",int(b or a))\n",
    "print (\"1 + 1 =\",int(a or a))\n",
    "print()\n",
    "print(\"TRUTH TABLE WITH  'TRUE' AND 'FALSE' Using OR Opertor \")\n",
    "print()\n",
    "print (\"False + False =\",bool(b or b))\n",
    "print (\"True  + False =\",bool(a or b))\n",
    "print (\"False + True  =\",bool(b or a))\n",
    "print (\"True  + True  =\",bool(a or a))\n",
    "print()\n",
    "print(\"TRUTH TABLE WITH  1 AND 0 Using NOT Opertor \")\n",
    "print()\n",
    "print (\"not 1 =\",int(not a))\n",
    "print (\"not 0 =\",int(not b))\n",
    "\n",
    "print()\n",
    "print(\"TRUTH TABLE WITH  'TRUE' AND 'FALSE' Using NOT Opertor \")\n",
    "print()\n",
    "print (\"not True  =\",bool(not a))\n",
    "print (\"not False =\",bool(not b))\n"
   ]
  },
  {
   "cell_type": "markdown",
   "id": "75dcb46a",
   "metadata": {},
   "source": [
    "\n",
    "### 4. What are the values of the following expressions?\n",
    "        \n",
    "            * (5 > 4) and (3 == 5)\n",
    "            *  not (5 > 4)\n",
    "            * (5 > 4) or (3 == 5)\n",
    "            * not ((5 > 4) or (3 == 5))\n",
    "            * (True and True) and (True == False)\n",
    "            * (not False) or (not True)\n",
    "\n"
   ]
  },
  {
   "cell_type": "code",
   "execution_count": 2,
   "id": "326d7b43",
   "metadata": {},
   "outputs": [
    {
     "name": "stdout",
     "output_type": "stream",
     "text": [
      "(5 > 4) and (3 == 5) is------------------ False\n",
      "not (5 > 4) is--------------------------  False\n",
      "(5 > 4) or (3 == 5) is------------------- True\n",
      "not ((5 > 4) or (3 == 5)) is------------- False\n",
      "(True and True) and (True == False) is--- False\n",
      "(not False) or (not True) is------------- True\n"
     ]
    }
   ],
   "source": [
    "print(\"(5 > 4) and (3 == 5) is------------------\",(5 > 4) and (3 == 5))\n",
    "print(\"not (5 > 4) is-------------------------- \",not (5 > 4))\n",
    "print(\"(5 > 4) or (3 == 5) is-------------------\",(5 > 4) or (3 == 5))\n",
    "print(\"not ((5 > 4) or (3 == 5)) is-------------\",not ((5 > 4) or (3 == 5)))\n",
    "print(\"(True and True) and (True == False) is---\",(True and True) and (True == False))\n",
    "print(\"(not False) or (not True) is-------------\",(not False) or (not True))\n"
   ]
  },
  {
   "cell_type": "markdown",
   "id": "096072a8",
   "metadata": {},
   "source": [
    "### 5. What are the six comparison operators?\n",
    "            \n",
    "            * Less than ( < )\n",
    "            * Less than or equal to (<=)\n",
    "            * Greater than (>)\n",
    "            * Greater than or equal to (>=)\n",
    "            * Equal to ( == )\n",
    "            * Not equal to ( != )"
   ]
  },
  {
   "cell_type": "code",
   "execution_count": 4,
   "id": "9374f22a",
   "metadata": {},
   "outputs": [
    {
     "name": "stdout",
     "output_type": "stream",
     "text": [
      "Less than '4 < 5' is------------------ True\n",
      "Less than or equal to '4 <= 5'-------- True\n",
      "Greater than or equal to 4 > 5 is----- False\n",
      "Greater than or equal to '4 >= 5'----- False\n",
      "Equal to '4 == 5' is ----------------- False\n",
      "Not equal to '4 != 5 'is-------------- True\n"
     ]
    }
   ],
   "source": [
    "a,b=4,5\n",
    "\n",
    "print(\"Less than '4 < 5' is------------------\",a<b)\n",
    "print(\"Less than or equal to '4 <= 5'--------\",a<=b)\n",
    "print(\"Greater than or equal to 4 > 5 is-----\",a>b)\n",
    "print(\"Greater than or equal to '4 >= 5'-----\",a>=b)\n",
    "print(\"Equal to '4 == 5' is -----------------\",a==b)\n",
    "print(\"Not equal to '4 != 5 'is--------------\",a!=b)\n",
    "\n",
    "\n"
   ]
  },
  {
   "cell_type": "markdown",
   "id": "74338d28",
   "metadata": {},
   "source": [
    "### 6. How do you tell the difference between the equal to and assignment operators?Describe a condition and when you would use one.\n",
    "        \n",
    "       * The “=” is an assignment operator is used to assign the value  to the variable .\n",
    "       * The '==' operator checks whether the two given operands are equal or not."
   ]
  },
  {
   "cell_type": "code",
   "execution_count": 6,
   "id": "f1334d91",
   "metadata": {},
   "outputs": [
    {
     "name": "stdout",
     "output_type": "stream",
     "text": [
      "Enter any no. of your choice 2\n",
      "oh sorry ! No match\n"
     ]
    }
   ],
   "source": [
    "#Example of assignment and equal\n",
    "\n",
    "n=int(input(\"Enter any no. of your choice \")) # input value asign(store in n) to  varible n\n",
    "if n==5: # equal to check is value of n is equal to 5 or not\n",
    "    print(\"Lucky match.....!!!!!\")\n",
    "    \n",
    "else:\n",
    "    print(\"oh sorry ! No match\")\n"
   ]
  },
  {
   "cell_type": "markdown",
   "id": "886b6781",
   "metadata": {},
   "source": [
    "### 7. Identify the three blocks in this code:\n",
    "   \n",
    "    spam = 0\n",
    "    if spam == 10:\n",
    "    print('eggs')\n",
    "    if spam > 5:\n",
    "    print('bacon')\n",
    "    else:\n",
    "    print('ham')\n",
    "    print('spam')\n",
    "    print('spam')\n"
   ]
  },
  {
   "cell_type": "code",
   "execution_count": 7,
   "id": "c4a7b656",
   "metadata": {},
   "outputs": [
    {
     "name": "stdout",
     "output_type": "stream",
     "text": [
      "ham\n",
      "spam\n",
      "spam\n"
     ]
    }
   ],
   "source": [
    "spam = 0\n",
    "if spam == 10:\n",
    "    print('eggs')\n",
    "    if spam > 5:\n",
    "        print('bacon')\n",
    "else:\n",
    "    print('ham')\n",
    "print('spam')\n",
    "print('spam')\n"
   ]
  },
  {
   "cell_type": "markdown",
   "id": "f2c38265",
   "metadata": {},
   "source": [
    "###  8. Write code that prints Hello if 1 is stored in spam, prints Howdy if 2 is stored in spam, and prints Greetings! if anything else is stored in spam."
   ]
  },
  {
   "cell_type": "code",
   "execution_count": 5,
   "id": "b28e8b8e",
   "metadata": {
    "scrolled": true
   },
   "outputs": [
    {
     "name": "stdout",
     "output_type": "stream",
     "text": [
      "\n",
      "Greetings!\n"
     ]
    }
   ],
   "source": [
    "spam =input(\"Enter value any value or just enter nd leave \")\n",
    "print()\n",
    "if spam == 1:\n",
    "    print('Hello')\n",
    "elif spam == 2:\n",
    "    print('Howdy')\n",
    "else:\n",
    "    print('Greetings!')"
   ]
  },
  {
   "cell_type": "markdown",
   "id": "41c7172f",
   "metadata": {},
   "source": [
    "### 9.If your programme is stuck in an endless loop, what keys you’ll press?\n",
    "\n",
    "    Simple press 'ctrl+c' if stuck in an endless loop.\n",
    "    \n",
    "   \n",
    " "
   ]
  },
  {
   "cell_type": "code",
   "execution_count": 9,
   "id": "bc2b640a",
   "metadata": {},
   "outputs": [
    {
     "name": "stdout",
     "output_type": "stream",
     "text": [
      "Eample of Endless loop\n"
     ]
    }
   ],
   "source": [
    "#example of endless loop\n",
    "\n",
    "\"\"\"n=10\n",
    "while n>0:\n",
    "    print(n)\"\"\"\n",
    "print (\"Eample of Endless loop\")"
   ]
  },
  {
   "cell_type": "markdown",
   "id": "61151789",
   "metadata": {},
   "source": [
    "### 10. How can you tell the difference between break and continue?\n",
    "         \n",
    "         'break' means terminate the excute after getting  break\n",
    "         'continue' means after getting continue   move again to the decision-maker(if, while, for) and didn't  goes to the next line\n",
    "         \n",
    "         \n",
    "         \n",
    "         "
   ]
  },
  {
   "cell_type": "code",
   "execution_count": 10,
   "id": "63c04bad",
   "metadata": {},
   "outputs": [
    {
     "name": "stdout",
     "output_type": "stream",
     "text": [
      "Example of Break\n",
      "0\n",
      "1\n",
      "2\n",
      "3\n",
      "4\n",
      "*********************************************************\n",
      "Example of Continue\n",
      "0\n",
      "1\n",
      "2\n",
      "3\n",
      "4\n",
      "6\n",
      "7\n",
      "8\n",
      "9\n"
     ]
    }
   ],
   "source": [
    "print(\"Example of Break\")\n",
    "n=10\n",
    "for i in range(n):\n",
    "    if i==5:\n",
    "        break # break -stop after getting i==5  \n",
    "    print(i)\n",
    "print(\"*********************************************************\")    \n",
    "print(\"Example of Continue\")\n",
    "for i in range(n):\n",
    "    if i==5:\n",
    "        continue # continue - after getting i==5  goes back  to for loop  and didn't print 5\n",
    "    print(i)        \n",
    "        "
   ]
  },
  {
   "cell_type": "markdown",
   "id": "1dff54ca",
   "metadata": {},
   "source": [
    "### 11. In a for loop, what is the difference between range(10), range(0, 10), and range(0, 10, 1)?\n",
    "         \n",
    "         All are same ,all range function mentioned above work exactly same.\n",
    "         \n",
    "         range() is made by three paramaters range(start,end,step) by default start =0 and step =1 \n",
    "         \n",
    "         1.range(10) in this start=0(default) , end=10(mentioned), step =1(default) means loop start from 0 to 10 and take step 1 as increament (0,1,2,3,4,5,6,7,8,9)\n",
    "         \n",
    "         2.range(0,10) in this start =0(mentioned), end=10(mentioned),step=1(default)\n",
    "         \n",
    "         3.range(0,10,1)in this start =0(mentioned), end=10(mentioned),step=1(mentioned)\n",
    "         \n",
    "         "
   ]
  },
  {
   "cell_type": "code",
   "execution_count": 11,
   "id": "9755ddae",
   "metadata": {},
   "outputs": [
    {
     "name": "stdout",
     "output_type": "stream",
     "text": [
      "Example of  range(10) \n",
      "0 1 2 3 4 5 6 7 8 9 \n",
      "*********************************************\n",
      "Example of  range(0,10) \n",
      "0 1 2 3 4 5 6 7 8 9 \n",
      "*********************************************\n",
      "Example of  range(0,10,1) \n",
      "0 1 2 3 4 5 6 7 8 9 "
     ]
    }
   ],
   "source": [
    "print(\"Example of  range(10) \")\n",
    "\n",
    "for i in range(10):\n",
    "    print(i,end=\" \")\n",
    "print()    \n",
    "print(\"*********************************************\")    \n",
    "print(\"Example of  range(0,10) \")\n",
    "\n",
    "for i in range(0,10):\n",
    "    print(i,end=\" \") \n",
    "print()     \n",
    "print(\"*********************************************\")    \n",
    "print(\"Example of  range(0,10,1) \")\n",
    "\n",
    "for i in range(0,10,1):\n",
    "    print(i,end=\" \")        "
   ]
  },
  {
   "cell_type": "markdown",
   "id": "32b79da2",
   "metadata": {},
   "source": [
    "### 12. Write a short program that prints the numbers 1 to 10 using a for loop. Then write an equivalent program that prints the numbers 1 to 10 using a while loop."
   ]
  },
  {
   "cell_type": "code",
   "execution_count": 12,
   "id": "9348454c",
   "metadata": {},
   "outputs": [
    {
     "name": "stdout",
     "output_type": "stream",
     "text": [
      "print number 1 to 10 using for loop \n",
      "1 2 3 4 5 6 7 8 9 10 \n",
      "*********************************************\n",
      "\n",
      "print number 1 to 10 using while loop \n",
      "1 2 3 4 5 6 7 8 9 10 "
     ]
    }
   ],
   "source": [
    "print(\"print number 1 to 10 using for loop \")\n",
    "\n",
    "for i in range(1,11,1):\n",
    "    print(i,end=\" \") \n",
    "print()     \n",
    "print(\"*********************************************\") \n",
    "print()\n",
    "print(\"print number 1 to 10 using while loop \") \n",
    "\n",
    "i=1\n",
    "while (i<11):\n",
    "    print(i,end=\" \")\n",
    "    i+=1\n",
    "          \n",
    "          \n",
    "          "
   ]
  },
  {
   "cell_type": "markdown",
   "id": "8c88e831",
   "metadata": {},
   "source": [
    "### 13. If you had a function named bacon() inside a module named spam, how would you call it after importing spam?\n",
    "\n",
    "     This bacon function can be called with spam.bacon().\n",
    "             \n",
    "             spam.bacon()"
   ]
  }
 ],
 "metadata": {
  "kernelspec": {
   "display_name": "Python 3 (ipykernel)",
   "language": "python",
   "name": "python3"
  },
  "language_info": {
   "codemirror_mode": {
    "name": "ipython",
    "version": 3
   },
   "file_extension": ".py",
   "mimetype": "text/x-python",
   "name": "python",
   "nbconvert_exporter": "python",
   "pygments_lexer": "ipython3",
   "version": "3.9.7"
  }
 },
 "nbformat": 4,
 "nbformat_minor": 5
}
