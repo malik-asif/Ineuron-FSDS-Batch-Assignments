{
 "cells": [
  {
   "cell_type": "markdown",
   "id": "cc1b7dc5",
   "metadata": {},
   "source": [
    "# Assignment 23 'Python basic'"
   ]
  },
  {
   "cell_type": "markdown",
   "id": "b690145e",
   "metadata": {},
   "source": [
    "### 1. What is the result of the code, and why?\n",
    "&gt;&gt;&gt; def func(a, b=6, c=8\n",
    "\n",
    "print(a, b, c)\n",
    "\n",
    "&gt;&gt;&gt; func(1, 2)"
   ]
  },
  {
   "cell_type": "code",
   "execution_count": 1,
   "id": "755de46c",
   "metadata": {},
   "outputs": [
    {
     "name": "stdout",
     "output_type": "stream",
     "text": [
      "1 2 8\n",
      "\n",
      "The line func() takes two values, that is 1 and 2 respectively, but the func() is defined to take 3 values, as in func() we pass only two values, the third value comes from the default value, that is c = 8.\n"
     ]
    }
   ],
   "source": [
    "def func(a, b=6, c=8):\n",
    "    print(a, b, c)\n",
    "func(1, 2)\n",
    "\n",
    "print(\"\"\"\\nThe line func() takes two values, that is 1 and 2 respectively, but the func() is defined to take 3 values, as in func() we pass only two values, the third value comes from the default value, that is c = 8.\"\"\")"
   ]
  },
  {
   "cell_type": "markdown",
   "id": "bb10b412",
   "metadata": {},
   "source": [
    "### 2. What is the result of this code, and why?\n",
    "&gt;&gt;&gt; def func(a, b, c=5):\n",
    "    \n",
    "print(a, b, c)\n",
    "\n",
    "&gt;&gt;&gt; func(1, c=3, b=2)"
   ]
  },
  {
   "cell_type": "code",
   "execution_count": 2,
   "id": "59b92fe2",
   "metadata": {},
   "outputs": [
    {
     "name": "stdout",
     "output_type": "stream",
     "text": [
      "1 2 3\n",
      "\n",
      "The line func() takes three values, that is 1 , c= 3 snd b = 2 respectively,the func() is defined to take 3 values, as in func() we pass othree values, the default values gets overwritten, and we get the newly passed values.\n"
     ]
    }
   ],
   "source": [
    "def func(a, b, c=5):\n",
    "    print(a, b, c)\n",
    "func(1, c=3, b=2)\n",
    "\n",
    "print(\"\"\"\\nThe line func() takes three values, that is 1 , c= 3 snd b = 2 respectively,the func() is defined to take 3 values, as in func() we pass othree values, the default values gets overwritten, and we get the newly passed values.\"\"\")"
   ]
  },
  {
   "cell_type": "markdown",
   "id": "27d0adf3",
   "metadata": {},
   "source": [
    "### 3. How about this code: what is its result, and why?\n",
    "&gt;&gt;&gt; def func(a, *pargs):\n",
    "    \n",
    "print(a, pargs)\n",
    "\n",
    "&gt;&gt;&gt; func(1, 2, 3)\n"
   ]
  },
  {
   "cell_type": "code",
   "execution_count": 3,
   "id": "bff155d2",
   "metadata": {},
   "outputs": [
    {
     "name": "stdout",
     "output_type": "stream",
     "text": [
      "1 (2, 3)\n",
      "\n",
      "The special syntax pargs in function definitions in python is used to pass a variable number of arguments to a function. It is used to pass a non-key worded, variable-length argument list.\n",
      "The syntax is to use the symbol to take in a variable number of arguments; by convention, it is often used with the word args.\n",
      "What pargs allows you to do is take in more arguments than the number of formal arguments that you previously defined.\n",
      "With pargs, any number of extra arguments can be tacked on to your current formal parameters (including zero extra arguments).\n"
     ]
    }
   ],
   "source": [
    "def func(a, *pargs):\n",
    "    print(a, pargs)\n",
    "func(1, 2, 3)\n",
    "\n",
    "print(\"\"\"\\nThe special syntax pargs in function definitions in python is used to pass a variable number of arguments to a function. It is used to pass a non-key worded, variable-length argument list.\n",
    "The syntax is to use the symbol to take in a variable number of arguments; by convention, it is often used with the word args.\n",
    "What pargs allows you to do is take in more arguments than the number of formal arguments that you previously defined.\n",
    "With pargs, any number of extra arguments can be tacked on to your current formal parameters (including zero extra arguments).\"\"\")"
   ]
  },
  {
   "cell_type": "markdown",
   "id": "667f4d54",
   "metadata": {},
   "source": [
    "### 4. What does this code print, and why?\n",
    "&gt;&gt;&gt; def func(a, **kargs):\n",
    "    \n",
    "print(a, kargs)\n",
    "\n",
    "&gt;&gt;&gt; func(a=1, c=3, b=2)"
   ]
  },
  {
   "cell_type": "code",
   "execution_count": 4,
   "id": "a54e2cf1",
   "metadata": {},
   "outputs": [
    {
     "name": "stdout",
     "output_type": "stream",
     "text": [
      "1 {'c': 3, 'b': 2}\n",
      "\n",
      "The special syntax **kargs in function definitions in python is used to pass a keyworded, variable-length argument list.\n",
      "We use the name kwargs with the double star. \n",
      "The reason is because the double star allows us to pass through keyword arguments (and any number of them)\n"
     ]
    }
   ],
   "source": [
    "def func(a, **kargs):\n",
    "    print(a, kargs)\n",
    "func(a=1, c=3, b=2)\n",
    "\n",
    "print(\"\"\"\\nThe special syntax **kargs in function definitions in python is used to pass a keyworded, variable-length argument list.\n",
    "We use the name kwargs with the double star. \n",
    "The reason is because the double star allows us to pass through keyword arguments (and any number of them)\"\"\")"
   ]
  },
  {
   "cell_type": "markdown",
   "id": "06e71d57",
   "metadata": {},
   "source": [
    "### 5. What gets printed by this, and explain?\n",
    "\n",
    "&gt;&gt;&gt; def func(a, b, c=8, d=5): print(a, b, c, d)\n",
    "    \n",
    "&gt;&gt;&gt; func(1, *(5, 6))"
   ]
  },
  {
   "cell_type": "code",
   "execution_count": 5,
   "id": "f5c86393",
   "metadata": {},
   "outputs": [
    {
     "name": "stdout",
     "output_type": "stream",
     "text": [
      "1 5 6 5\n"
     ]
    }
   ],
   "source": [
    "def func(a, b, c=8, d=5): \n",
    "    print(a, b, c, d)\n",
    "func(1, *(5, 6))"
   ]
  },
  {
   "cell_type": "markdown",
   "id": "6a7ae08d",
   "metadata": {},
   "source": [
    "### 6. what is the result of this, and explain?\n",
    "&gt;&gt;&gt; def func(a, b, c): a = 2; b[0] = &#39;x&#39;; c[&#39;a&#39;] = &#39;y&#39;\n",
    "    \n",
    "&gt;&gt;&gt; l=1; m=[1]; n={&#39;a&#39;:0}\n",
    "                           \n",
    "                          \n",
    "&gt;&gt;&gt; func(l, m, n)\n",
    "\n",
    "l, m, n"
   ]
  },
  {
   "cell_type": "code",
   "execution_count": 6,
   "id": "62b094b7",
   "metadata": {},
   "outputs": [
    {
     "name": "stdout",
     "output_type": "stream",
     "text": [
      " 2 is  assign  to a , m=[1] assign as 'x', n={'a':0} to 'y'\n"
     ]
    }
   ],
   "source": [
    "def func(a, b, c): \n",
    "    a = 2\n",
    "    b[0] = 'x'\n",
    "    c['a'] = 'y'\n",
    "l=1\n",
    "m=[1]\n",
    "n={'a':0}\n",
    "func(l, m, n)\n",
    "l, m, n\n",
    "\n",
    "\n",
    "print(\" 2 is  assign  to a , m=[1] assign as 'x', n={'a':0} to 'y'\")"
   ]
  }
 ],
 "metadata": {
  "kernelspec": {
   "display_name": "Python 3 (ipykernel)",
   "language": "python",
   "name": "python3"
  },
  "language_info": {
   "codemirror_mode": {
    "name": "ipython",
    "version": 3
   },
   "file_extension": ".py",
   "mimetype": "text/x-python",
   "name": "python",
   "nbconvert_exporter": "python",
   "pygments_lexer": "ipython3",
   "version": "3.9.13"
  }
 },
 "nbformat": 4,
 "nbformat_minor": 5
}
