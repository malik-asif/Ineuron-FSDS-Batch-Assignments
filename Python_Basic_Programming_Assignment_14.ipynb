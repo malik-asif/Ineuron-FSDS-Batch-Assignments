{
 "cells": [
  {
   "cell_type": "markdown",
   "id": "52fc52af",
   "metadata": {},
   "source": [
    "# Python Basic Programming Assignment 14"
   ]
  },
  {
   "cell_type": "markdown",
   "id": "c2c0f230",
   "metadata": {},
   "source": [
    "### Question 1:\n",
    "Define a class with a generator which can iterate the numbers, which are divisible by 7, between a given range 0 and n."
   ]
  },
  {
   "cell_type": "code",
   "execution_count": 5,
   "id": "a3c6c6f8",
   "metadata": {},
   "outputs": [
    {
     "name": "stdout",
     "output_type": "stream",
     "text": [
      "Enter the Nth term of range : 15\n",
      "0\n",
      "7\n",
      "14\n"
     ]
    }
   ],
   "source": [
    "class gen:\n",
    "    def __init__(self,num):\n",
    "        self.num=num\n",
    "        \n",
    "    def gener(self):\n",
    "        for i in range(0,num+1):\n",
    "            if i%7==0:\n",
    "                yield i\n",
    "num =int(input(\"Enter the Nth term of range : \"))\n",
    "\n",
    "g=gen(num)\n",
    "for i in g.gener():\n",
    "    print(i)"
   ]
  },
  {
   "cell_type": "markdown",
   "id": "39cf8883",
   "metadata": {},
   "source": [
    "### Question 2:\n",
    "Write a program to compute the frequency of the words from the input. The output should output after sorting the key alphanumerically.\n",
    "\n",
    "Suppose the following input is supplied to the program:\n",
    "\n",
    "New to Python or choosing between Python 2 and Python 3? Read Python 2 or Python 3.\n",
    "\n",
    "Then, the output should be:\n",
    "\n",
    "2:2\n",
    "\n",
    "3.:1\n",
    "\n",
    "3?:1\n",
    "\n",
    "New:1\n",
    "\n",
    "Python:5\n",
    "\n",
    "Read:1\n",
    "\n",
    "and:1\n",
    "\n",
    "between:1\n",
    "\n",
    "choosing:1\n",
    "\n",
    "or:2\n",
    "\n",
    "to:1"
   ]
  },
  {
   "cell_type": "code",
   "execution_count": 15,
   "id": "e18e989e",
   "metadata": {},
   "outputs": [
    {
     "name": "stdout",
     "output_type": "stream",
     "text": [
      "Enter text :\n",
      "New to Python or choosing between Python 2 and Python 3? Read Python 2 or Python 3.\n",
      "2 : 2\n",
      "3. : 1\n",
      "3? : 1\n",
      "New : 1\n",
      "Python : 5\n",
      "Read : 1\n",
      "and : 1\n",
      "between : 1\n",
      "choosing : 1\n",
      "or : 2\n",
      "to : 1\n"
     ]
    }
   ],
   "source": [
    "text=input(\"Enter text :\\n\")\n",
    "for string in sorted(set(text.split(\" \"))):\n",
    "    print(string ,\":\",text.count(string))"
   ]
  },
  {
   "cell_type": "markdown",
   "id": "7654584c",
   "metadata": {},
   "source": [
    "### Question 3:\n",
    "\n",
    "Define a class Person and its two child classes: Male and Female. All classes have a\n",
    "method &quot;getGender&quot; which can print &quot;Male&quot; for Male class and &quot;Female&quot; for Female\n",
    "class."
   ]
  },
  {
   "cell_type": "code",
   "execution_count": 16,
   "id": "08ac4775",
   "metadata": {},
   "outputs": [
    {
     "name": "stdout",
     "output_type": "stream",
     "text": [
      "Male\n",
      "Female\n"
     ]
    }
   ],
   "source": [
    "class  Person:  \n",
    "    def  getGender(  self  ):  \n",
    "        return  \"Unknown\"  \n",
    "class  Male(  Person  ):  \n",
    "    def  getGender(  self  ):  \n",
    "        return  \"Male\"  \n",
    "class  Female(  Person  ):  \n",
    "    def  getGender(  self  ):  \n",
    "        return  \"Female\"  \n",
    "\n",
    "male  =  Male()  \n",
    "female=  Female()  \n",
    "print(male.getGender())  \n",
    "print  (female.getGender())"
   ]
  },
  {
   "cell_type": "markdown",
   "id": "a2c24a24",
   "metadata": {},
   "source": [
    "### Question 4:\n",
    "Please write a program to generate all sentences where subject is in [&quot;I&quot;, &quot;You&quot;] and\n",
    "verb is in [&quot;Play&quot;, &quot;Love&quot;] and the object is in [&quot;Hockey&quot;,&quot;Football&quot;]."
   ]
  },
  {
   "cell_type": "code",
   "execution_count": 17,
   "id": "a9d4b264",
   "metadata": {},
   "outputs": [
    {
     "name": "stdout",
     "output_type": "stream",
     "text": [
      "I Play Hockey\n",
      "I Play Football\n",
      "I Love Hockey\n",
      "I Love Football\n",
      "You Play Hockey\n",
      "You Play Football\n",
      "You Love Hockey\n",
      "You Love Football\n"
     ]
    }
   ],
   "source": [
    "subjects=[\"I\", \"You\"]\n",
    "verbs=[\"Play\", \"Love\"]\n",
    "objects=[\"Hockey\",\"Football\"]\n",
    "\n",
    "res = [[i, j, k] for i in subjects  \n",
    "                 for j in verbs \n",
    "                 for k in objects] \n",
    "for x in res:\n",
    "    print(\" \".join(x))\n"
   ]
  },
  {
   "cell_type": "markdown",
   "id": "c9490fd6",
   "metadata": {},
   "source": [
    "### Question 5:\n",
    "Please write a program to compress and decompress the string &quot;hello world!hello\n",
    "world!hello world!hello world!&quot;."
   ]
  },
  {
   "cell_type": "code",
   "execution_count": 23,
   "id": "000b7966",
   "metadata": {},
   "outputs": [
    {
     "name": "stdout",
     "output_type": "stream",
     "text": [
      "b'x\\x9c\\xcbH\\xcd\\xc9\\xc9W(\\xcf/\\xcaIQ\\xcc \\x82\\r\\x00\\xbd[\\x11\\xf5'\n",
      "b'hello world!hello world!hello world!hello world!'\n"
     ]
    }
   ],
   "source": [
    "import zlib\n",
    "string = 'hello world!hello world!hello world!hello world!'\n",
    "string = bytes(string, 'utf-8')\n",
    "compress = zlib.compress(string)\n",
    "print (compress)\n",
    "print (zlib.decompress(compress))"
   ]
  },
  {
   "cell_type": "markdown",
   "id": "688fbf69",
   "metadata": {},
   "source": [
    "### Question 6:\n",
    "Please write a binary search function which searches an item in a sorted list. The\n",
    "function should return the index of element to be searched in the list."
   ]
  },
  {
   "cell_type": "code",
   "execution_count": 29,
   "id": "7ef30ce8",
   "metadata": {},
   "outputs": [
    {
     "name": "stdout",
     "output_type": "stream",
     "text": [
      "Array Length: 14\n",
      "Middle Value: 7\n",
      "Middle Value: 10\n",
      "The Value Found at Index: 10\n"
     ]
    }
   ],
   "source": [
    "def binary_search_Ascending(array, target):\n",
    "    lower = 0\n",
    "    upper = len(array)\n",
    "    print('Array Length:',upper)\n",
    "    while lower < upper:\n",
    "        x = (lower + upper) // 2\n",
    "        print('Middle Value:',x)\n",
    "        value = array[x]\n",
    "        if target == value:\n",
    "            return x\n",
    "        elif target > value:\n",
    "            lower = x\n",
    "        elif target < value:\n",
    "            upper = x\n",
    "\n",
    "Array = [1,5,8,10,12,13,55,66,73,78,82,85,88,99]\n",
    "print('The Value Found at Index:',binary_search_Ascending(Array, 82))"
   ]
  },
  {
   "cell_type": "code",
   "execution_count": null,
   "id": "9e7a23f5",
   "metadata": {},
   "outputs": [],
   "source": []
  }
 ],
 "metadata": {
  "kernelspec": {
   "display_name": "Python 3 (ipykernel)",
   "language": "python",
   "name": "python3"
  },
  "language_info": {
   "codemirror_mode": {
    "name": "ipython",
    "version": 3
   },
   "file_extension": ".py",
   "mimetype": "text/x-python",
   "name": "python",
   "nbconvert_exporter": "python",
   "pygments_lexer": "ipython3",
   "version": "3.9.7"
  }
 },
 "nbformat": 4,
 "nbformat_minor": 5
}
