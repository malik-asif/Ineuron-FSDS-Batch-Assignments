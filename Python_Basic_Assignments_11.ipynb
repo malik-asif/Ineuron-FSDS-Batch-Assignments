{
 "cells": [
  {
   "cell_type": "markdown",
   "id": "ccdf6cd0",
   "metadata": {},
   "source": [
    "# Assignment 11 'Python basic'"
   ]
  },
  {
   "cell_type": "markdown",
   "id": "a1478861",
   "metadata": {},
   "source": [
    "### 1. Create an assert statement that throws an AssertionError if the variable spam is a negative integer.\n",
    "\n",
    "    The assert statement is used to continue the execute if the given condition evaluates to True. If the assert condition evaluates to False, then it raises the AssertionError exception with the specified error message"
   ]
  },
  {
   "cell_type": "code",
   "execution_count": 1,
   "id": "3c1edafd",
   "metadata": {},
   "outputs": [
    {
     "ename": "AssertionError",
     "evalue": "",
     "output_type": "error",
     "traceback": [
      "\u001b[1;31m---------------------------------------------------------------------------\u001b[0m",
      "\u001b[1;31mAssertionError\u001b[0m                            Traceback (most recent call last)",
      "\u001b[1;32m~\\AppData\\Local\\Temp\\ipykernel_7780\\726008162.py\u001b[0m in \u001b[0;36m<module>\u001b[1;34m\u001b[0m\n\u001b[0;32m      1\u001b[0m \u001b[0mspam\u001b[0m \u001b[1;33m=\u001b[0m\u001b[0mint\u001b[0m\u001b[1;33m(\u001b[0m\u001b[0minput\u001b[0m\u001b[1;33m(\u001b[0m\u001b[1;34m\"Enter the Number : \"\u001b[0m\u001b[1;33m)\u001b[0m\u001b[1;33m)\u001b[0m\u001b[1;33m\u001b[0m\u001b[1;33m\u001b[0m\u001b[0m\n\u001b[1;32m----> 2\u001b[1;33m \u001b[1;32massert\u001b[0m \u001b[0mspam\u001b[0m \u001b[1;33m>\u001b[0m \u001b[1;36m0\u001b[0m\u001b[1;33m\u001b[0m\u001b[1;33m\u001b[0m\u001b[0m\n\u001b[0m\u001b[0;32m      3\u001b[0m \u001b[0mprint\u001b[0m\u001b[1;33m(\u001b[0m\u001b[1;34m'Spam is a positive number.'\u001b[0m\u001b[1;33m)\u001b[0m\u001b[1;33m\u001b[0m\u001b[1;33m\u001b[0m\u001b[0m\n",
      "\u001b[1;31mAssertionError\u001b[0m: "
     ]
    }
   ],
   "source": [
    "spam =int(input(\"Enter the Number : \"))\n",
    "assert spam > 0\n",
    "print('Spam is a positive number.')"
   ]
  },
  {
   "cell_type": "markdown",
   "id": "4203c923",
   "metadata": {},
   "source": [
    "### 2. Write an assert statement that triggers an AssertionError if the variables eggs and bacon contain strings that are the same as each other, even if their cases are different (that is, &#39;hello&#39; and &#39;hello&#39; are considered the same, and &#39;goodbye&#39; and &#39;GOODbye&#39; are also considered the same)."
   ]
  },
  {
   "cell_type": "code",
   "execution_count": 3,
   "id": "f040a6c8",
   "metadata": {},
   "outputs": [
    {
     "name": "stdout",
     "output_type": "stream",
     "text": [
      "Enter the first word: goodbye\n",
      "Enter the  second word: GoodBYE\n"
     ]
    },
    {
     "ename": "AssertionError",
     "evalue": "",
     "output_type": "error",
     "traceback": [
      "\u001b[1;31m---------------------------------------------------------------------------\u001b[0m",
      "\u001b[1;31mAssertionError\u001b[0m                            Traceback (most recent call last)",
      "\u001b[1;32m~\\AppData\\Local\\Temp/ipykernel_5264/3990612613.py\u001b[0m in \u001b[0;36m<module>\u001b[1;34m\u001b[0m\n\u001b[0;32m      2\u001b[0m \u001b[0mbacon\u001b[0m\u001b[1;33m=\u001b[0m\u001b[0minput\u001b[0m\u001b[1;33m(\u001b[0m\u001b[1;34m\"Enter the  second word: \"\u001b[0m\u001b[1;33m)\u001b[0m\u001b[1;33m.\u001b[0m\u001b[0mlower\u001b[0m\u001b[1;33m(\u001b[0m\u001b[1;33m)\u001b[0m\u001b[1;33m\u001b[0m\u001b[1;33m\u001b[0m\u001b[0m\n\u001b[0;32m      3\u001b[0m \u001b[1;33m\u001b[0m\u001b[0m\n\u001b[1;32m----> 4\u001b[1;33m \u001b[1;32massert\u001b[0m \u001b[0meggs\u001b[0m\u001b[1;33m!=\u001b[0m\u001b[0mbacon\u001b[0m\u001b[1;33m\u001b[0m\u001b[1;33m\u001b[0m\u001b[0m\n\u001b[0m\u001b[0;32m      5\u001b[0m \u001b[1;33m\u001b[0m\u001b[0m\n\u001b[0;32m      6\u001b[0m \u001b[0mprint\u001b[0m\u001b[1;33m(\u001b[0m\u001b[1;34m'Eggs and bacon not same...'\u001b[0m\u001b[1;33m)\u001b[0m\u001b[1;33m\u001b[0m\u001b[1;33m\u001b[0m\u001b[0m\n",
      "\u001b[1;31mAssertionError\u001b[0m: "
     ]
    }
   ],
   "source": [
    "eggs=input(\"Enter the first word: \").lower()\n",
    "bacon=input(\"Enter the  second word: \").lower()\n",
    "\n",
    "assert eggs!=bacon\n",
    "\n",
    "print('Eggs and bacon not same...')\n",
    "\n"
   ]
  },
  {
   "cell_type": "markdown",
   "id": "1760cf73",
   "metadata": {},
   "source": [
    "### Create an assert statement that throws an AssertionError every time."
   ]
  },
  {
   "cell_type": "code",
   "execution_count": 4,
   "id": "16a4b77a",
   "metadata": {},
   "outputs": [
    {
     "name": "stdout",
     "output_type": "stream",
     "text": [
      "Enter the Number : 5\n"
     ]
    },
    {
     "ename": "AssertionError",
     "evalue": "",
     "output_type": "error",
     "traceback": [
      "\u001b[1;31m---------------------------------------------------------------------------\u001b[0m",
      "\u001b[1;31mAssertionError\u001b[0m                            Traceback (most recent call last)",
      "\u001b[1;32m~\\AppData\\Local\\Temp/ipykernel_5264/3125225850.py\u001b[0m in \u001b[0;36m<module>\u001b[1;34m\u001b[0m\n\u001b[0;32m      1\u001b[0m \u001b[0mspam\u001b[0m \u001b[1;33m=\u001b[0m\u001b[0mint\u001b[0m\u001b[1;33m(\u001b[0m\u001b[0minput\u001b[0m\u001b[1;33m(\u001b[0m\u001b[1;34m\"Enter the Number : \"\u001b[0m\u001b[1;33m)\u001b[0m\u001b[1;33m)\u001b[0m\u001b[1;33m\u001b[0m\u001b[1;33m\u001b[0m\u001b[0m\n\u001b[1;32m----> 2\u001b[1;33m \u001b[1;32massert\u001b[0m \u001b[0mspam\u001b[0m \u001b[1;33m>\u001b[0m \u001b[1;36m0\u001b[0m \u001b[1;32mand\u001b[0m \u001b[0mspam\u001b[0m \u001b[1;33m<\u001b[0m \u001b[1;36m0\u001b[0m\u001b[1;33m\u001b[0m\u001b[1;33m\u001b[0m\u001b[0m\n\u001b[0m\u001b[0;32m      3\u001b[0m \u001b[0mprint\u001b[0m\u001b[1;33m(\u001b[0m\u001b[1;34m'hello world'\u001b[0m\u001b[1;33m)\u001b[0m\u001b[1;33m\u001b[0m\u001b[1;33m\u001b[0m\u001b[0m\n",
      "\u001b[1;31mAssertionError\u001b[0m: "
     ]
    }
   ],
   "source": [
    "spam =int(input(\"Enter the Number : \"))\n",
    "assert spam > 0 and spam < 0 \n",
    "print('hello world')"
   ]
  },
  {
   "cell_type": "markdown",
   "id": "85e94ed3",
   "metadata": {},
   "source": [
    "### 4. What are the two lines that must be present in your software in order to call logging.debug()?"
   ]
  },
  {
   "cell_type": "code",
   "execution_count": 2,
   "id": "3425cb43",
   "metadata": {},
   "outputs": [
    {
     "name": "stderr",
     "output_type": "stream",
     "text": [
      " 27-February-23 | Monday | 18:10:27 PM - DEBUG - Debuging............\n"
     ]
    }
   ],
   "source": [
    "import logging\n",
    "logging.basicConfig(level=logging.DEBUG, format=' %(asctime)s - %(levelname)s - %(message)s', datefmt='%d-%B-%y | %A | %H:%M:%S %p')\n",
    "logging.debug(\"Debuging............\")"
   ]
  },
  {
   "cell_type": "markdown",
   "id": "b3ea11d2",
   "metadata": {},
   "source": [
    "### 5. What are the two lines that your program must have in order to have logging.debug() send a logging message to a file named programLog.txt?"
   ]
  },
  {
   "cell_type": "code",
   "execution_count": 3,
   "id": "277dc565",
   "metadata": {},
   "outputs": [
    {
     "name": "stderr",
     "output_type": "stream",
     "text": [
      " 27-February-23 | Monday | 18:10:34 PM - DEBUG - Debuging............\n"
     ]
    }
   ],
   "source": [
    "import logging\n",
    "logging.basicConfig(filename='programLog.txt',filemode='w',level=logging.DEBUG, format=' %(asctime)s - %(levelname)s - %(message)s', datefmt='%d-%B-%y | %A | %H:%M:%S %p')\n",
    "logging.debug(\"Debuging............\")"
   ]
  },
  {
   "cell_type": "markdown",
   "id": "959635da",
   "metadata": {},
   "source": [
    "### 6. What are the five levels of logging?"
   ]
  },
  {
   "cell_type": "markdown",
   "id": "a957ce35",
   "metadata": {},
   "source": [
    "<span style=\"color:#831010;\"><b>DEBUG, INFO, WARNING, ERROR, and CRITICAL</b></span>"
   ]
  },
  {
   "cell_type": "markdown",
   "id": "542d06b1",
   "metadata": {},
   "source": [
    "### 7. What line of code would you add to your software to disable all logging messages?"
   ]
  },
  {
   "cell_type": "code",
   "execution_count": 4,
   "id": "4a3d5bf0",
   "metadata": {},
   "outputs": [],
   "source": [
    "logging.disable(logging.CRITICAL)"
   ]
  },
  {
   "cell_type": "code",
   "execution_count": 5,
   "id": "7b28dbb0",
   "metadata": {},
   "outputs": [],
   "source": [
    "logging.info(\"Hello World\")"
   ]
  },
  {
   "cell_type": "code",
   "execution_count": 6,
   "id": "6d999868",
   "metadata": {},
   "outputs": [],
   "source": [
    "logging.disable(logging.NOTSET)"
   ]
  },
  {
   "cell_type": "code",
   "execution_count": 7,
   "id": "bcd1858b",
   "metadata": {},
   "outputs": [
    {
     "name": "stderr",
     "output_type": "stream",
     "text": [
      " 27-February-23 | Monday | 18:11:03 PM - INFO - Hello World\n"
     ]
    }
   ],
   "source": [
    "logging.info(\"Hello World\")"
   ]
  },
  {
   "cell_type": "markdown",
   "id": "57d9b417",
   "metadata": {},
   "source": [
    "### 8.Why is using logging messages better than using print() to display the same message?\n",
    "\n",
    "<ol>\n",
    "<li>Logging has different levels of severity that allows you to display log messages according to the level you want. A print statement does not give you that flexibility</li>\n",
    "\n",
    "<li>Logging allows you to direct the log messages to separate files that can then be used for post analysis while the same is not easily available with print statement</li>\n",
    "\n",
    "<li>You can set different log levels at individual code file level as well - some files may have INFO level while some may have DEBUG level</li>\n",
    "</ol>"
   ]
  },
  {
   "cell_type": "markdown",
   "id": "bfb97bdd",
   "metadata": {},
   "source": [
    "### 9. What are the differences between the Step Over, Step In, and Step Out buttons in the debugger?\n",
    "\n",
    "**Step Into**: When the next statement to execute reaches a method call, dont execute the method as a whole, but rather, execute the first line of that method and stop.\n",
    "\n",
    "**Step Over**: When the next statement to execute reaches a method call, execute the method as a whole and stop.\n",
    "\n",
    "**Step Out:** Finish off executing the caller's code and stop when execution returns to the caller\n",
    "\n",
    "\n",
    "### 10.After you click Continue, when will the debugger stop ?\n",
    "\n",
    "**Continue:** Execute up until the next breakpoint\"\n",
    "\n",
    "\n",
    "### 11. What is the concept of a breakpoint?\n",
    "\n",
    "**breakpoint** Interrupt a running program immediately before the execution of a programmer-specified instruction"
   ]
  }
 ],
 "metadata": {
  "kernelspec": {
   "display_name": "base",
   "language": "python",
   "name": "python3"
  },
  "language_info": {
   "codemirror_mode": {
    "name": "ipython",
    "version": 3
   },
   "file_extension": ".py",
   "mimetype": "text/x-python",
   "name": "python",
   "nbconvert_exporter": "python",
   "pygments_lexer": "ipython3",
   "version": "3.9.13"
  },
  "vscode": {
   "interpreter": {
    "hash": "d4d32026e0067de0316c73ac1a8629660854211ed9c19d462c1689f5b4c6c67d"
   }
  }
 },
 "nbformat": 4,
 "nbformat_minor": 5
}
