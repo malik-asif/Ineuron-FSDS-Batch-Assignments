{
 "cells": [
  {
   "cell_type": "markdown",
   "id": "fbb1943a",
   "metadata": {},
   "source": [
    "# \" Assignment 1 \"Python Basic "
   ]
  },
  {
   "cell_type": "markdown",
   "id": "98206e95",
   "metadata": {},
   "source": [
    "<h2>1. In the below elements which of them are values or an expression? eg:- values can be integer or string and expressions will be mathematical operators.\n",
    "\n",
    "<h3><b>*</b></h3>  Expression as it is mathematical operator <br>\n",
    "    \n",
    "<h3><b>'hello'</b> </h3>  Value  as it is string<br>\n",
    "    \n",
    "<h3><b>-87.8</b> </h3> Value as it is integer(float)<br>\n",
    "    \n",
    "<h3><b>-</b></h3>  Expression as it is mathematical operator<br>\n",
    "    \n",
    "<h3><b>/ </b></h3> Expressionas it is mathematical operator<br>\n",
    "    \n",
    "<h3><b>+</b></h3> Expression as it is mathematical operator<br>\n",
    "    \n",
    "<h3><b>6</b></h3> Value as it is integer\n"
   ]
  },
  {
   "cell_type": "markdown",
   "id": "1db12e51",
   "metadata": {},
   "source": [
    "<h2>2. What is the difference between string and variable?</h2>\n",
    "\n",
    "<b>\n",
    "    \n",
    "    String means any value that can be aplhabet or sequence of aplhabet or infact numeric which written inside quotes '' or double quotes \"\" .\n",
    "\n",
    "    varible means a storage box which contains  our   data   and this data can be anything .And if we give any name to our varible than it called varible name as we  all have some names our varible box also have.\n"
   ]
  },
  {
   "cell_type": "code",
   "execution_count": 1,
   "id": "9c62ee76",
   "metadata": {},
   "outputs": [
    {
     "name": "stdout",
     "output_type": "stream",
     "text": [
      "Malik Asif   12\n"
     ]
    }
   ],
   "source": [
    "# String means any value that can be aplhabet or sequence of aplhabet or infact numeric which written inside quotes '' or double quotes \"\" .\n",
    "# varible means a storage box which contains  our   data   and this data can be anything .And if we give any name to our varible than it called varible name as we  all have some names our varible box also have.\n",
    "\n",
    "# lets understand by a example\n",
    "\n",
    "Name= \"Malik Asif\" #  Name (is varible name) is varible which contain string called \"Pooja Das\" \n",
    "Class=\"12\"    #  Class (is varible name) is varible which contain string called \"10\" as string can be anything written inside quotes\"\" or ''\n",
    "\n",
    "print(Name ,\" \", Class)\n"
   ]
  },
  {
   "cell_type": "markdown",
   "id": "8207441e",
   "metadata": {},
   "source": [
    "<h2>3. Describe three different data types.</h2>"
   ]
  },
  {
   "cell_type": "code",
   "execution_count": 3,
   "id": "8aea553e",
   "metadata": {},
   "outputs": [
    {
     "name": "stdout",
     "output_type": "stream",
     "text": [
      "<class 'bool'>\n",
      "<class 'int'>\n",
      "<class 'complex'>\n"
     ]
    }
   ],
   "source": [
    "Present=True # Boolean datatype represent only two value  True(1) or False(0)\n",
    "Class= 100 #integer datatype is a numeric whole no. value that can be  positive por negative but without decimal\n",
    "Id =11+6j  #complex type made with real + imaginary no. (11+6j)\n",
    "\n",
    "print(type(Present))\n",
    "print(type(Class))\n",
    "print(type(Id))"
   ]
  },
  {
   "cell_type": "markdown",
   "id": "f5433bf2",
   "metadata": {},
   "source": [
    "<h2>4. What is an expression made up of? What do all expressions do?</h2>\n",
    "        \n",
    "        Expression  is made up of different numbers, varibles, and opertors and its use PEDMAS  Rule.(Parenthesis Exponents Division Multiplication Addition Subtraction)\n",
    "        \n",
    "        like R=[(a/10)*((a+b)+(b-5)+a)]\n",
    "        \n",
    "        And all expressions evaluate into a single value i.e R in above expression"
   ]
  },
  {
   "cell_type": "code",
   "execution_count": 4,
   "id": "d1032f44",
   "metadata": {},
   "outputs": [
    {
     "name": "stdout",
     "output_type": "stream",
     "text": [
      "2.0\n",
      "30\n",
      "5\n",
      "55\n",
      "[110.0]\n",
      "*****************************************************\n",
      "Expreesion value = [110.0]\n"
     ]
    },
    {
     "data": {
      "text/plain": [
       "list"
      ]
     },
     "execution_count": 4,
     "metadata": {},
     "output_type": "execute_result"
    }
   ],
   "source": [
    "a,b=20,10\n",
    "R=[(a/10)*((a+b)+(b-5)+a)]\n",
    "\n",
    "\n",
    "print(a/10) #20/10=2\n",
    "print(a+b)  #20+10=30\n",
    "print(b-5) #10-5=5\n",
    "print((a+b)+(b-5)+a) #30+5+20=55\n",
    "print([(a/10)*((a+b)+(b-5)+a)])\n",
    "print(\"*****************************************************\")\n",
    "print(\"Expreesion value =\",R) \n",
    "type(R) # List as it is enclosed  with [] "
   ]
  },
  {
   "cell_type": "markdown",
   "id": "bdb072c2",
   "metadata": {},
   "source": [
    "<h2>5. This assignment statements, like spam = 10. What is the difference between an expression and a statement?</h2>\n",
    "        \n",
    "         Expression  is made with value, varible and opertors which evaluated and make a single value  like in  above example\n",
    "         R=[(a/10)*((a+b)+(b-5)+a)] where expression evaluate into single value tht is R (110)\n",
    "         \n",
    "         but Statement does not evaluate like R=110 as 110 is assign to R  but in above example expression  evaluate and give R value as 110\n",
    "    "
   ]
  },
  {
   "cell_type": "markdown",
   "id": "09707019",
   "metadata": {},
   "source": [
    "<h2>6. After running the following code, what does the variable bacon contain?<br>\n",
    "bacon = 22<br>\n",
    "bacon + 1</h2>\n"
   ]
  },
  {
   "cell_type": "code",
   "execution_count": 4,
   "id": "fd2fffdb",
   "metadata": {},
   "outputs": [
    {
     "data": {
      "text/plain": [
       "23"
      ]
     },
     "execution_count": 4,
     "metadata": {},
     "output_type": "execute_result"
    }
   ],
   "source": [
    "bacon = 22 # 22 assign to bacon\n",
    "bacon + 1 #22+1=23"
   ]
  },
  {
   "cell_type": "markdown",
   "id": "ffbd3c08",
   "metadata": {},
   "source": [
    "<h2>7. What should the values of the following two terms be?<br>\n",
    "'spam' + 'spamspam'<br>\n",
    "'spam' * 3</h2>\n"
   ]
  },
  {
   "cell_type": "code",
   "execution_count": 5,
   "id": "97c9e8cc",
   "metadata": {},
   "outputs": [
    {
     "name": "stdout",
     "output_type": "stream",
     "text": [
      "spamspamspam\n",
      "spamspamspam\n"
     ]
    }
   ],
   "source": [
    "print('spam' + 'spamspam') # both perfrom concatenation and give same result\n",
    "print('spam' * 3)"
   ]
  },
  {
   "attachments": {},
   "cell_type": "markdown",
   "id": "178b2b92",
   "metadata": {},
   "source": [
    "<h2>8. Why is eggs a valid variable name while 100 is invalid?</h2>\n",
    "        \n",
    "        Because giving varible name it have some rules which we have to follow like<br>\n",
    "        1. Varible can only start with string or it can be follow by underscore(_) like _eggs\n",
    "        2. can't start with number  but  it can be follow by string like eggs100 \n",
    "        3. can't be a keyword  like while , for , is , True,print,else  or etc\n",
    "        4. can't contains symbol like @,#,%,$ , but can contain _\n",
    "        5. no space between varible for space purpose we can use _ like eggs_100"
   ]
  },
  {
   "cell_type": "code",
   "execution_count": 6,
   "id": "97c7700c",
   "metadata": {},
   "outputs": [],
   "source": [
    "#valid varible name\n",
    "eggs=10\n",
    "_eggs=10\n",
    "eggs_100=10\n",
    "eggs100=10\n"
   ]
  },
  {
   "cell_type": "code",
   "execution_count": 7,
   "id": "eb5cef0f",
   "metadata": {},
   "outputs": [
    {
     "ename": "SyntaxError",
     "evalue": "cannot assign to operator (Temp/ipykernel_9480/403764228.py, line 2)",
     "output_type": "error",
     "traceback": [
      "\u001b[1;36m  File \u001b[1;32m\"C:\\Users\\HP\\AppData\\Local\\Temp/ipykernel_9480/403764228.py\"\u001b[1;36m, line \u001b[1;32m2\u001b[0m\n\u001b[1;33m    eggs@10=10 # no symbols\u001b[0m\n\u001b[1;37m    ^\u001b[0m\n\u001b[1;31mSyntaxError\u001b[0m\u001b[1;31m:\u001b[0m cannot assign to operator\n"
     ]
    }
   ],
   "source": [
    "# not valid name\n",
    "eggs@10=10 # no symbols"
   ]
  },
  {
   "cell_type": "code",
   "execution_count": null,
   "id": "eceb5592",
   "metadata": {},
   "outputs": [],
   "source": [
    "100=10 #no number"
   ]
  },
  {
   "cell_type": "code",
   "execution_count": 8,
   "id": "d6047dfb",
   "metadata": {},
   "outputs": [
    {
     "ename": "SyntaxError",
     "evalue": "invalid syntax (Temp/ipykernel_9480/3749558879.py, line 1)",
     "output_type": "error",
     "traceback": [
      "\u001b[1;36m  File \u001b[1;32m\"C:\\Users\\HP\\AppData\\Local\\Temp/ipykernel_9480/3749558879.py\"\u001b[1;36m, line \u001b[1;32m1\u001b[0m\n\u001b[1;33m    while=100 # keywords we can see color also if it black than only valid if it   dark green  means it keyword\u001b[0m\n\u001b[1;37m         ^\u001b[0m\n\u001b[1;31mSyntaxError\u001b[0m\u001b[1;31m:\u001b[0m invalid syntax\n"
     ]
    }
   ],
   "source": [
    "while=100 # keywords we can see color also if it black than only valid if it   dark green  means it keyword"
   ]
  },
  {
   "cell_type": "markdown",
   "id": "ba094c9c",
   "metadata": {},
   "source": [
    "<h2>9. What three functions can be used to get the integer, floating-point number, or string version of a value?</h2>\n",
    "        \n",
    "        int() for integer\n",
    "        float() for floating-point number\n",
    "        str() for string"
   ]
  },
  {
   "cell_type": "code",
   "execution_count": 9,
   "id": "d392a510",
   "metadata": {
    "scrolled": true
   },
   "outputs": [
    {
     "name": "stdout",
     "output_type": "stream",
     "text": [
      "********************************Integer***************************\n",
      "Integer is  100\n",
      "<class 'int'>\n",
      "********************************Floating-point number***************************\n",
      "Floating-point number is  100.0\n",
      "<class 'float'>\n",
      "********************************STRING***************************\n",
      "String is  100.0\n",
      "<class 'str'>\n"
     ]
    }
   ],
   "source": [
    "A=\"100\"\n",
    "print(\"********************************Integer***************************\")\n",
    "B=int(A)\n",
    "print(\"Integer is \",B)\n",
    "print(type(B))\n",
    "print(\"********************************Floating-point number***************************\")\n",
    "A=float(B)\n",
    "print(\"Floating-point number is \",A)\n",
    "print(type(A))\n",
    "print(\"********************************STRING***************************\")\n",
    "B=str(A)\n",
    "print(\"String is \",B)\n",
    "print(type(B))"
   ]
  },
  {
   "cell_type": "markdown",
   "id": "8c6e9c9e",
   "metadata": {},
   "source": [
    "<h2>10. Why does this expression cause an error? How can you fix it?<br>\n",
    "'I have eaten ' + 99 + ' burritos.'</h2>\n",
    "        \n",
    "        It cause error because we can't concatenate string with integer for that we need to typecaste integer into string by str()\n"
   ]
  },
  {
   "cell_type": "code",
   "execution_count": 10,
   "id": "37b4b630",
   "metadata": {},
   "outputs": [
    {
     "name": "stdout",
     "output_type": "stream",
     "text": [
      "I have eaten 99 burritos\n"
     ]
    }
   ],
   "source": [
    "print('I have eaten ' + str(99) + ' burritos')"
   ]
  }
 ],
 "metadata": {
  "kernelspec": {
   "display_name": "base",
   "language": "python",
   "name": "python3"
  },
  "language_info": {
   "codemirror_mode": {
    "name": "ipython",
    "version": 3
   },
   "file_extension": ".py",
   "mimetype": "text/x-python",
   "name": "python",
   "nbconvert_exporter": "python",
   "pygments_lexer": "ipython3",
   "version": "3.9.13"
  },
  "vscode": {
   "interpreter": {
    "hash": "d4d32026e0067de0316c73ac1a8629660854211ed9c19d462c1689f5b4c6c67d"
   }
  }
 },
 "nbformat": 4,
 "nbformat_minor": 5
}
