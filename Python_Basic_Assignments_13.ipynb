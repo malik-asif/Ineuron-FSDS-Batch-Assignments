{
 "cells": [
  {
   "cell_type": "markdown",
   "id": "ab3b5120",
   "metadata": {},
   "source": [
    "# Assignment 13 'Python basic'"
   ]
  },
  {
   "cell_type": "markdown",
   "id": "85256487",
   "metadata": {},
   "source": [
    "### 1. What advantages do Excel spreadsheets have over CSV spreadsheets?\n",
    "\n",
    "Excel spreadsheet have many of the features over CSV. For example, Excel files:\n",
    "\n",
    "* Do have types for their values—everything is a string\n",
    "* Do have settings for font size or color\n",
    "* Do have multiple worksheets\n",
    "* Can specify cell widths and heights\n",
    "* Can have merged cells\n",
    "* Can have images or charts embedded in them\n",
    "\n",
    "### 2.What do you pass to csv.reader() and csv.writer() to create reader and writer objects?\n",
    "\n",
    "To write a CSV file with the csv module, First, call open() and pass it 'w' to open a file in write mode, and  it create a object .That object  pass in csv.writer()\n",
    "\n",
    ">write_file = open('filename.csv','w')<br>\n",
    ">Writer = csv.writer(write_file)\n",
    "\n",
    "To read a CSV file with the csv module, first open it using the open() function  and  it create a object .That object  pass in csv.reader()\n",
    "\n",
    ">read_file = open('filename.csv')<br>\n",
    ">Reader = csv.reader(read_file)\n",
    "\n",
    "\n",
    "### 3.What modes do File objects for reader and writer objects need to be opened in?\n",
    "\n",
    "File objects need to be opened in read-binary ('rb') for Reader objects and write-binary ('wb') for Writer objects.\n",
    "\n",
    "\n",
    "### 4. What method takes a list argument and writes it to a CSV file?\n",
    "\n",
    "The writerow() method\n",
    "\n",
    ">write_file = open('filename.csv','w')<br>\n",
    ">Writer = csv.writer(write_file)<br>\n",
    ">Writer.writerow(['pooja','das','hello'])\n",
    "\n",
    "### 5. What do the keyword arguments delimiter and line terminator do?\n",
    "\n",
    "The `delimiter` argument changes the string used to separate cells in a row.<br>\n",
    "\n",
    "The `lineterminator` argument changes the string used to separate rows.\n",
    "\n",
    "### 6. What function takes a string of JSON data and returns a Python data structure?\n",
    "\n",
    "json.loads()\n",
    "\n",
    "\n",
    "### 7. What function takes a Python data structure and returns a string of JSON data?\n",
    "\n",
    "json.dumps()\n",
    "\n"
   ]
  }
 ],
 "metadata": {
  "kernelspec": {
   "display_name": "Python 3 (ipykernel)",
   "language": "python",
   "name": "python3"
  },
  "language_info": {
   "codemirror_mode": {
    "name": "ipython",
    "version": 3
   },
   "file_extension": ".py",
   "mimetype": "text/x-python",
   "name": "python",
   "nbconvert_exporter": "python",
   "pygments_lexer": "ipython3",
   "version": "3.9.7"
  }
 },
 "nbformat": 4,
 "nbformat_minor": 5
}
