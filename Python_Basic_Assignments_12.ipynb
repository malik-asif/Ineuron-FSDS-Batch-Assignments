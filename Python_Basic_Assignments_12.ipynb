{
 "cells": [
  {
   "cell_type": "markdown",
   "id": "b8b67ff0",
   "metadata": {},
   "source": [
    "# Assignment 12 'Python basic'"
   ]
  },
  {
   "cell_type": "markdown",
   "id": "b8beb70f",
   "metadata": {},
   "source": [
    "### 1. In what modes should the PdfFileReader() and PdfFileWriter() File objects will be opened?\n",
    "\n",
    "Read-binary ('rb') for PdfFileReader() and write-binary ('wb') for PdfFileWriter()\n",
    "\n",
    "### 2. From a PdfFileReader object, how do you get a Page object for page 5?.\n",
    "\n",
    "Calling pdfReader.getPage(4) will return a Page object , since page 0 is the first page.\n",
    "\n",
    "### 3. What PdfFileReader variable stores the number of pages in the PDF document?\n",
    "\n",
    "The number_of_Pages variable stores an integer of the number of pages in the PdfFileReader object.\n",
    "\n",
    "### 4. If a PdfFileReader object’s PDF is encrypted with the password swordfish, what must you do before you can obtain Page objects from it?\n",
    "\n",
    " By Calling  pdfReader.decrypt('swordfish')\n",
    "\n",
    "### 5. What methods do you use to rotate a page?\n",
    "\n",
    "The rotateClockwise() and rotateCounterClockwise() methods. The degrees to rotate is passed as an integer argument.\n",
    "\n",
    "### 6. What is the difference between a Run object and a Paragraph object?\n",
    "\n",
    "A document contains multiple paragraphs. A paragraph begins on a new line and contains multiple runs. Runs are contiguous groups of characters within a paragraph.\n",
    "\n",
    "### 7. How do you obtain a list of Paragraph objects for a Document object that’s stored in a variable named doc?\n",
    "\n",
    "By using  `doc.paragraphs`.\n",
    "\n",
    "### 8. What type of object has bold, underline, italic, strike, and outline variables?\n",
    "\n",
    "A Run object has these variables (not a Paragraph).\n",
    "\n",
    "### 9. What is the difference between False, True, and None for the bold variable?\n",
    "\n",
    "`True` always makes the Run object bolded.<br>\n",
    "`False` makes it always not bolded, no matter what the style’s bold setting is. <br>\n",
    "`None` will make the Run object just use the style’s bold setting.\n",
    "\n",
    "\n",
    "### 10. How do you create a Document object for a new Word document?\n",
    "\n",
    "By Calling  docx.Document().\n",
    "\n",
    "### 11. How do you add a paragraph with the text &#39;Hello, there!&#39; to a Document object stored in a variable named doc?\n",
    "\n",
    "doc.add_paragraph('Hello there!')\n",
    "\n",
    "### 12. What integers represent the levels of headings available in Word documents?\n",
    "\n",
    "The integers 0, 1, 2, 3, and 4"
   ]
  },
  {
   "cell_type": "code",
   "execution_count": null,
   "id": "f175fb46",
   "metadata": {},
   "outputs": [],
   "source": []
  }
 ],
 "metadata": {
  "kernelspec": {
   "display_name": "Python 3 (ipykernel)",
   "language": "python",
   "name": "python3"
  },
  "language_info": {
   "codemirror_mode": {
    "name": "ipython",
    "version": 3
   },
   "file_extension": ".py",
   "mimetype": "text/x-python",
   "name": "python",
   "nbconvert_exporter": "python",
   "pygments_lexer": "ipython3",
   "version": "3.9.12"
  }
 },
 "nbformat": 4,
 "nbformat_minor": 5
}
