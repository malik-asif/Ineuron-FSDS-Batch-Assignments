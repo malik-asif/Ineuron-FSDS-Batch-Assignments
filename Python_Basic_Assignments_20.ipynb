{
 "cells": [
  {
   "cell_type": "markdown",
   "id": "e8023223",
   "metadata": {},
   "source": [
    "# Assignment 20 'Python basic'"
   ]
  },
  {
   "cell_type": "markdown",
   "id": "51e1df6d",
   "metadata": {},
   "source": [
    "### 1. Set the variable test1 to the string &#39;This is a test of the emergency text system,&#39; and save test1 to a file named test.txt."
   ]
  },
  {
   "cell_type": "code",
   "execution_count": 1,
   "id": "708df204",
   "metadata": {},
   "outputs": [],
   "source": [
    "test1 ='This is a test of the emergency text system'\n",
    "with open('test.txt','w') as f:\n",
    "    f.write(test1)"
   ]
  },
  {
   "cell_type": "markdown",
   "id": "440001fa",
   "metadata": {},
   "source": [
    "### 2. Read the contents of the file test.txt into the variable test2. Is there a difference between test 1 and test 2?"
   ]
  },
  {
   "cell_type": "code",
   "execution_count": 2,
   "id": "5376914d",
   "metadata": {},
   "outputs": [
    {
     "name": "stdout",
     "output_type": "stream",
     "text": [
      "This is a test of the emergency text system\n",
      "\n",
      "\n",
      "test1 and test2 is same : True\n"
     ]
    }
   ],
   "source": [
    "with open('test.txt','r') as f:\n",
    "    test2 = f.read()\n",
    "    \n",
    "print(test2)\n",
    "\n",
    "print(\"\\n\\ntest1 and test2 is same :\", test1==test2)"
   ]
  },
  {
   "cell_type": "markdown",
   "id": "fc21f441",
   "metadata": {},
   "source": [
    "### 3. Create a CSV file called books.csv by using these lines:\n",
    "**title,author,year<br>\n",
    "The Weirdstone of Brisingamen,Alan Garner,1960<br>\n",
    "Perdido Street Station,China Miéville,2000<br>\n",
    "Thud!,Terry Pratchett,2005<br>\n",
    "The Spellman Files,Lisa Lutz,2007<br>\n",
    "Small Gods,Terry Pratchett,1992**"
   ]
  },
  {
   "cell_type": "code",
   "execution_count": 3,
   "id": "f3a660dc",
   "metadata": {},
   "outputs": [],
   "source": [
    "text_file=\"\"\"title,author,year\n",
    "The Weirdstone of Brisingamen,Alan Garner,1960\n",
    "Perdido Street Station,China Miéville,2000\n",
    "Thud!,Terry Pratchett,2005\n",
    "The Spellman Files,Lisa Lutz,2007\n",
    "Small Gods,Terry Pratchett,1992\"\"\"\n",
    "\n",
    "with open('books.csv',mode='w',encoding='UTF-8') as f:\n",
    "    f.write(text_file)\n"
   ]
  },
  {
   "cell_type": "markdown",
   "id": "fa5fcd03",
   "metadata": {},
   "source": [
    "### 4. Use the sqlite3 module to create a SQLite database called books.db, and a table called books with these fields: title (text), author (text), and year (integer)."
   ]
  },
  {
   "cell_type": "code",
   "execution_count": 4,
   "id": "d9bac389",
   "metadata": {},
   "outputs": [
    {
     "name": "stdout",
     "output_type": "stream",
     "text": [
      "Connection Established !! \n",
      "table books already exists\n"
     ]
    }
   ],
   "source": [
    "import sqlite3\n",
    "con = sqlite3.connect(\"books.db\")  # connection has been created\n",
    "print(\"Connection Established !! \")\n",
    "try:\n",
    "    cur =con.cursor()\n",
    "    \n",
    "    query=\"\"\" CREATE TABLE books(\n",
    "    name text, author text, year integer\n",
    "    )\n",
    "    \"\"\"  # Table create\n",
    "    cur.execute(query)\n",
    "    con.commit()\n",
    "    con.close()\n",
    "\n",
    "\n",
    "except Exception as e:\n",
    "    print(e)"
   ]
  },
  {
   "cell_type": "markdown",
   "id": "68a94e5a",
   "metadata": {},
   "source": [
    "### 5. Read books.csv and insert its data into the book table."
   ]
  },
  {
   "cell_type": "code",
   "execution_count": 5,
   "id": "1ca85ab9",
   "metadata": {},
   "outputs": [
    {
     "name": "stdout",
     "output_type": "stream",
     "text": [
      "Connection Established !! \n",
      "database is locked\n"
     ]
    }
   ],
   "source": [
    "import csv\n",
    "import sqlite3\n",
    "con = sqlite3.connect(\"books.db\")  # connection has been created\n",
    "print(\"Connection Established !! \")\n",
    "try:\n",
    "    with open('books.csv', 'rt') as f:\n",
    "        books = csv.DictReader(f)\n",
    "        \n",
    "        for book in books:\n",
    "            query = f\"INSERT INTO books VALUES ('{book['title']}','{book['author']}',{book['year']})\"\n",
    "            cur = con.cursor()\n",
    "            cur.execute(query)\n",
    "            con.commit()    \n",
    "    con.close()\n",
    "    print(\"Sucessfully insert \")\n",
    "except Exception as e:\n",
    "    print(e)\n"
   ]
  },
  {
   "cell_type": "markdown",
   "id": "bf2c6018",
   "metadata": {},
   "source": [
    "### 6. Select and print the title column from the book table in alphabetical order."
   ]
  },
  {
   "cell_type": "code",
   "execution_count": 6,
   "id": "84594495",
   "metadata": {},
   "outputs": [
    {
     "name": "stdout",
     "output_type": "stream",
     "text": [
      "Connection Established !! \n",
      "Perdido Street Station\n",
      "Small Gods\n",
      "The Spellman Files\n",
      "The Weirdstone of Brisingamen\n",
      "Thud!\n"
     ]
    }
   ],
   "source": [
    "con = sqlite3.connect(\"books.db\")  # connection has been created\n",
    "print(\"Connection Established !! \")\n",
    "try:\n",
    "    query = 'SELECT name FROM books order by name asc;'\n",
    "    cur = con.cursor()\n",
    "    cur.execute(query)\n",
    "    for i in cur.fetchall():\n",
    "        print(i[0])\n",
    "    \n",
    "                \n",
    "    con.close()\n",
    "    \n",
    "except Exception as e:\n",
    "    print(e)\n",
    "\n",
    "\n"
   ]
  },
  {
   "cell_type": "markdown",
   "id": "4bb8791f",
   "metadata": {},
   "source": [
    "### 7. From the book table, select and print all columns in the order of publication."
   ]
  },
  {
   "cell_type": "code",
   "execution_count": 7,
   "id": "a5f69f54",
   "metadata": {},
   "outputs": [
    {
     "name": "stdout",
     "output_type": "stream",
     "text": [
      "Connection Established !! \n",
      "The Weirdstone of Brisingamen , Alan Garner , 1960\n",
      "Small Gods , Terry Pratchett , 1992\n",
      "Perdido Street Station , China MiÃ©ville , 2000\n",
      "Thud! , Terry Pratchett , 2005\n",
      "The Spellman Files , Lisa Lutz , 2007\n"
     ]
    }
   ],
   "source": [
    "con = sqlite3.connect(\"books.db\")  # connection has been created\n",
    "print(\"Connection Established !! \")\n",
    "try:\n",
    "    query = 'SELECT * FROM books order by year ;'\n",
    "    cur = con.cursor()\n",
    "    cur.execute(query)\n",
    "    for i in cur.fetchall():\n",
    "        print(*i,sep=' , ')\n",
    "                \n",
    "    con.close()\n",
    "    \n",
    "except Exception as e:\n",
    "    print(e)"
   ]
  },
  {
   "cell_type": "markdown",
   "id": "8d1e3ab2",
   "metadata": {},
   "source": [
    "### 8. Use the sqlalchemy module to connect to the sqlite3 database books.db that you just made in exercise 6."
   ]
  },
  {
   "cell_type": "code",
   "execution_count": 8,
   "id": "8530e926",
   "metadata": {},
   "outputs": [
    {
     "name": "stdout",
     "output_type": "stream",
     "text": [
      "Perdido Street Station\n",
      "Small Gods\n",
      "The Spellman Files\n",
      "The Weirdstone of Brisingamen\n",
      "Thud!\n"
     ]
    }
   ],
   "source": [
    "import sqlalchemy\n",
    "conn = sqlalchemy.create_engine('sqlite:///books.db')\n",
    "query = 'select name from books order by name asc' \n",
    "for row in conn.execute(query):\n",
    "    print(row[0])"
   ]
  },
  {
   "cell_type": "markdown",
   "id": "48276a06",
   "metadata": {},
   "source": [
    "### 9. Install the Redis server and the Python redis library (pip install redis) on your computer. Create a Redis hash called test with the fields count (1) and name (&#39;Fester Bestertester&#39;). Print all the fields for test."
   ]
  },
  {
   "cell_type": "code",
   "execution_count": 9,
   "id": "57822c47",
   "metadata": {},
   "outputs": [
    {
     "name": "stdout",
     "output_type": "stream",
     "text": [
      "Requirement already satisfied: redis in c:\\programdata\\anaconda3\\lib\\site-packages (4.3.4)\n",
      "Requirement already satisfied: packaging>=20.4 in c:\\programdata\\anaconda3\\lib\\site-packages (from redis) (21.0)\n",
      "Requirement already satisfied: async-timeout>=4.0.2 in c:\\programdata\\anaconda3\\lib\\site-packages (from redis) (4.0.2)\n",
      "Requirement already satisfied: deprecated>=1.2.3 in c:\\programdata\\anaconda3\\lib\\site-packages (from redis) (1.2.13)\n",
      "Requirement already satisfied: wrapt<2,>=1.10 in c:\\programdata\\anaconda3\\lib\\site-packages (from deprecated>=1.2.3->redis) (1.12.1)\n",
      "Requirement already satisfied: pyparsing>=2.0.2 in c:\\programdata\\anaconda3\\lib\\site-packages (from packaging>=20.4->redis) (3.0.4)\n"
     ]
    }
   ],
   "source": [
    "!pip install redis"
   ]
  },
  {
   "cell_type": "code",
   "execution_count": null,
   "id": "c4f183ae",
   "metadata": {},
   "outputs": [],
   "source": [
    "import redis\n",
    "conn = redis.Redis()\n",
    "conn.delete('test')\n",
    "conn.hmset('test', {'count': 1, 'name': 'Fester Bestertester'})\n",
    "conn.hgetall('test')"
   ]
  },
  {
   "cell_type": "markdown",
   "id": "1161a08d",
   "metadata": {},
   "source": [
    "### 10. Increment the count field of test and print it."
   ]
  },
  {
   "cell_type": "code",
   "execution_count": null,
   "id": "02aa6117",
   "metadata": {},
   "outputs": [],
   "source": [
    "conn.hincrby('test', 'count', 3)"
   ]
  },
  {
   "cell_type": "code",
   "execution_count": null,
   "id": "a7f4f4a5",
   "metadata": {},
   "outputs": [],
   "source": [
    "conn.hget('test', 'count')"
   ]
  }
 ],
 "metadata": {
  "kernelspec": {
   "display_name": "Python 3 (ipykernel)",
   "language": "python",
   "name": "python3"
  },
  "language_info": {
   "codemirror_mode": {
    "name": "ipython",
    "version": 3
   },
   "file_extension": ".py",
   "mimetype": "text/x-python",
   "name": "python",
   "nbconvert_exporter": "python",
   "pygments_lexer": "ipython3",
   "version": "3.9.7"
  }
 },
 "nbformat": 4,
 "nbformat_minor": 5
}
