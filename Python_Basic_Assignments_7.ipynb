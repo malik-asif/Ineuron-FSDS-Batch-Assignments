{
 "cells": [
  {
   "cell_type": "markdown",
   "id": "00117331",
   "metadata": {},
   "source": [
    "# Assignment 7 'Python basic'"
   ]
  },
  {
   "cell_type": "code",
   "execution_count": 34,
   "id": "2b52c1f4",
   "metadata": {},
   "outputs": [],
   "source": [
    "import re"
   ]
  },
  {
   "cell_type": "markdown",
   "id": "c21ca958",
   "metadata": {},
   "source": [
    "### 1. What is the name of the feature responsible for generating Regex objects?\n",
    "    \n",
    "    The re.compile() function returns Regex objects."
   ]
  },
  {
   "cell_type": "code",
   "execution_count": 35,
   "id": "3b02de28",
   "metadata": {},
   "outputs": [
    {
     "name": "stdout",
     "output_type": "stream",
     "text": [
      "re.compile('[RHS]at')\n",
      "\n",
      " ['Rat', 'Hat', 'Sat']\n"
     ]
    }
   ],
   "source": [
    "#The re.compile() function returns Regex objects.\n",
    "string=\"Rat Cat Mat Hat Sat Pat Qat\"\n",
    "\n",
    "patt=re.compile(\"[RHS]at\")\n",
    "print(patt)\n",
    "\n",
    "new_string=patt.findall(string)\n",
    "print(\"\\n\",new_string)"
   ]
  },
  {
   "cell_type": "markdown",
   "id": "5c715cd4",
   "metadata": {},
   "source": [
    "### 2. Why do raw strings often appear in Regex objects?\n",
    "    \n",
    "    Raw strings are used so that backslashes do not have to be escaped.\n",
    "\n"
   ]
  },
  {
   "cell_type": "code",
   "execution_count": 36,
   "id": "0589c727",
   "metadata": {},
   "outputs": [
    {
     "name": "stdout",
     "output_type": "stream",
     "text": [
      " Sachin scores 788 and \n",
      " Dravid scores 50 and Rohit score 78\n",
      "and Dhoni scores 99 \n",
      "\n",
      "['Sachin', 'Dravid', 'Rohit', 'Dhoni']\n"
     ]
    }
   ],
   "source": [
    "crick_score=\"\"\" Sachin scores 788 and \\n Dravid scores 50 and Rohit score 78\n",
    "and Dhoni scores 99\"\"\"\n",
    "\n",
    "print(crick_score,\"\\n\")\n",
    "\n",
    "name=re.findall(r\"[A-Z][a-z]*\",crick_score)\n",
    "print(name) \n",
    "\n"
   ]
  },
  {
   "cell_type": "markdown",
   "id": "79d4e53e",
   "metadata": {},
   "source": [
    "### 3. What is the return value of the search() method?\n",
    "\n",
    "    The search() method returns Match objects.\n"
   ]
  },
  {
   "cell_type": "code",
   "execution_count": 37,
   "id": "0ea17aa5",
   "metadata": {},
   "outputs": [
    {
     "name": "stdout",
     "output_type": "stream",
     "text": [
      "<re.Match object; span=(1, 7), match='Sachin'>\n"
     ]
    }
   ],
   "source": [
    "name=re.search(r\"[A-Z][a-z]*\",crick_score)\n",
    "print(name) \n"
   ]
  },
  {
   "cell_type": "markdown",
   "id": "a9516162",
   "metadata": {},
   "source": [
    "### 4. From a Match item, how do you get the actual strings that match the pattern?\n",
    "\n",
    "    The group() method returns strings of the matched text."
   ]
  },
  {
   "cell_type": "code",
   "execution_count": 38,
   "id": "467ed64c",
   "metadata": {},
   "outputs": [
    {
     "name": "stdout",
     "output_type": "stream",
     "text": [
      "Phone number found: +91-9874635245\n"
     ]
    }
   ],
   "source": [
    "phone=\"+91-9874635245\"\n",
    "\n",
    "patt=re.compile(r'\\+(\\d\\d)-(\\d\\d\\d\\d\\d\\d\\d\\d\\d\\d)')\n",
    "mo = patt.search(phone)\n",
    "print('Phone number found: ' + mo.group())\n"
   ]
  },
  {
   "cell_type": "markdown",
   "id": "807a7cdb",
   "metadata": {},
   "source": [
    "### 5. In the regex which created from the r&#39;(\\d\\d\\d)-(\\d\\d\\d-\\d\\d\\d\\d)&#39;, what does group zero cover?Group 2? Group 1?"
   ]
  },
  {
   "cell_type": "code",
   "execution_count": 39,
   "id": "a629244b",
   "metadata": {},
   "outputs": [
    {
     "name": "stdout",
     "output_type": "stream",
     "text": [
      "group 0 cover: 981-856-4231\n",
      "group 1 cover: 981\n",
      "group 2 cover: 856-4231\n"
     ]
    }
   ],
   "source": [
    "phone=\"981-856-4231\"\n",
    "\n",
    "patt=re.compile(r'(\\d\\d\\d)-(\\d\\d\\d-\\d\\d\\d\\d)')\n",
    "mo = patt.search(phone)\n",
    "print('group 0 cover: ' + mo.group(0))\n",
    "print('group 1 cover: ' + mo.group(1))\n",
    "print('group 2 cover: ' + mo.group(2))"
   ]
  },
  {
   "cell_type": "markdown",
   "id": "9fe3efd3",
   "metadata": {},
   "source": [
    "### 6. In standard expression syntax, parentheses and intervals have distinct meanings. How can you tell a regex that you want it to fit real parentheses and periods?\n",
    "\n",
    "    Periods and parentheses can be escaped with a backslash: \\., \\(, and \\)."
   ]
  },
  {
   "cell_type": "code",
   "execution_count": 40,
   "id": "9de60fed",
   "metadata": {},
   "outputs": [
    {
     "data": {
      "text/plain": [
       "['(', ')', '.']"
      ]
     },
     "execution_count": 40,
     "metadata": {},
     "output_type": "execute_result"
    }
   ],
   "source": [
    "email=\"ab(c)@gmail.com\"\n",
    "re.findall(r\"[\\( \\) \\.]\",email)"
   ]
  },
  {
   "cell_type": "markdown",
   "id": "045a4fea",
   "metadata": {},
   "source": [
    "### 7. The findall() method returns a string list or a list of string tuples. What causes it to return one of the two options?\n",
    "\n",
    "    If the regex has no groups, a list of strings is returned. If the regex has groups, a list of tuples of strings is returned."
   ]
  },
  {
   "cell_type": "code",
   "execution_count": 41,
   "id": "abc135df",
   "metadata": {},
   "outputs": [
    {
     "data": {
      "text/plain": [
       "'Rat Cat Mat Hat Sat Pat Qat'"
      ]
     },
     "execution_count": 41,
     "metadata": {},
     "output_type": "execute_result"
    }
   ],
   "source": [
    "string"
   ]
  },
  {
   "cell_type": "code",
   "execution_count": 42,
   "id": "8d6be555",
   "metadata": {},
   "outputs": [
    {
     "name": "stdout",
     "output_type": "stream",
     "text": [
      "['Rat', 'Sat', 'Pat']\n",
      "[('981', '856-4231')]\n"
     ]
    }
   ],
   "source": [
    "#list\n",
    "print(re.findall(r\"[RSP]at\",string))\n",
    "\n",
    "#tuple\n",
    "phone=\"981-856-4231\"\n",
    "\n",
    "# patt=re.compile(r'(\\d\\d\\d)-(\\d\\d\\d-\\d\\d\\d\\d)')\n",
    "print(patt.findall(phone))"
   ]
  },
  {
   "cell_type": "markdown",
   "id": "fe863de4",
   "metadata": {},
   "source": [
    "### 8. In standard expressions, what does the | character mean?\n",
    "     | means `either, or` "
   ]
  },
  {
   "cell_type": "code",
   "execution_count": 43,
   "id": "3ebb09de",
   "metadata": {},
   "outputs": [
    {
     "data": {
      "text/plain": [
       "'Rat Cat Mat Hat Sat Pat Qat'"
      ]
     },
     "execution_count": 43,
     "metadata": {},
     "output_type": "execute_result"
    }
   ],
   "source": [
    "string"
   ]
  },
  {
   "cell_type": "code",
   "execution_count": 44,
   "id": "7732b4ba",
   "metadata": {},
   "outputs": [
    {
     "name": "stdout",
     "output_type": "stream",
     "text": [
      "['Rat']\n"
     ]
    }
   ],
   "source": [
    "print(re.findall(r\"[B|JKR]at\",string))\n"
   ]
  },
  {
   "cell_type": "markdown",
   "id": "31cd8598",
   "metadata": {},
   "source": [
    "### 9. In regular expressions, what does the character stand for?\n",
    "\n",
    "    The ? character can either mean “match zero or one\""
   ]
  },
  {
   "cell_type": "code",
   "execution_count": 45,
   "id": "e75d2591",
   "metadata": {},
   "outputs": [],
   "source": [
    "string=\"\"\"one\n",
    "oneo two\n",
    "o o\"\"\""
   ]
  },
  {
   "cell_type": "code",
   "execution_count": 46,
   "id": "6a19a08b",
   "metadata": {},
   "outputs": [
    {
     "name": "stdout",
     "output_type": "stream",
     "text": [
      "['on']\n"
     ]
    }
   ],
   "source": [
    "print(re.findall(r\"^o?[ne]\",string))\n"
   ]
  },
  {
   "cell_type": "markdown",
   "id": "34287c51",
   "metadata": {},
   "source": [
    "### 10.In regular expressions, what is the difference between the + and * characters?\n",
    "\n",
    "    0 or more occurances: *\n",
    "    1 or more occurances: +"
   ]
  },
  {
   "cell_type": "code",
   "execution_count": 60,
   "id": "a4e42c01",
   "metadata": {},
   "outputs": [
    {
     "name": "stdout",
     "output_type": "stream",
     "text": [
      "['moo']\n",
      "['moo']\n"
     ]
    }
   ],
   "source": [
    "s=\"moojaMOOJA\"\n",
    "print(re.findall(r\"[A-Za-z][o*]{2}\",s))\n",
    "print(re.findall(r\"[A-Za-z][o+]{2}\",s))"
   ]
  },
  {
   "cell_type": "markdown",
   "id": "a8d71eaf",
   "metadata": {},
   "source": [
    "### 11. What is the difference between {4} and {4,5} in regular expression?\n",
    "\n",
    "    Range of number of characters: {Minimum, Maximum}\n",
    "    \n",
    "    {4} means minimum 4 character\n",
    "    {4,5} means minimum 4 and maximum 5 character"
   ]
  },
  {
   "cell_type": "code",
   "execution_count": 48,
   "id": "bcdc40a1",
   "metadata": {},
   "outputs": [
    {
     "name": "stdout",
     "output_type": "stream",
     "text": [
      "['mali', 'kMAL']\n",
      "['malik', 'MALIK']\n"
     ]
    }
   ],
   "source": [
    "s=\"malikMALIK\"\n",
    "print(re.findall(r\"[A-Za-z]{4}\",s))\n",
    "print(re.findall(r\"[A-Za-z]{4,5}\",s))"
   ]
  },
  {
   "cell_type": "markdown",
   "id": "59b4920b",
   "metadata": {},
   "source": [
    "### 12. What do you mean by the \\d, \\w, and \\s shorthand character classes signify in regular expressions?\n",
    "\n",
    "    \"\\d\" Returns a match where the string contains digits (numbers from 0-9)   \n",
    "    \n",
    "    \"\\w\" Returns a match where the string contains any word characters (characters from a to Z, digits from 0-9, and the underscore _ character)\n",
    "    \n",
    "    \"\\s\" Returns a match where the string contains a white space character"
   ]
  },
  {
   "cell_type": "markdown",
   "id": "a0792da5",
   "metadata": {},
   "source": [
    "### 13. What do means by \\D, \\W, and \\S shorthand character classes signify in regular expressions?\n",
    "\n",
    "    \"\\D\" Returns a match where the string DOES NOT contain digits\n",
    "    \n",
    "    \"\\S\" Returns a match where the string DOES NOT contain a white space character\n",
    "    \n",
    "    \"\\W\" Returns a match where the string DOES NOT contain any word characters"
   ]
  },
  {
   "cell_type": "markdown",
   "id": "9f6c71c6",
   "metadata": {},
   "source": [
    "### 14. What is the difference between (.\\*?) and (.\\*)?\n",
    "\n",
    "   (.\\*?) matches any character (.) any number of times (\\*), as few times as possible to make the regex match (?).\n",
    "   \n",
    "   (.\\*)? captures a group zero or one times (?). That group consists of a run of any length (\\*) of any character (.). \n",
    "    \n",
    "    \n",
    "    \n",
    "    \n",
    "    \n",
    "\n"
   ]
  },
  {
   "cell_type": "markdown",
   "id": "7724373b",
   "metadata": {},
   "source": [
    "### 15. What is the syntax for matching both numbers and lowercase letters with a character class?\n",
    "\n",
    "    Either [0-9a-z] or [a-z0-9] both correct"
   ]
  },
  {
   "cell_type": "markdown",
   "id": "e21c0da6",
   "metadata": {},
   "source": [
    "### 16. What is the procedure for making a normal expression in regax case insensitive?\n",
    "\n",
    "    re.I or re.IGNORECASE as the second argument to re.compile() will make the matching case insensitive."
   ]
  },
  {
   "cell_type": "code",
   "execution_count": 49,
   "id": "1dc9d7a5",
   "metadata": {},
   "outputs": [],
   "source": [
    "s='malikMALIK'"
   ]
  },
  {
   "cell_type": "code",
   "execution_count": 50,
   "id": "e12b6011",
   "metadata": {},
   "outputs": [
    {
     "name": "stdout",
     "output_type": "stream",
     "text": [
      "[]\n",
      "['malikMALIK']\n"
     ]
    }
   ],
   "source": [
    "casesensitive = re.compile(\"malikmalik\")\n",
    "ignorecase = re.compile(\"malikmalik\", re.IGNORECASE)\n",
    "print(casesensitive.findall(s))\n",
    "print(ignorecase.findall(s))"
   ]
  },
  {
   "cell_type": "markdown",
   "id": "82e124f8",
   "metadata": {},
   "source": [
    "### 7. What does the . character normally match? What does it match if re.DOTALL is passed as 2nd argument in re.compile()?\n",
    "\n",
    "    The . character normally matches any character except the newline character. If re.DOTALL is passed as the second argument to re.compile(), then the dot will also match newline characters."
   ]
  },
  {
   "cell_type": "code",
   "execution_count": 51,
   "id": "4aabd8fc",
   "metadata": {},
   "outputs": [
    {
     "data": {
      "text/plain": [
       "'malik\\nMALIK'"
      ]
     },
     "execution_count": 51,
     "metadata": {},
     "output_type": "execute_result"
    }
   ],
   "source": [
    "s=\"\"\"malik\n",
    "MALIK\"\"\"\n",
    "s"
   ]
  },
  {
   "cell_type": "code",
   "execution_count": 52,
   "id": "745f5c6f",
   "metadata": {},
   "outputs": [
    {
     "data": {
      "text/plain": [
       "['m', 'a', 'l', 'i', 'k', 'M', 'A', 'L', 'I', 'K']"
      ]
     },
     "execution_count": 52,
     "metadata": {},
     "output_type": "execute_result"
    }
   ],
   "source": [
    "re.findall(\".\",s)"
   ]
  },
  {
   "cell_type": "code",
   "execution_count": 53,
   "id": "d859b9e1",
   "metadata": {},
   "outputs": [
    {
     "data": {
      "text/plain": [
       "['malik\\nMALIK']"
      ]
     },
     "execution_count": 53,
     "metadata": {},
     "output_type": "execute_result"
    }
   ],
   "source": [
    "dot=re.compile(s,re.DOTALL)\n",
    "dot.findall(s)"
   ]
  },
  {
   "cell_type": "markdown",
   "id": "2036c36b",
   "metadata": {},
   "source": [
    "### 18. If numReg = re.compile(r&#39;\\d+&#39;), what will numRegex.sub(&#39;X&#39;, &#39;11 drummers, 10 pipers, five rings, 4 hen&#39;) return?\n",
    "\n",
    "\n",
    "Sub used to replace number with X"
   ]
  },
  {
   "cell_type": "code",
   "execution_count": 54,
   "id": "f4217c12",
   "metadata": {},
   "outputs": [
    {
     "data": {
      "text/plain": [
       "'X drummers, X pipers, five rings, X hen'"
      ]
     },
     "execution_count": 54,
     "metadata": {},
     "output_type": "execute_result"
    }
   ],
   "source": [
    "numReg = re.compile(r'\\d+')\n",
    "numReg.sub('X', '11 drummers, 10 pipers, five rings, 4 hen')"
   ]
  },
  {
   "cell_type": "markdown",
   "id": "e0d16577",
   "metadata": {},
   "source": [
    "### 19. What does passing re.VERBOSE as the 2nd argument to re.compile() allow to do?\n",
    "\n",
    "    The re.VERBOSE argument allows you to add whitespace and comments to the string passed to re.compile()."
   ]
  },
  {
   "cell_type": "code",
   "execution_count": 55,
   "id": "54ac5ab5",
   "metadata": {},
   "outputs": [
    {
     "data": {
      "text/plain": [
       "['malikMALIK', '', 'malik', '']"
      ]
     },
     "execution_count": 55,
     "metadata": {},
     "output_type": "execute_result"
    }
   ],
   "source": [
    "s=\"malikMALIK malik\"\n",
    "verbose=re.compile(r\"[A-Za-z]*\",re.VERBOSE)\n",
    "verbose.findall(s)"
   ]
  },
  {
   "cell_type": "markdown",
   "id": "5dd3db30",
   "metadata": {},
   "source": [
    "### 20. How would you write a regex that match a number with comma for every three digits? It must match the given following:\n",
    "\n",
    "&#39;42&#39;\n",
    "\n",
    "&#39;1,234&#39;\n",
    "\n",
    "&#39;6,368,745&#39;\n",
    "\n",
    "but not the following:\n",
    "\n",
    "&#39;12,34,567&#39; (which has only two digits between the commas)\n",
    "\n",
    "&#39;1234&#39; (which lacks commas)"
   ]
  },
  {
   "cell_type": "code",
   "execution_count": 56,
   "id": "005a5c64",
   "metadata": {},
   "outputs": [
    {
     "name": "stdout",
     "output_type": "stream",
     "text": [
      "['1,234']\n",
      "['6,368,745']\n"
     ]
    }
   ],
   "source": [
    "lst=['42','1,234','6,368,745','12,34,567','1234']\n",
    "patt=re.compile(r\"^\\d{1,3},\\d{3}.*\")\n",
    "for i in lst:\n",
    "    n=patt.findall(i)\n",
    "    if n!=[]:\n",
    "        print(n)\n"
   ]
  },
  {
   "cell_type": "markdown",
   "id": "4720c010",
   "metadata": {},
   "source": [
    "### 21. How would you write a regex that matches the full name of someone whose last name is Watanabe? You can assume that the first name that comes before it will always be one word that begins with a capital letter. The regex must match the following\n",
    "\n",
    "&#39;Haruto Watanabe&#39;\n",
    "\n",
    "&#39;Alice Watanabe&#39;\n",
    "\n",
    "&#39;RoboCop Watanabe&#39;\n",
    "\n",
    "but not the following:\n",
    "\n",
    "&#39;haruto Watanabe&#39; (where the first name is not capitalized)\n",
    "\n",
    "&#39;Mr. Watanabe&#39; (where the preceding word has a nonletter character)\n",
    "\n",
    "&#39;Watanabe&#39; (which has no first name)\n",
    "\n",
    "&#39;Haruto watanabe&#39; (where Watanabe is not capitalized)\n"
   ]
  },
  {
   "cell_type": "code",
   "execution_count": 57,
   "id": "9b26b5a6",
   "metadata": {},
   "outputs": [
    {
     "name": "stdout",
     "output_type": "stream",
     "text": [
      "['Haruto Watanabe']\n",
      "['Alice Watanabe']\n"
     ]
    }
   ],
   "source": [
    "s=['Haruto Watanabe','Alice Watanabe','RoboCop Watanabe','haruto Watanabe','Mr. Watanabe','Watanabe' ,'Haruto watanabe']\n",
    "\n",
    "patt=re.compile(r\"^[A-Z][a-z]*\\sWatanabe\")\n",
    "for i in s:\n",
    "#       print(i)\n",
    "    n=patt.findall(i)\n",
    "    if n!=[]:\n",
    "        print(n)"
   ]
  },
  {
   "cell_type": "code",
   "execution_count": 58,
   "id": "9cf69b36",
   "metadata": {},
   "outputs": [
    {
     "data": {
      "text/plain": [
       "['Alice Watanabe']"
      ]
     },
     "execution_count": 58,
     "metadata": {},
     "output_type": "execute_result"
    }
   ],
   "source": [
    "patt.findall('Alice Watanabe')"
   ]
  },
  {
   "cell_type": "markdown",
   "id": "4d20f9c0",
   "metadata": {},
   "source": [
    "### 22. How would you write a regex that matches a sentence where the first word is either Alice, Bob, or Carol; the second word is either eats, pets, or throws; the third word is apples, cats, or baseballs; and the sentence ends with a period? This regex should be case-insensitive. It must match the following:\n",
    "\n",
    "&#39;Alice eats apples.&#39;\n",
    "\n",
    "&#39;Bob pets cats.&#39;\n",
    "\n",
    "&#39;Carol throws baseballs.&#39;\n",
    "\n",
    "&#39;Alice throws Apples.&#39;\n",
    "\n",
    "&#39;BOB EATS CATS.&#39;\n",
    "\n",
    "\n",
    "&#39;RoboCop eats apples.&#39;\n",
    "\n",
    "&#39;ALICE THROWS FOOTBALLS.&#39;\n",
    "\n",
    "&#39;Carol eats 7 cats.&#39;\n",
    "     "
   ]
  },
  {
   "cell_type": "code",
   "execution_count": 59,
   "id": "6fe2583a",
   "metadata": {},
   "outputs": [
    {
     "name": "stdout",
     "output_type": "stream",
     "text": [
      "[('Alice', 'eats', 'apples')]\n",
      "[('Bob', 'pets', 'cats')]\n",
      "[('Alice', 'throws', 'Apples')]\n",
      "[('BOB', 'EATS', 'CATS')]\n"
     ]
    }
   ],
   "source": [
    "lst=['Alice eats apples.',\n",
    "\n",
    "'Bob pets cats.',\n",
    "\n",
    "'Carol throws baseballs.',\n",
    "\n",
    "'Alice throws Apples.',\n",
    "\n",
    "'BOB EATS CATS.',\n",
    "\n",
    "'RoboCop eats apples.',\n",
    "\n",
    "'ALICE THROWS FOOTBALLS.',\n",
    "\n",
    "'Carol eats 7 cats.']\n",
    "patt=re.compile(r\"^(Alice|Bob|Carol)\\s(eats|pets|throws)\\s(apples|cats|baseballs]).$\",re.IGNORECASE)\n",
    "for i in lst:\n",
    "#     print(i)\n",
    "    n=patt.findall(i)\n",
    "    if n!=[]:\n",
    "        print(n)"
   ]
  }
 ],
 "metadata": {
  "kernelspec": {
   "display_name": "Python 3 (ipykernel)",
   "language": "python",
   "name": "python3"
  },
  "language_info": {
   "codemirror_mode": {
    "name": "ipython",
    "version": 3
   },
   "file_extension": ".py",
   "mimetype": "text/x-python",
   "name": "python",
   "nbconvert_exporter": "python",
   "pygments_lexer": "ipython3",
   "version": "3.9.7"
  }
 },
 "nbformat": 4,
 "nbformat_minor": 5
}
