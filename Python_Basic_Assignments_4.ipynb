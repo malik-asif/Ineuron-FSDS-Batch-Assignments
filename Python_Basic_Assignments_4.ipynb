{
 "cells": [
  {
   "cell_type": "markdown",
   "id": "117f19a9",
   "metadata": {},
   "source": [
    "# Python_Basic_Assignments_4\n"
   ]
  },
  {
   "cell_type": "markdown",
   "id": "f77aa942",
   "metadata": {},
   "source": [
    "### 1. What exactly is []?\n",
    "\n",
    "`[]` means empty list  value which contain no items in it."
   ]
  },
  {
   "cell_type": "code",
   "execution_count": 34,
   "id": "a884d1e3",
   "metadata": {},
   "outputs": [
    {
     "name": "stdout",
     "output_type": "stream",
     "text": [
      "[]\n"
     ]
    }
   ],
   "source": [
    "l=[]\n",
    "print(l)"
   ]
  },
  {
   "cell_type": "markdown",
   "id": "aaff6a41",
   "metadata": {},
   "source": [
    "### 2. In a list of values stored in a variable called spam, how would you assign the value 'hello' as the third value? (Assume [2, 4, 6, 8, 10] are in spam.)\n",
    "\n",
    "Assigning the value `\"hello\"` as the `third` value that means at 2 index  and 3 postion  ,  not 3 index .\n",
    "\n",
    "<font color='blue'>position\t-- 1\t  2\t  3\t  4  \t5       </font><br>\n",
    "   <font color='red'>  Spam--  2\t  4\t  6\t  8\t    10      </font><br>\n",
    "  <font color='green'>index\t-- 0\t  1\t  2\t  3\t    4       </font>\n",
    "\n"
   ]
  },
  {
   "cell_type": "code",
   "execution_count": 35,
   "id": "6cb29e13",
   "metadata": {},
   "outputs": [
    {
     "name": "stdout",
     "output_type": "stream",
     "text": [
      "[2, 4, 'hello', 8, 10]\n"
     ]
    }
   ],
   "source": [
    "spam=[2, 4, 6, 8, 10]\n",
    "spam[2]=\"hello\"\n",
    "print(spam)"
   ]
  },
  {
   "cell_type": "markdown",
   "id": "e29ebe8a",
   "metadata": {},
   "source": [
    "Let's pretend the spam includes the list ['a', 'b', 'c', 'd'] for the next three queries."
   ]
  },
  {
   "cell_type": "code",
   "execution_count": 36,
   "id": "045cc122",
   "metadata": {},
   "outputs": [],
   "source": [
    "spam=['a', 'b', 'c', 'd']"
   ]
  },
  {
   "cell_type": "markdown",
   "id": "d5e07a62",
   "metadata": {},
   "source": [
    "\n",
    "### 3. What is the value of spam[int(int('3' * 2) / 11)]?\n",
    "\n",
    " Answer is `d`. Lets understand it by break down it.\n"
   ]
  },
  {
   "cell_type": "code",
   "execution_count": 37,
   "id": "63c8cbcc",
   "metadata": {},
   "outputs": [
    {
     "name": "stdout",
     "output_type": "stream",
     "text": [
      "d\n"
     ]
    }
   ],
   "source": [
    "print(spam[int(int('3' * 2) / 11)])"
   ]
  },
  {
   "cell_type": "code",
   "execution_count": 38,
   "id": "67f36010",
   "metadata": {},
   "outputs": [
    {
     "name": "stdout",
     "output_type": "stream",
     "text": [
      "step1. '3' * 2 is 33\n",
      "step2. int('3' * 2) is 33\n",
      "step3. int('3' * 2) / 11 is 3.0\n",
      "step4. int(int('3' * 2) / 11) is 3\n",
      "step5. spam[int(int('3' * 2) / 11)] is  d\n"
     ]
    }
   ],
   "source": [
    "# break down spam[int(int('3' * 2) / 11)]\n",
    "print(\"step1. '3' * 2 is\",'3' * 2)\n",
    "print(\"step2. int('3' * 2) is\",int('3' * 2))\n",
    "print(\"step3. int('3' * 2) / 11 is\",int('3' * 2) / 11)\n",
    "print(\"step4. int(int('3' * 2) / 11) is\",int(int('3' * 2) / 11))\n",
    "print(\"step5. spam[int(int('3' * 2) / 11)] is \",spam[int(int('3' * 2) / 11)])"
   ]
  },
  {
   "cell_type": "markdown",
   "id": "861a340d",
   "metadata": {},
   "source": [
    "### 4. What is the value of spam[-1]?"
   ]
  },
  {
   "cell_type": "code",
   "execution_count": 39,
   "id": "f2f5bbae",
   "metadata": {},
   "outputs": [
    {
     "name": "stdout",
     "output_type": "stream",
     "text": [
      "d\n"
     ]
    }
   ],
   "source": [
    "print(spam[-1])"
   ]
  },
  {
   "cell_type": "markdown",
   "id": "042f7e40",
   "metadata": {},
   "source": [
    "### 5. What is the value of spam[:2]?"
   ]
  },
  {
   "cell_type": "code",
   "execution_count": 40,
   "id": "a0567970",
   "metadata": {},
   "outputs": [
    {
     "name": "stdout",
     "output_type": "stream",
     "text": [
      "['a', 'b']\n"
     ]
    }
   ],
   "source": [
    "print(spam[:2])"
   ]
  },
  {
   "cell_type": "markdown",
   "id": "ae5acc3e",
   "metadata": {},
   "source": [
    "Let's pretend bacon has the list [3.14, 'cat,' 11, 'cat,' True] for the next three questions."
   ]
  },
  {
   "cell_type": "code",
   "execution_count": 41,
   "id": "d0818657",
   "metadata": {},
   "outputs": [],
   "source": [
    "bacon=[3.14, 'cat', 11, 'cat', True]"
   ]
  },
  {
   "cell_type": "markdown",
   "id": "9f650161",
   "metadata": {},
   "source": [
    "### 6. What is the value of bacon.index('cat')?"
   ]
  },
  {
   "cell_type": "code",
   "execution_count": 42,
   "id": "afffad2e",
   "metadata": {},
   "outputs": [
    {
     "name": "stdout",
     "output_type": "stream",
     "text": [
      "1\n"
     ]
    }
   ],
   "source": [
    "# give index no. of first \"cat\"\n",
    "print(bacon.index('cat'))"
   ]
  },
  {
   "cell_type": "markdown",
   "id": "37019b6c",
   "metadata": {},
   "source": [
    "### 7. How does bacon.append(99) change the look of the list value in bacon?"
   ]
  },
  {
   "cell_type": "code",
   "execution_count": 43,
   "id": "7e99ae7d",
   "metadata": {},
   "outputs": [
    {
     "name": "stdout",
     "output_type": "stream",
     "text": [
      "[3.14, 'cat', 11, 'cat', True, 99]\n"
     ]
    }
   ],
   "source": [
    "# append add item in last index and it add permanently\n",
    "bacon.append(99)\n",
    "print(bacon)"
   ]
  },
  {
   "cell_type": "markdown",
   "id": "10791f00",
   "metadata": {},
   "source": [
    " ### 8. How does bacon.remove('cat') change the look of the list in bacon?"
   ]
  },
  {
   "cell_type": "code",
   "execution_count": 44,
   "id": "a4de1491",
   "metadata": {},
   "outputs": [
    {
     "name": "stdout",
     "output_type": "stream",
     "text": [
      "[3.14, 11, 'cat', True, 99]\n"
     ]
    }
   ],
   "source": [
    "#remove \"cat\" at it first occurance and chnge permanently\n",
    "bacon.remove('cat')\n",
    "print(bacon)"
   ]
  },
  {
   "cell_type": "markdown",
   "id": "3b6665cb",
   "metadata": {},
   "source": [
    "### 9. What are the list concatenation and list replication operators?\n",
    "`list replication` is an operation where element  of  list are repeat at that much amount of time in that list. It is done by operator asterisk  `*`\n",
    "\n",
    "`list concatenation` is an operation where element  of one list are added to another list in its end index. It is done by operator plus `+`\n",
    "\n",
    "    "
   ]
  },
  {
   "cell_type": "code",
   "execution_count": 45,
   "id": "21cefc17",
   "metadata": {},
   "outputs": [],
   "source": [
    "l=[1,2,3,4]"
   ]
  },
  {
   "cell_type": "code",
   "execution_count": 46,
   "id": "21812194",
   "metadata": {},
   "outputs": [
    {
     "name": "stdout",
     "output_type": "stream",
     "text": [
      "list concatenation is   [1, 2, 3, 4, 1, 2, 3, 4, 1, 2, 3, 4] \n",
      "\n",
      "list concatenation is   [1, 2, 3, 4, 9.5]\n"
     ]
    }
   ],
   "source": [
    "#list replication \n",
    "print(\"list concatenation is  \",l*3,\"\\n\")\n",
    "\n",
    "#list concatenation   \n",
    "print(\"list concatenation is  \",l+[9.5])"
   ]
  },
  {
   "cell_type": "markdown",
   "id": "d9f26063",
   "metadata": {},
   "source": [
    "### 10. What is difference between the list methods append() and insert()?\n",
    "\n",
    "`append()` use to add  item  permanently to the end of a list. It take 1 argument only the item to be added.\n",
    "\n",
    "`insert()` use to add item  permanently at a particular index(position) . It take 2 argument one  index no. and second item to be added. "
   ]
  },
  {
   "cell_type": "code",
   "execution_count": 47,
   "id": "8e12339e",
   "metadata": {},
   "outputs": [],
   "source": [
    "l=[1,2,3,4]"
   ]
  },
  {
   "cell_type": "code",
   "execution_count": 48,
   "id": "7eebc770",
   "metadata": {},
   "outputs": [
    {
     "name": "stdout",
     "output_type": "stream",
     "text": [
      "list After append('Malik') is [1, 2, 3, 4, 'Malik'] \n",
      "\n",
      "list After insert(2,'Malik') is [1, 2, 'Asif', 3, 4, 'Malik'] \n",
      "\n"
     ]
    }
   ],
   "source": [
    "#append() add \"malik\" in end of the list\n",
    "l.append(\"Malik\")\n",
    "print(\"list After append('Malik') is\" ,l,\"\\n\")\n",
    "\n",
    "#insert() add \"malik\" in 2 index of the list\n",
    "l.insert(2,\"Asif\")\n",
    "print(\"list After insert(2,'Malik') is\" ,l,\"\\n\")"
   ]
  },
  {
   "cell_type": "markdown",
   "id": "7f33484b",
   "metadata": {},
   "source": [
    "### 11. What are the two methods for removing items from a list?\n",
    "\n",
    "1.remove()- remove item in its occurance. It take one argument that is item to be remove . If item not Found it raise error.It remove permanently.\n",
    "\n",
    "2.pop()-remove item at given index. It take one argument that is index of item to be remove . If item not Found it raise error.It remove permanently. and if we not pass any argument it remove item at last  index . It actually return item to be remove.\n",
    "\n"
   ]
  },
  {
   "cell_type": "code",
   "execution_count": 49,
   "id": "59c34b94",
   "metadata": {},
   "outputs": [],
   "source": [
    "l=[1, 2, 'Malik', 3, 4, 'Asif'] "
   ]
  },
  {
   "cell_type": "code",
   "execution_count": 50,
   "id": "5f85a0bc",
   "metadata": {},
   "outputs": [
    {
     "name": "stdout",
     "output_type": "stream",
     "text": [
      "[1, 2, 'Malik', 4, 'Asif']\n"
     ]
    }
   ],
   "source": [
    "# After remove()\n",
    "l.remove(3)\n",
    "print(l)"
   ]
  },
  {
   "cell_type": "code",
   "execution_count": 51,
   "id": "c2bc288a",
   "metadata": {},
   "outputs": [
    {
     "name": "stdout",
     "output_type": "stream",
     "text": [
      "pop(2) is  Malik\n",
      "List after pop(2) [1, 2, 4, 'Asif']\n",
      "pop() is  Asif\n",
      "List after pop() [1, 2, 4]\n"
     ]
    }
   ],
   "source": [
    "#pop(2) and pop()\n",
    "p1=l.pop(2)\n",
    "print(\"pop(2) is \", p1)\n",
    "print(\"List after pop(2)\",l)\n",
    "\n",
    "p2=l.pop()\n",
    "print(\"pop() is \", p2)\n",
    "print(\"List after pop()\",l)"
   ]
  },
  {
   "cell_type": "markdown",
   "id": "9ba561e1",
   "metadata": {},
   "source": [
    "### 12. Describe how list values and string values are identical.\n",
    "\n",
    "list values and string values are identical because both are in sequences. That means both are iterable."
   ]
  },
  {
   "cell_type": "code",
   "execution_count": 52,
   "id": "d1bf242a",
   "metadata": {},
   "outputs": [
    {
     "name": "stdout",
     "output_type": "stream",
     "text": [
      "Original String... This is our iNeuron Pyhton Assignment\n",
      "String after reverse... tnemngissA nothyP norueNi ruo si sihT \n",
      "\n",
      "Original list... ['This', 'is', 'our', 'iNeuron', 'Pyhton', 'Assignment']\n",
      "List after reverse... ['Assignment', 'Pyhton', 'iNeuron', 'our', 'is', 'This'] \n",
      "\n"
     ]
    }
   ],
   "source": [
    "string=\"This is our iNeuron Pyhton Assignment\"\n",
    "print(\"Original String...\",string)\n",
    "print(\"String after reverse...\",string[::-1],\"\\n\")\n",
    "\n",
    "lst=list(string.split())\n",
    "print(\"Original list...\",lst)\n",
    "print(\"List after reverse...\",lst[::-1],\"\\n\")"
   ]
  },
  {
   "cell_type": "markdown",
   "id": "09b45793",
   "metadata": {},
   "source": [
    "### 13.What's the difference between tuples and lists?\n",
    "\n",
    "`tuples`\n",
    "\n",
    "1. data type of tuples are `tuple`\n",
    "2. Elements inside it enclose with `()`\n",
    "3.` Immutable` , cann't asign item in exiting index we can append but modify.\n",
    "4. Iteration in tuple is faster than list.\n",
    "5. less memory consume.\n",
    "6. Less built-in-method. actually only two i.e count and index \n",
    "         \n",
    "`lists`  \n",
    "1. data type of lists are `list`\n",
    "2. Elements inside it enclose with `[]`\n",
    "3.` Mutable` ,can asign item in exiting index we can append and modify.\n",
    "4. Iteration in list is slower  than tuple. \n",
    "5. More memory consume.\n",
    "6. Many built-in-method. it have 11 function\n",
    "        "
   ]
  },
  {
   "cell_type": "code",
   "execution_count": 53,
   "id": "2e371fc8",
   "metadata": {},
   "outputs": [
    {
     "name": "stdout",
     "output_type": "stream",
     "text": [
      "<class 'list'>\n",
      "[1, 2, 'Malik', 4]\n"
     ]
    }
   ],
   "source": [
    "#list\n",
    "l=[1,2,3,4]\n",
    "print(type(l))\n",
    "l[2]=\"Malik\"\n",
    "print(l)"
   ]
  },
  {
   "cell_type": "code",
   "execution_count": 54,
   "id": "e742a220",
   "metadata": {},
   "outputs": [
    {
     "name": "stdout",
     "output_type": "stream",
     "text": [
      "<class 'tuple'>\n"
     ]
    },
    {
     "ename": "TypeError",
     "evalue": "'tuple' object does not support item assignment",
     "output_type": "error",
     "traceback": [
      "\u001b[1;31m---------------------------------------------------------------------------\u001b[0m",
      "\u001b[1;31mTypeError\u001b[0m                                 Traceback (most recent call last)",
      "\u001b[1;32m~\\AppData\\Local\\Temp\\ipykernel_12152\\1294814856.py\u001b[0m in \u001b[0;36m<module>\u001b[1;34m\u001b[0m\n\u001b[0;32m      2\u001b[0m \u001b[0mt\u001b[0m\u001b[1;33m=\u001b[0m\u001b[1;33m(\u001b[0m\u001b[1;36m1\u001b[0m\u001b[1;33m,\u001b[0m\u001b[1;36m2\u001b[0m\u001b[1;33m,\u001b[0m\u001b[1;36m3\u001b[0m\u001b[1;33m,\u001b[0m\u001b[1;36m4\u001b[0m\u001b[1;33m)\u001b[0m\u001b[1;33m\u001b[0m\u001b[1;33m\u001b[0m\u001b[0m\n\u001b[0;32m      3\u001b[0m \u001b[0mprint\u001b[0m\u001b[1;33m(\u001b[0m\u001b[0mtype\u001b[0m\u001b[1;33m(\u001b[0m\u001b[0mt\u001b[0m\u001b[1;33m)\u001b[0m\u001b[1;33m)\u001b[0m\u001b[1;33m\u001b[0m\u001b[1;33m\u001b[0m\u001b[0m\n\u001b[1;32m----> 4\u001b[1;33m \u001b[0mt\u001b[0m\u001b[1;33m[\u001b[0m\u001b[1;36m2\u001b[0m\u001b[1;33m]\u001b[0m\u001b[1;33m=\u001b[0m\u001b[1;34m\"Malik\"\u001b[0m\u001b[1;33m\u001b[0m\u001b[1;33m\u001b[0m\u001b[0m\n\u001b[0m\u001b[0;32m      5\u001b[0m \u001b[0mprint\u001b[0m\u001b[1;33m(\u001b[0m\u001b[0mt\u001b[0m\u001b[1;33m)\u001b[0m\u001b[1;33m\u001b[0m\u001b[1;33m\u001b[0m\u001b[0m\n",
      "\u001b[1;31mTypeError\u001b[0m: 'tuple' object does not support item assignment"
     ]
    }
   ],
   "source": [
    "#Tuple\n",
    "t=(1,2,3,4)\n",
    "print(type(t))\n",
    "t[2]=\"Malik\"\n",
    "print(t)"
   ]
  },
  {
   "cell_type": "markdown",
   "id": "b18a19da",
   "metadata": {},
   "source": [
    "### 14.How do you type a tuple value that only contains the integer 42?\n",
    "\n",
    "If we assign only single item in `tuple ()` it will be not going to make tuple as for tuple need two item  if we want only 42 in tuple thn it type will be interger only to make it tuple we can use `comma ,`"
   ]
  },
  {
   "cell_type": "code",
   "execution_count": null,
   "id": "f97caf85",
   "metadata": {},
   "outputs": [
    {
     "name": "stdout",
     "output_type": "stream",
     "text": [
      "Without comma , single value in tuple---  <class 'int'>\n",
      "\n",
      "With comma , single value in tuple---  <class 'tuple'>\n"
     ]
    }
   ],
   "source": [
    "t1=(42)\n",
    "print(\"Without comma , single value in tuple--- \",type(t1))\n",
    "print()\n",
    "t2=(42,)\n",
    "print(\"With comma , single value in tuple--- \",type(t2))"
   ]
  },
  {
   "cell_type": "markdown",
   "id": "fd9e35e9",
   "metadata": {},
   "source": [
    "### 15.How do you get a list value's tuple form? How do you get a tuple value's list form?\n",
    "\n",
    "Functionality  is same  in both tuple() and list()"
   ]
  },
  {
   "cell_type": "code",
   "execution_count": null,
   "id": "dd757957",
   "metadata": {},
   "outputs": [],
   "source": [
    "t=(1,2,3,[\"Malik\",\"Asif\"])"
   ]
  },
  {
   "cell_type": "code",
   "execution_count": null,
   "id": "6e99493e",
   "metadata": {},
   "outputs": [
    {
     "name": "stdout",
     "output_type": "stream",
     "text": [
      "Tuple -- (1, 2, 3, ['Malik', 'Asif'])\n",
      "\n",
      "list inside Tuple-- ['Malik', 'Asif']\n",
      "\n",
      "Malik\n",
      "Asif\n"
     ]
    }
   ],
   "source": [
    "print(\"Tuple --\",t)\n",
    "print()\n",
    "for i in t:\n",
    "    if type(i)==list:\n",
    "        print(\"list inside Tuple--\",i)\n",
    "        print()\n",
    "        for j in i:\n",
    "            print(j)"
   ]
  },
  {
   "cell_type": "code",
   "execution_count": null,
   "id": "881444b2",
   "metadata": {},
   "outputs": [],
   "source": [
    "l=[1,2,3,(\"Malik\",\"Asif\")]"
   ]
  },
  {
   "cell_type": "code",
   "execution_count": null,
   "id": "afb933c6",
   "metadata": {},
   "outputs": [
    {
     "name": "stdout",
     "output_type": "stream",
     "text": [
      "List -- [1, 2, 3, ('Malik', 'Asif')]\n",
      "\n",
      "Tuple inside list-- ('Malik', 'Asif')\n",
      "\n",
      "Malik\n",
      "Asif\n"
     ]
    }
   ],
   "source": [
    "print(\"List --\",l)\n",
    "print()\n",
    "for i in l:\n",
    "    if type(i)==tuple:\n",
    "        print(\"Tuple inside list--\",i)\n",
    "        print()\n",
    "        for j in i:\n",
    "            print(j)"
   ]
  },
  {
   "cell_type": "markdown",
   "id": "95ba05fc",
   "metadata": {},
   "source": [
    "### 16.Variables that \"contain\" list values are not necessarily lists themselves. Instead, what do they contain?\n",
    "\n",
    "Actually they contain  list values  reference. Like in example list1 contain [1,2,3,4,5] as reference and I assign list1 to list2 now list2 also refer [1,2,3,4,5] same value . location of of list1 and list2 is same so if I modify list2 values it effect to list1 as both refer same value"
   ]
  },
  {
   "cell_type": "code",
   "execution_count": null,
   "id": "1c000656",
   "metadata": {},
   "outputs": [
    {
     "name": "stdout",
     "output_type": "stream",
     "text": [
      "List1 and list2 share same reference ID  for values they contain \n",
      "list 1 contain values are  [1, 2, 3, 4, 5]  and its location is  1533434822336\n",
      "list 2 contain values are  [1, 2, 3, 4, 5]  and its location is  1533434822336\n",
      "\n",
      "list3  reference ID  is different from list1 and list2  \n",
      "list 3 contain values are  [1, 2, 3, 4, 5]  and its location is  1533434822848\n",
      "\n",
      "\n",
      "If I modify list2 than list1 also change  as both share same reference ID\n",
      "but list 3 renain unchange as it doesn't share same Id\n",
      "\n",
      "list 2 values after modify list2 are  [1, 2, 3, 'malik', 5]\n",
      "list 1 after modify list 2  [1, 2, 3, 'malik', 5]\n",
      "list 3 after modify list 2  [1, 2, 3, 4, 5]\n"
     ]
    }
   ],
   "source": [
    "list1=[1,2,3,4,5]\n",
    "list2=list1\n",
    "list3=[1,2,3,4,5]\n",
    "print(\"List1 and list2 share same reference ID  for values they contain \")\n",
    "print(\"list 1 contain values are \",list1,\" and its location is \",id(list1))\n",
    "print(\"list 2 contain values are \",list2,\" and its location is \",id(list2))\n",
    "print()\n",
    "print(\"list3  reference ID  is different from list1 and list2  \")\n",
    "print(\"list 3 contain values are \",list3,\" and its location is \",id(list3))\n",
    "print()\n",
    "print()\n",
    "print(\"\"\"If I modify list2 than list1 also change  as both share same reference ID\n",
    "but list 3 renain unchange as it doesn't share same Id\"\"\")\n",
    "print()\n",
    "list2[3]=\"malik\"\n",
    "print(\"list 2 values after modify list2 are \",list2)\n",
    "print(\"list 1 after modify list 2 \",list1)\n",
    "print(\"list 3 after modify list 2 \",list3)"
   ]
  },
  {
   "cell_type": "markdown",
   "id": "4812acea",
   "metadata": {},
   "source": [
    "### 17.How do you distinguish between copy.copy() and copy.deepcopy()?\n",
    "\n",
    "copy.copy() it shallow copy a list. It doesn't copy if we have nest list (list inside list). It work for single dimension .\n",
    "For multi dimension we use copy.deep() it deeply copy the list.\n",
    "\n",
    "For both copy() and deepcopy()\n",
    "we need to import copy module"
   ]
  },
  {
   "cell_type": "code",
   "execution_count": null,
   "id": "ef62d002",
   "metadata": {},
   "outputs": [
    {
     "name": "stdout",
     "output_type": "stream",
     "text": [
      "list1 is [1, 2, 3, ['Malik', 7, 'Asif']] \n",
      "list2 is [1, 2, 3, ['Malik', 7, 'Asif']]\n",
      "\n",
      "list2 is \n",
      " [1, 2, 'INDIA', ['Malik', 7, 'Asif']] \n",
      "list1 is after change list2\n",
      " [1, 2, 'INDIA', ['Malik', 7, 'Asif']]\n",
      "\n",
      "list1 change because list1 and list2 share same Refer Id as we '=' assign it,\n",
      "To unchange other list we use copy.copy()(shallow copy) and copy.deepcopy() for that we need to import copy\n",
      "\n",
      "list1 is [1, 2, 'INDIA', ['Malik', 7, 'Asif']] \n",
      "list3 is [1, 2, 'INDIA', ['Malik', 7, 'Asif']]\n",
      "\n",
      "list1 is \n",
      " [1, 2, 'India is my Country', ['Malik', 7, 'Asif']] \n",
      "\n",
      "list3 is after change list1\n",
      " [1, 2, 'INDIA', ['Malik', 7, 'Asif']] \n",
      "It unchange coz  when we copy list1 to list3 it share different location\n",
      "\n"
     ]
    }
   ],
   "source": [
    "list1=[1,2,3,[\"Malik\",7,\"Asif\"]]\n",
    "list2=list1\n",
    "print(\"list1 is\",list1,\"\\nlist2 is\",list2)\n",
    "\n",
    "list2[2]=\"INDIA\"\n",
    "\n",
    "print()\n",
    "print(\"list2 is \\n\",list2,\"\\nlist1 is after change list2\\n\",list1)\n",
    "print()\n",
    "print(\"\"\"list1 change because list1 and list2 share same Refer Id as we '=' assign it,\n",
    "To unchange other list we use copy.copy()(shallow copy) and copy.deepcopy() for that we need to import copy\\n\"\"\")\n",
    "\n",
    "import copy\n",
    "\n",
    "list3=copy.copy(list1) #shallow copy\n",
    "print(\"list1 is\",list1,\"\\nlist3 is\",list2)\n",
    "\n",
    "list1[2]=\"India is my Country\"\n",
    "print()\n",
    "print(\"list1 is \\n\",list1,\"\\n\\nlist3 is after change list1\\n\",list3,\"\\nIt unchange coz  when we copy list1 to list3 it share different location\")\n",
    "print()"
   ]
  },
  {
   "cell_type": "code",
   "execution_count": null,
   "id": "2b6b7726",
   "metadata": {},
   "outputs": [
    {
     "data": {
      "text/plain": [
       "[1, 2, 'India is my Country', ['Malik', 7, 'Asif']]"
      ]
     },
     "execution_count": 28,
     "metadata": {},
     "output_type": "execute_result"
    }
   ],
   "source": [
    "list1"
   ]
  },
  {
   "cell_type": "code",
   "execution_count": null,
   "id": "457602c2",
   "metadata": {},
   "outputs": [
    {
     "data": {
      "text/plain": [
       "[1, 2, 'INDIA', ['Malik', 7, 'Asif']]"
      ]
     },
     "execution_count": 29,
     "metadata": {},
     "output_type": "execute_result"
    }
   ],
   "source": [
    "list3"
   ]
  },
  {
   "cell_type": "code",
   "execution_count": null,
   "id": "2e82c7db",
   "metadata": {},
   "outputs": [],
   "source": [
    "list1[-1][1]=\"sep\""
   ]
  },
  {
   "cell_type": "code",
   "execution_count": null,
   "id": "2eda3bfb",
   "metadata": {},
   "outputs": [
    {
     "data": {
      "text/plain": [
       "[1, 2, 'India is my Country', ['Malik', 'sep', 'Asif']]"
      ]
     },
     "execution_count": 31,
     "metadata": {},
     "output_type": "execute_result"
    }
   ],
   "source": [
    "list1"
   ]
  },
  {
   "cell_type": "code",
   "execution_count": null,
   "id": "d931db81",
   "metadata": {},
   "outputs": [
    {
     "data": {
      "text/plain": [
       "[1, 2, 'INDIA', ['Malik', 'sep', 'Asif']]"
      ]
     },
     "execution_count": 32,
     "metadata": {},
     "output_type": "execute_result"
    }
   ],
   "source": [
    "list3"
   ]
  },
  {
   "cell_type": "code",
   "execution_count": null,
   "id": "e62f387f",
   "metadata": {},
   "outputs": [
    {
     "name": "stdout",
     "output_type": "stream",
     "text": [
      "Now why this nestedlist inside list3 change when i change nexted list of list as we we copy()\n",
      "\n",
      "This coz we copy list1 to list3 not inside the list item for that\n",
      "we need deepcopy() ,which  copy inside list items too.deepcopy() is not list built-in-method \n",
      "we need to import it from copy module\n",
      "\n",
      "list1 is [1, 2, 'India is my Country', ['Malik', 'sep', 'Asif']] \n",
      "list4 is [1, 2, 'India is my Country', ['Malik', 'sep', 'Asif']]\n",
      "\n",
      "list4 is \n",
      " [1, 2, 'India is my Country', ['Malik', 'september', 'Asif']] \n",
      "list1 is after change list4\n",
      " [1, 2, 'India is my Country', ['Malik', 'sep', 'Asif']] \n",
      "It unchange \n"
     ]
    }
   ],
   "source": [
    "print(\"Now why this nestedlist inside list3 change when i change nexted list of list as we we copy()\")\n",
    "print()\n",
    "print(\"\"\"This coz we copy list1 to list3 not inside the list item for that\n",
    "we need deepcopy() ,which  copy inside list items too.deepcopy() is not list built-in-method \n",
    "we need to import it from copy module\\n\"\"\")\n",
    "\n",
    "import copy\n",
    "\n",
    "list4=copy.deepcopy(list1)\n",
    "print(\"list1 is\",list1,\"\\nlist4 is\",list4)\n",
    "\n",
    "list4[-1][1]=\"september\"\n",
    "print()\n",
    "print(\"list4 is \\n\",list4,\"\\nlist1 is after change list4\\n\",list1,\"\\nIt unchange \")\n"
   ]
  }
 ],
 "metadata": {
  "kernelspec": {
   "display_name": "Python 3 (ipykernel)",
   "language": "python",
   "name": "python3"
  },
  "language_info": {
   "codemirror_mode": {
    "name": "ipython",
    "version": 3
   },
   "file_extension": ".py",
   "mimetype": "text/x-python",
   "name": "python",
   "nbconvert_exporter": "python",
   "pygments_lexer": "ipython3",
   "version": "3.9.7"
  }
 },
 "nbformat": 4,
 "nbformat_minor": 5
}
