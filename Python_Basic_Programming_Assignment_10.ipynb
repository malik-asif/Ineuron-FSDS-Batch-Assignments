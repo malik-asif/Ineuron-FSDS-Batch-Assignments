{
 "cells": [
  {
   "cell_type": "markdown",
   "id": "baa31dbc",
   "metadata": {},
   "source": [
    "# Python Basic Programming Assignment 10"
   ]
  },
  {
   "cell_type": "markdown",
   "id": "3116972b",
   "metadata": {},
   "source": [
    "### 1. Write a Python program to find sum of elements in list?"
   ]
  },
  {
   "cell_type": "code",
   "execution_count": 1,
   "id": "ec9aa850",
   "metadata": {},
   "outputs": [
    {
     "name": "stdout",
     "output_type": "stream",
     "text": [
      "Sum all number in a list:  57\n"
     ]
    }
   ],
   "source": [
    "lst=[5,9,4,8,5,2,6,12,6]\n",
    "print(\"Sum all number in a list: \",sum(lst))"
   ]
  },
  {
   "cell_type": "markdown",
   "id": "c70a4a34",
   "metadata": {},
   "source": [
    "### 2. Write a Python program to Multiply all numbers in the list?"
   ]
  },
  {
   "cell_type": "code",
   "execution_count": 2,
   "id": "72c0e443",
   "metadata": {},
   "outputs": [
    {
     "name": "stdout",
     "output_type": "stream",
     "text": [
      "Multiply all number in a list:  6220800\n"
     ]
    }
   ],
   "source": [
    "mul=1\n",
    "for num in lst:\n",
    "    mul=mul*num\n",
    "print(\"Multiply all number in a list: \",mul)"
   ]
  },
  {
   "cell_type": "markdown",
   "id": "5c1c3510",
   "metadata": {},
   "source": [
    "### 3. Write a Python program to find smallest number in a list?"
   ]
  },
  {
   "cell_type": "code",
   "execution_count": 3,
   "id": "e7001a84",
   "metadata": {},
   "outputs": [
    {
     "name": "stdout",
     "output_type": "stream",
     "text": [
      "Original no. :  [5, 9, 4, 8, 5, 2, 6, 12, 6]\n",
      "Smallest number in a list:  2\n"
     ]
    }
   ],
   "source": [
    "print(\"Original no. : \",lst)\n",
    "print(\"Smallest number in a list: \",min(lst))"
   ]
  },
  {
   "cell_type": "markdown",
   "id": "a00c34df",
   "metadata": {},
   "source": [
    "### 4. Write a Python program to find largest number in a list?"
   ]
  },
  {
   "cell_type": "code",
   "execution_count": 4,
   "id": "948fb402",
   "metadata": {},
   "outputs": [
    {
     "name": "stdout",
     "output_type": "stream",
     "text": [
      "Original no. :  [5, 9, 4, 8, 5, 2, 6, 12, 6]\n",
      "Smallest number in a list:  12\n"
     ]
    }
   ],
   "source": [
    "print(\"Original no. : \",lst)\n",
    "print(\"Smallest number in a list: \",max(lst))"
   ]
  },
  {
   "cell_type": "markdown",
   "id": "fc6eee95",
   "metadata": {},
   "source": [
    "### 5. Write a Python program to find second largest number in a list?"
   ]
  },
  {
   "cell_type": "code",
   "execution_count": 5,
   "id": "7fe07e5c",
   "metadata": {},
   "outputs": [
    {
     "name": "stdout",
     "output_type": "stream",
     "text": [
      "Sorted List :  [12, 9, 8, 6, 6, 5, 5, 4, 2]\n",
      "Second largest number in a list:  9\n"
     ]
    }
   ],
   "source": [
    "sorted_list=sorted(lst,reverse=True)\n",
    "print(\"Sorted List : \",sorted_list)\n",
    "print(\"Second largest number in a list: \",sorted_list[1])"
   ]
  },
  {
   "cell_type": "markdown",
   "id": "255bf0a9",
   "metadata": {},
   "source": [
    "### 6. Write a Python program to find N largest elements from a list?"
   ]
  },
  {
   "cell_type": "code",
   "execution_count": 6,
   "id": "dbc2ee67",
   "metadata": {},
   "outputs": [
    {
     "name": "stdout",
     "output_type": "stream",
     "text": [
      "Sorted List :  [12, 9, 8, 6, 6, 5, 5, 4, 2]\n",
      "N largest elements from a list:  [12, 9, 8, 6, 6, 5, 5, 4, 2]\n"
     ]
    }
   ],
   "source": [
    "print(\"Sorted List : \",sorted_list)\n",
    "n=int(input(\"Enter the N  element : \"))\n",
    "\n",
    "print(\"N largest elements from a list: \",sorted_list[:n])\n"
   ]
  },
  {
   "cell_type": "markdown",
   "id": "051788a0",
   "metadata": {},
   "source": [
    "### 7. Write a Python program to print even numbers in a list?"
   ]
  },
  {
   "cell_type": "code",
   "execution_count": 7,
   "id": "7e9031dd",
   "metadata": {},
   "outputs": [
    {
     "name": "stdout",
     "output_type": "stream",
     "text": [
      "Original no. :  [5, 9, 4, 8, 5, 2, 6, 12, 6]\n",
      "Even number in a list:  [4, 8, 2, 6, 12, 6]\n"
     ]
    }
   ],
   "source": [
    "even=[num for num in lst if num%2==0]\n",
    "print(\"Original no. : \",lst)\n",
    "print(\"Even number in a list: \",even)"
   ]
  },
  {
   "cell_type": "markdown",
   "id": "0d28487b",
   "metadata": {},
   "source": [
    "### 8. Write a Python program to print odd numbers in a List?"
   ]
  },
  {
   "cell_type": "code",
   "execution_count": 8,
   "id": "78ebb5c6",
   "metadata": {},
   "outputs": [
    {
     "name": "stdout",
     "output_type": "stream",
     "text": [
      "Original no. :  [5, 9, 4, 8, 5, 2, 6, 12, 6]\n",
      "Even number in a list:  [5, 9, 5]\n"
     ]
    }
   ],
   "source": [
    "odd=[num for num in lst if num%2!=0]\n",
    "print(\"Original no. : \",lst)\n",
    "print(\"Even number in a list: \",odd)"
   ]
  },
  {
   "cell_type": "markdown",
   "id": "6404e7f4",
   "metadata": {},
   "source": [
    "### 9. Write a Python program to Remove empty List from List?"
   ]
  },
  {
   "cell_type": "code",
   "execution_count": 10,
   "id": "0fd6d277",
   "metadata": {},
   "outputs": [
    {
     "name": "stdout",
     "output_type": "stream",
     "text": [
      "Original no. :  [6, 9, [], 4, [], [], 7]\n",
      "Remove empty List from List:  [6, 9, 4, 7]\n"
     ]
    }
   ],
   "source": [
    "Emtpy_list = [6, 9, [], 4, [], [], 7]\n",
    "remove_empty=[num for num in Emtpy_list if num!=[]]\n",
    "print(\"Original no. : \",Emtpy_list)\n",
    "print(\"Remove empty List from List: \",remove_empty)"
   ]
  },
  {
   "cell_type": "markdown",
   "id": "b6c5852b",
   "metadata": {},
   "source": [
    "### 10. Write a Python program to Cloning or Copying a list?"
   ]
  },
  {
   "cell_type": "code",
   "execution_count": 11,
   "id": "51eaa729",
   "metadata": {},
   "outputs": [
    {
     "name": "stdout",
     "output_type": "stream",
     "text": [
      "Original no. :  [5, 9, 4, 8, 5, 2, 6, 12, 6]\n",
      "Cloning or Copying list:  [5, 9, 4, 8, 5, 2, 6, 12, 6]\n"
     ]
    }
   ],
   "source": [
    "print(\"Original no. : \",lst)\n",
    "print(\"Cloning or Copying list: \",lst.copy())"
   ]
  },
  {
   "cell_type": "markdown",
   "id": "b9cd0ce6",
   "metadata": {},
   "source": [
    "### 11. Write a Python program to Count occurrences of an element in a list?"
   ]
  },
  {
   "cell_type": "code",
   "execution_count": 13,
   "id": "7e2a3425",
   "metadata": {},
   "outputs": [
    {
     "name": "stdout",
     "output_type": "stream",
     "text": [
      "Original no. :  [5, 9, 4, 8, 5, 2, 6, 12, 6]\n",
      "Count occurrences of 5 element in a list:  2\n"
     ]
    }
   ],
   "source": [
    "n = int(input(\"Enter the number want to count :\"))\n",
    "\n",
    "print(\"Original no. : \",lst)\n",
    "print(f\"Count occurrences of { n } element in a list: \",lst.count(n))"
   ]
  },
  {
   "cell_type": "code",
   "execution_count": null,
   "id": "054a0ed9",
   "metadata": {},
   "outputs": [],
   "source": []
  }
 ],
 "metadata": {
  "kernelspec": {
   "display_name": "Python 3 (ipykernel)",
   "language": "python",
   "name": "python3"
  },
  "language_info": {
   "codemirror_mode": {
    "name": "ipython",
    "version": 3
   },
   "file_extension": ".py",
   "mimetype": "text/x-python",
   "name": "python",
   "nbconvert_exporter": "python",
   "pygments_lexer": "ipython3",
   "version": "3.9.13"
  }
 },
 "nbformat": 4,
 "nbformat_minor": 5
}
