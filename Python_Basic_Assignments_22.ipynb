{
 "cells": [
  {
   "cell_type": "markdown",
   "id": "db676bb4",
   "metadata": {},
   "source": [
    "# Assignment 22 'Python basic'"
   ]
  },
  {
   "cell_type": "markdown",
   "id": "b0b0f396",
   "metadata": {},
   "source": [
    "### 1. What is the result of the code, and explain?\n",
    "\n",
    "&gt;&gt;&gt; X = &#39;iNeuron&#39;<br>\n",
    "&gt;&gt;&gt; def func():<br>\n",
    "print(X)\n",
    "\n",
    "&gt;&gt;&gt; func()"
   ]
  },
  {
   "cell_type": "code",
   "execution_count": 2,
   "id": "5ba3a668",
   "metadata": {},
   "outputs": [
    {
     "name": "stdout",
     "output_type": "stream",
     "text": [
      "iNeuron\n",
      "\n",
      "The line, func() Call the function we defined which prints the value of X.\n"
     ]
    }
   ],
   "source": [
    "X = 'iNeuron'\n",
    "def func(): \n",
    "    print(X)\n",
    "func()\n",
    "\n",
    "print('''\\nThe line, func() Call the function we defined which prints the value of X.''')"
   ]
  },
  {
   "cell_type": "markdown",
   "id": "9226cb24",
   "metadata": {},
   "source": [
    "### 2. What is the result of the code, and explain?\n",
    "\n",
    "&gt;&gt;&gt; X = &#39;iNeuron&#39;<br>\n",
    "&gt;&gt;&gt; def func():<br>\n",
    "X = &#39;NI!&#39;<br>\n",
    "\n",
    "&gt;&gt;&gt; func()<br>\n",
    "&gt;&gt;&gt; print(X)"
   ]
  },
  {
   "cell_type": "code",
   "execution_count": 3,
   "id": "fa2b2a28",
   "metadata": {},
   "outputs": [
    {
     "name": "stdout",
     "output_type": "stream",
     "text": [
      "iNeuron\n",
      "\n",
      "The line, func() Call the function we defined, with \"NI\" as the value of X inside the funtion, but doesn't prints it, as there is no print statement inside the function.\n",
      "\n",
      "The line, print(X), prints the value of X, which is \"iNeuron\", which is outside func().\n"
     ]
    }
   ],
   "source": [
    "X = 'iNeuron'\n",
    "def func():\n",
    "    X = 'NI!'\n",
    "func()\n",
    "print(X)\n",
    "\n",
    "print('''\\nThe line, func() Call the function we defined, with \"NI\" as the value of X inside the funtion, but doesn't prints it, as there is no print statement inside the function.\n",
    "\n",
    "The line, print(X), prints the value of X, which is \"iNeuron\", which is outside func().''')"
   ]
  },
  {
   "cell_type": "markdown",
   "id": "02c93a63",
   "metadata": {},
   "source": [
    "### 3. What does this code print, and why?\n",
    "\n",
    "&gt;&gt;&gt; X = &#39;iNeuron&#39;<BR>\n",
    "&gt;&gt;&gt; def func():<BR>\n",
    "X = &#39;NI&#39;<BR>\n",
    "print(X)\n",
    "\n",
    "&gt;&gt;&gt; func()\n",
    "&gt;&gt;&gt; print(X)"
   ]
  },
  {
   "cell_type": "code",
   "execution_count": 4,
   "id": "1592c039",
   "metadata": {},
   "outputs": [
    {
     "name": "stdout",
     "output_type": "stream",
     "text": [
      "NI!\n",
      "iNeuron\n",
      "\n",
      "The line, func() Call the function we defined which prints the value of X, which is \"NI\" inside the funtion.\n",
      "\n",
      "The line, print(X), prints the value of X, which is \"iNeuron\", which is outside func().\n"
     ]
    }
   ],
   "source": [
    "X = 'iNeuron'\n",
    "def func():\n",
    "    X = 'NI!'\n",
    "    print (X)\n",
    "func()\n",
    "print(X)\n",
    "\n",
    "print('''\\nThe line, func() Call the function we defined which prints the value of X, which is \"NI\" inside the funtion.\n",
    "\n",
    "The line, print(X), prints the value of X, which is \"iNeuron\", which is outside func().''')"
   ]
  },
  {
   "cell_type": "markdown",
   "id": "4ca0f1a8",
   "metadata": {},
   "source": [
    "### 4. What output does this code produce? Why?\n",
    "\n",
    "&gt;&gt;&gt; X = &#39;iNeuron&#39;\n",
    "\n",
    "&gt;&gt;&gt; def func():\n",
    "\n",
    "global X\n",
    "\n",
    "X = &#39;NI&#39;\n",
    "\n",
    "&gt;&gt;&gt; func()\n",
    "&gt;&gt;&gt; print(X)"
   ]
  },
  {
   "cell_type": "code",
   "execution_count": 5,
   "id": "df5716a7",
   "metadata": {},
   "outputs": [
    {
     "name": "stdout",
     "output_type": "stream",
     "text": [
      "NI\n",
      "\n",
      "The line, func() Call the function we defined, with \"NI\" as the value of X inside the funtion,\n",
      "but doesn't prints it, as there is no print statement inside the function, and we have used global keyword,\n",
      "which means, global keyword allows us to modify the variable, that is \"X\", outside of the current function.\n",
      "\n",
      "The line, print(X), prints the value of X, which is now \"NI\", as we used global keyword inside the function.\n"
     ]
    }
   ],
   "source": [
    "X = 'iNeuron'\n",
    "def func():\n",
    "    global X\n",
    "    X = \"NI\"\n",
    "func()\n",
    "print(X)\n",
    "\n",
    "print('''\\nThe line, func() Call the function we defined, with \"NI\" as the value of X inside the funtion,\n",
    "but doesn't prints it, as there is no print statement inside the function, and we have used global keyword,\n",
    "which means, global keyword allows us to modify the variable, that is \"X\", outside of the current function.\n",
    "\n",
    "The line, print(X), prints the value of X, which is now \"NI\", as we used global keyword inside the function.''')"
   ]
  },
  {
   "cell_type": "markdown",
   "id": "b5e51c30",
   "metadata": {},
   "source": [
    "### 5. What about this code—what’s the output, and why?\n",
    "\n",
    "&gt;&gt;&gt; X = &#39;iNeuron&#39;\n",
    "\n",
    "&gt;&gt;&gt; def func():\n",
    "\n",
    "X = &#39;NI&#39;\n",
    "\n",
    "def nested():\n",
    "\n",
    "print(X)\n",
    "\n",
    "nested()\n",
    "\n",
    "&gt;&gt;&gt; func()\n",
    "&gt;&gt;&gt; X"
   ]
  },
  {
   "cell_type": "code",
   "execution_count": 6,
   "id": "f2009602",
   "metadata": {},
   "outputs": [
    {
     "name": "stdout",
     "output_type": "stream",
     "text": [
      "iNeuron\n",
      "\n",
      "func() only  assign value of X which is local for  func(),\n",
      "in nested() no varible X that it print Global value X\n"
     ]
    }
   ],
   "source": [
    "X = 'iNeuron'\n",
    "def func():\n",
    "    X = \"NI\"\n",
    "def nested():\n",
    "    print(X)\n",
    "nested()\n",
    "func()\n",
    "\n",
    "print(\"\"\"\\nfunc() only  assign value of X which is local for  func(),\n",
    "in nested() no varible X that it print Global value X\"\"\")"
   ]
  },
  {
   "cell_type": "markdown",
   "id": "e49e271d",
   "metadata": {},
   "source": [
    "### 6. How about this code: what is its output in Python 3, and explain?\n",
    "\n",
    "&gt;&gt;&gt; def func():\n",
    "    \n",
    "X = &#39;NI&#39;\n",
    "\n",
    "def nested():\n",
    "    \n",
    "    \n",
    "nonlocal X\n",
    "\n",
    "X = &#39;Spam&#39;\n",
    "\n",
    "nested()\n",
    "\n",
    "print(X)"
   ]
  },
  {
   "cell_type": "code",
   "execution_count": 7,
   "id": "76e3d9f9",
   "metadata": {},
   "outputs": [
    {
     "name": "stdout",
     "output_type": "stream",
     "text": [
      "iNeuron\n",
      "iNeuron\n",
      "\n",
      "The nonlocal keyword is used to work with variables inside nested functions, where the variable should not belong to the inner function.\n",
      "Use the keyword nonlocal to declare that the variable is not local.\n"
     ]
    }
   ],
   "source": [
    "def func():\n",
    "    X = 'NI'\n",
    "    def nested():\n",
    "        nonlocal X\n",
    "        X = 'Spam'\n",
    "nested()\n",
    "print(X)\n",
    "\n",
    "\n",
    "print(\"\"\"\\nThe nonlocal keyword is used to work with variables inside nested functions, where the variable should not belong to the inner function.\n",
    "Use the keyword nonlocal to declare that the variable is not local.\"\"\")"
   ]
  },
  {
   "cell_type": "code",
   "execution_count": null,
   "id": "225d47ed",
   "metadata": {},
   "outputs": [],
   "source": []
  }
 ],
 "metadata": {
  "kernelspec": {
   "display_name": "Python 3 (ipykernel)",
   "language": "python",
   "name": "python3"
  },
  "language_info": {
   "codemirror_mode": {
    "name": "ipython",
    "version": 3
   },
   "file_extension": ".py",
   "mimetype": "text/x-python",
   "name": "python",
   "nbconvert_exporter": "python",
   "pygments_lexer": "ipython3",
   "version": "3.9.13"
  }
 },
 "nbformat": 4,
 "nbformat_minor": 5
}
