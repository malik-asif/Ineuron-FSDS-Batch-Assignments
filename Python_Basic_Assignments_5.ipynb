{
 "cells": [
  {
   "cell_type": "markdown",
   "id": "b23810da",
   "metadata": {},
   "source": [
    "# Assignment 5 'Python basic'"
   ]
  },
  {
   "cell_type": "markdown",
   "id": "6d8dcdcb",
   "metadata": {},
   "source": [
    "### 1. What does an empty dictionary&#39;s code look like?"
   ]
  },
  {
   "cell_type": "code",
   "execution_count": 1,
   "id": "8c08cab0",
   "metadata": {},
   "outputs": [
    {
     "name": "stdout",
     "output_type": "stream",
     "text": [
      "{}\n"
     ]
    }
   ],
   "source": [
    "d=dict()\n",
    "print(d)"
   ]
  },
  {
   "cell_type": "markdown",
   "id": "bccd3f38",
   "metadata": {},
   "source": [
    "### 2. What is the value of a dictionary value with the key &#39;foo&#39; and the value 42?"
   ]
  },
  {
   "cell_type": "code",
   "execution_count": 2,
   "id": "6700a720",
   "metadata": {
    "scrolled": true
   },
   "outputs": [
    {
     "name": "stdout",
     "output_type": "stream",
     "text": [
      "dict_keys(['foo'])\n",
      "dict_values([42])\n"
     ]
    }
   ],
   "source": [
    "d={\"foo\":42}\n",
    "print(d.keys())\n",
    "print(d.values())\n"
   ]
  },
  {
   "attachments": {},
   "cell_type": "markdown",
   "id": "9e273234",
   "metadata": {},
   "source": [
    "### 3. What is the most significant distinction between a dictionary and a list?\n",
    "\n",
    "Dictionary :\n",
    "1) Contain key and value pairs.<br>\n",
    "2) No index concept.<br>\n",
    "3) Unordered<br>\n",
    "             \n",
    "List : \n",
    "1) Doesn't Contain key and value pairs.<br>\n",
    "2) Have Index concept.<br>\n",
    "3) Ordered <br>            \n",
    "             "
   ]
  },
  {
   "cell_type": "markdown",
   "id": "10359f29",
   "metadata": {},
   "source": [
    "### 4. What happens if you try to access spam[&#39;foo&#39;] if spam is {&#39;bar&#39;: 100}?\n",
    "\n",
    "KeyError: 'foo'"
   ]
  },
  {
   "cell_type": "code",
   "execution_count": 3,
   "id": "0859f515",
   "metadata": {},
   "outputs": [
    {
     "ename": "KeyError",
     "evalue": "'foo'",
     "output_type": "error",
     "traceback": [
      "\u001b[1;31m---------------------------------------------------------------------------\u001b[0m",
      "\u001b[1;31mKeyError\u001b[0m                                  Traceback (most recent call last)",
      "\u001b[1;32m~\\AppData\\Local\\Temp\\ipykernel_21968\\2215505789.py\u001b[0m in \u001b[0;36m<module>\u001b[1;34m\u001b[0m\n\u001b[0;32m      1\u001b[0m \u001b[0mspam\u001b[0m \u001b[1;33m=\u001b[0m \u001b[1;33m{\u001b[0m\u001b[1;34m'bar'\u001b[0m\u001b[1;33m:\u001b[0m \u001b[1;36m100\u001b[0m\u001b[1;33m}\u001b[0m\u001b[1;33m\u001b[0m\u001b[1;33m\u001b[0m\u001b[0m\n\u001b[1;32m----> 2\u001b[1;33m \u001b[0mspam\u001b[0m\u001b[1;33m[\u001b[0m\u001b[1;34m'foo'\u001b[0m\u001b[1;33m]\u001b[0m\u001b[1;33m\u001b[0m\u001b[1;33m\u001b[0m\u001b[0m\n\u001b[0m",
      "\u001b[1;31mKeyError\u001b[0m: 'foo'"
     ]
    }
   ],
   "source": [
    "spam = {'bar': 100} \n",
    "spam['foo']"
   ]
  },
  {
   "cell_type": "markdown",
   "id": "32bc40c6",
   "metadata": {},
   "source": [
    "### 5. If a dictionary is stored in spam, what is the difference between the expressions &#39;cat&#39; in spam and&#39;cat&#39; in spam.keys()?\n",
    "\n",
    "\n",
    "No difference in both expression both are True"
   ]
  },
  {
   "cell_type": "code",
   "execution_count": null,
   "id": "8737156c",
   "metadata": {},
   "outputs": [],
   "source": [
    "spam = {'cat': 100}"
   ]
  },
  {
   "cell_type": "code",
   "execution_count": null,
   "id": "d318a6b1",
   "metadata": {},
   "outputs": [
    {
     "data": {
      "text/plain": [
       "True"
      ]
     },
     "execution_count": 4,
     "metadata": {},
     "output_type": "execute_result"
    }
   ],
   "source": [
    "\"cat\" in spam"
   ]
  },
  {
   "cell_type": "code",
   "execution_count": null,
   "id": "9361b326",
   "metadata": {},
   "outputs": [
    {
     "data": {
      "text/plain": [
       "True"
      ]
     },
     "execution_count": 5,
     "metadata": {},
     "output_type": "execute_result"
    }
   ],
   "source": [
    "'cat' in spam.keys()"
   ]
  },
  {
   "cell_type": "markdown",
   "id": "c5bd4147",
   "metadata": {},
   "source": [
    "### 6. If a dictionary is stored in spam, what is the difference between the expressions &#39;cat&#39; in spam and&#39;cat&#39; in spam.values()?\n",
    "\n",
    "Both expression are different  \"cat\" in spam = True  and 'cat' in spam.values() =False"
   ]
  },
  {
   "cell_type": "code",
   "execution_count": null,
   "id": "4c16a590",
   "metadata": {},
   "outputs": [],
   "source": [
    "spam = {'cat': 100}"
   ]
  },
  {
   "cell_type": "code",
   "execution_count": null,
   "id": "1d279d7d",
   "metadata": {},
   "outputs": [
    {
     "data": {
      "text/plain": [
       "True"
      ]
     },
     "execution_count": 7,
     "metadata": {},
     "output_type": "execute_result"
    }
   ],
   "source": [
    "\"cat\" in spam"
   ]
  },
  {
   "cell_type": "code",
   "execution_count": null,
   "id": "e2612306",
   "metadata": {},
   "outputs": [
    {
     "data": {
      "text/plain": [
       "False"
      ]
     },
     "execution_count": 8,
     "metadata": {},
     "output_type": "execute_result"
    }
   ],
   "source": [
    "'cat' in spam.values()"
   ]
  },
  {
   "cell_type": "markdown",
   "id": "0c9c4f03",
   "metadata": {},
   "source": [
    "### 7. What is a shortcut for the following code?\n",
    "\n",
    "if 'color' not in spam:<br>\n",
    "    spam['color'] = 'black'"
   ]
  },
  {
   "cell_type": "code",
   "execution_count": null,
   "id": "12c774f0",
   "metadata": {},
   "outputs": [
    {
     "name": "stdout",
     "output_type": "stream",
     "text": [
      "black\n"
     ]
    }
   ],
   "source": [
    "print(spam.get(\"color\",\"black\")) \n",
    "#Return the value for key if key is in the dictionary, else default but dictionary not  permanently change"
   ]
  },
  {
   "cell_type": "code",
   "execution_count": null,
   "id": "79003a3d",
   "metadata": {},
   "outputs": [
    {
     "data": {
      "text/plain": [
       "{'cat': 100}"
      ]
     },
     "execution_count": 11,
     "metadata": {},
     "output_type": "execute_result"
    }
   ],
   "source": [
    "spam"
   ]
  },
  {
   "cell_type": "code",
   "execution_count": null,
   "id": "6c8f3cf1",
   "metadata": {},
   "outputs": [
    {
     "data": {
      "text/plain": [
       "'black'"
      ]
     },
     "execution_count": 10,
     "metadata": {},
     "output_type": "execute_result"
    }
   ],
   "source": [
    "spam.setdefault('color', 'black')\n",
    "#shortcut it  change dictionary if key not found and set it value and next time when we again setdefault with other value it nor change "
   ]
  },
  {
   "cell_type": "code",
   "execution_count": null,
   "id": "47b75f2c",
   "metadata": {},
   "outputs": [
    {
     "data": {
      "text/plain": [
       "{'cat': 100, 'color': 'black'}"
      ]
     },
     "execution_count": 13,
     "metadata": {},
     "output_type": "execute_result"
    }
   ],
   "source": [
    "spam"
   ]
  },
  {
   "cell_type": "code",
   "execution_count": null,
   "id": "62c5ca83",
   "metadata": {},
   "outputs": [
    {
     "data": {
      "text/plain": [
       "'black'"
      ]
     },
     "execution_count": 14,
     "metadata": {},
     "output_type": "execute_result"
    }
   ],
   "source": [
    "spam.setdefault('color', 'Blue') #value of color remain same as black"
   ]
  },
  {
   "cell_type": "code",
   "execution_count": null,
   "id": "37a9d8ad",
   "metadata": {},
   "outputs": [
    {
     "data": {
      "text/plain": [
       "{'cat': 100, 'color': 'black'}"
      ]
     },
     "execution_count": 11,
     "metadata": {},
     "output_type": "execute_result"
    }
   ],
   "source": [
    "spam"
   ]
  },
  {
   "attachments": {},
   "cell_type": "markdown",
   "id": "fb2beb8e",
   "metadata": {},
   "source": [
    "### 8. How do you &quot;pretty print&quot; dictionary values using which module and function?\n",
    "\n",
    "    pprint is a Python module that help to pretty print Python data types to be more readable. This module also supports pretty-printing dictionary.\n",
    "    Within the pprint module there is a function with the same name pprint(), which is the function used to pretty-print the given string or object.\n",
    "    \n",
    "    \n",
    "    print(dictionary) print all element in single line which bit difficult to read,but\n",
    "    pprint.pprint(dictionary) print all element in readable way.\n",
    "    But print is in-built method where for pprint.pprint() first need to import pprint"
   ]
  },
  {
   "cell_type": "code",
   "execution_count": null,
   "id": "f1e8115c",
   "metadata": {},
   "outputs": [],
   "source": [
    "import pprint"
   ]
  },
  {
   "cell_type": "code",
   "execution_count": null,
   "id": "72048ffa",
   "metadata": {},
   "outputs": [],
   "source": [
    "dictionary={\"First_Name\":\"Malik\",\"Last_Name\":\"Asif\",\"Address\":\"Palanpur\",\"Level\":{1:\"ML\",2:\"Python\",3:{\"c++,java,c\"},4:{1:\"ML\",2:\"Python\"}},\"day\":(1,2,3,4,5,6,7),\"Month\":[\"jan\",\"feb\",\"sep\"]}"
   ]
  },
  {
   "cell_type": "code",
   "execution_count": null,
   "id": "b03d9b48",
   "metadata": {},
   "outputs": [
    {
     "name": "stdout",
     "output_type": "stream",
     "text": [
      "{'First_Name': 'Malik', 'Last_Name': 'Asif', 'Address': 'Palanpur', 'Level': {1: 'ML', 2: 'Python', 3: {'c++,java,c'}, 4: {1: 'ML', 2: 'Python'}}, 'day': (1, 2, 3, 4, 5, 6, 7), 'Month': ['jan', 'feb', 'sep']}\n"
     ]
    }
   ],
   "source": [
    "print(dictionary)"
   ]
  },
  {
   "cell_type": "code",
   "execution_count": null,
   "id": "3ce7dca3",
   "metadata": {},
   "outputs": [
    {
     "name": "stdout",
     "output_type": "stream",
     "text": [
      "{'Address': 'Palanpur',\n",
      " 'First_Name': 'Malik',\n",
      " 'Last_Name': 'Asif',\n",
      " 'Level': {1: 'ML', 2: 'Python', 3: {'c++,java,c'}, 4: {1: 'ML', 2: 'Python'}},\n",
      " 'Month': ['jan', 'feb', 'sep'],\n",
      " 'day': (1, 2, 3, 4, 5, 6, 7)}\n"
     ]
    }
   ],
   "source": [
    "pprint.pprint(dictionary)"
   ]
  }
 ],
 "metadata": {
  "kernelspec": {
   "display_name": "base",
   "language": "python",
   "name": "python3"
  },
  "language_info": {
   "codemirror_mode": {
    "name": "ipython",
    "version": 3
   },
   "file_extension": ".py",
   "mimetype": "text/x-python",
   "name": "python",
   "nbconvert_exporter": "python",
   "pygments_lexer": "ipython3",
   "version": "3.9.13"
  },
  "vscode": {
   "interpreter": {
    "hash": "d4d32026e0067de0316c73ac1a8629660854211ed9c19d462c1689f5b4c6c67d"
   }
  }
 },
 "nbformat": 4,
 "nbformat_minor": 5
}
