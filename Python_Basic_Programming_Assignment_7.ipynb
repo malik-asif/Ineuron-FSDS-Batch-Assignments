{
 "cells": [
  {
   "cell_type": "markdown",
   "id": "b7934435",
   "metadata": {},
   "source": [
    "# Python Basic Programming Assignment 7"
   ]
  },
  {
   "cell_type": "markdown",
   "id": "ca6057ae",
   "metadata": {},
   "source": [
    "### 1. Write a Python Program to find sum of array?"
   ]
  },
  {
   "cell_type": "code",
   "execution_count": 1,
   "id": "0edb769b",
   "metadata": {},
   "outputs": [
    {
     "name": "stdout",
     "output_type": "stream",
     "text": [
      "original : [2, 5, 8, 10, 3]\n",
      "Sum of array : 28\n"
     ]
    }
   ],
   "source": [
    "arry=[2,5,8,10,3]\n",
    "Sum=0\n",
    "for i in arry:\n",
    "    Sum=Sum+i\n",
    "print(\"original :\",arry)\n",
    "print(\"Sum of array :\", Sum)"
   ]
  },
  {
   "cell_type": "markdown",
   "id": "946b32f3",
   "metadata": {},
   "source": [
    "### 2. Write a Python Program to find largest element in an array?"
   ]
  },
  {
   "cell_type": "code",
   "execution_count": 2,
   "id": "15e7dd15",
   "metadata": {},
   "outputs": [
    {
     "name": "stdout",
     "output_type": "stream",
     "text": [
      "original : [2, 5, 8, 10, 3]\n",
      "\n",
      "Largest element inm array :  10\n",
      "\n",
      "********************Shortcut*****************\n",
      "Largest element inm array :  10\n"
     ]
    }
   ],
   "source": [
    "print(\"original :\",arry)\n",
    "def largest(arr,n):\n",
    "    max = arr[0]\n",
    "    for i in range(1,n):\n",
    "        if arr[i] > max:\n",
    "            max = arr[i]\n",
    "    return max\n",
    "n=len(arry)\n",
    "print(\"\\nLargest element inm array : \", largest(arry,n))\n",
    "\n",
    "print(\"\\n********************Shortcut*****************\")\n",
    "\n",
    "print(\"Largest element inm array : \",max(arry))"
   ]
  },
  {
   "cell_type": "markdown",
   "id": "c9553525",
   "metadata": {},
   "source": [
    "### 3. Write a Python Program for array rotation?"
   ]
  },
  {
   "cell_type": "code",
   "execution_count": 3,
   "id": "8e7ad890",
   "metadata": {},
   "outputs": [
    {
     "name": "stdout",
     "output_type": "stream",
     "text": [
      "original : [2, 5, 8, 10, 3]\n",
      "array rotation [3, 10, 8, 5, 2]\n"
     ]
    }
   ],
   "source": [
    "print(\"original :\",arry)\n",
    "print(\"array rotation\",arry[::-1])"
   ]
  },
  {
   "cell_type": "markdown",
   "id": "0aa4b192",
   "metadata": {},
   "source": [
    "### 4. Write a Python Program to Split the array and add the first part to the end?"
   ]
  },
  {
   "cell_type": "code",
   "execution_count": 4,
   "id": "a7ba9e3d",
   "metadata": {},
   "outputs": [
    {
     "name": "stdout",
     "output_type": "stream",
     "text": [
      "original : [2, 5, 8, 10, 3]\n",
      "5 8 10 3 2 "
     ]
    }
   ],
   "source": [
    "def splitArr(a,k): \n",
    "    b = a[:k]\n",
    "    return (a[k::]+b[::])\n",
    "\n",
    "print(\"original :\",arry)\n",
    "n = len(arry)\n",
    "position = 1\n",
    "arr = splitArr(arry, position)\n",
    "for i in range(0, n): \n",
    "    print(arr[i], end = ' ')\n"
   ]
  },
  {
   "cell_type": "markdown",
   "id": "2e2f4076",
   "metadata": {},
   "source": [
    "### 5. Write a Python Program to check if given array is Monotonic?"
   ]
  },
  {
   "cell_type": "code",
   "execution_count": 5,
   "id": "a9865a93",
   "metadata": {},
   "outputs": [
    {
     "name": "stdout",
     "output_type": "stream",
     "text": [
      "False\n"
     ]
    }
   ],
   "source": [
    "def Monotonic(A): \n",
    "    return (all(A[i] <= A[i + 1] for i in range(len(A) - 1)) or\n",
    "            all(A[i] >= A[i + 1] for i in range(len(A) - 1)))\n",
    "\n",
    "print(Monotonic(arry))"
   ]
  }
 ],
 "metadata": {
  "kernelspec": {
   "display_name": "base",
   "language": "python",
   "name": "python3"
  },
  "language_info": {
   "codemirror_mode": {
    "name": "ipython",
    "version": 3
   },
   "file_extension": ".py",
   "mimetype": "text/x-python",
   "name": "python",
   "nbconvert_exporter": "python",
   "pygments_lexer": "ipython3",
   "version": "3.9.13"
  },
  "vscode": {
   "interpreter": {
    "hash": "d4d32026e0067de0316c73ac1a8629660854211ed9c19d462c1689f5b4c6c67d"
   }
  }
 },
 "nbformat": 4,
 "nbformat_minor": 5
}
