{
 "cells": [
  {
   "cell_type": "markdown",
   "id": "2dee7943",
   "metadata": {},
   "source": [
    "# Python Basic Programming Assignment 11"
   ]
  },
  {
   "cell_type": "markdown",
   "id": "954e615a",
   "metadata": {},
   "source": [
    "### 1. Write a Python program to find words which are greater than given length k?"
   ]
  },
  {
   "cell_type": "code",
   "execution_count": 2,
   "id": "3f80f51a",
   "metadata": {},
   "outputs": [
    {
     "name": "stdout",
     "output_type": "stream",
     "text": [
      "Programming is the art of telling another human being what one wants the computer to do.\n",
      "3\n",
      "\n",
      "Words greater than length 3 :  Programming telling another human being what wants computer\n"
     ]
    }
   ],
   "source": [
    "text=input(\"Enter the Text :\\n\")\n",
    "k = int(input('Enter the length : '))\n",
    "text_list=[string for string in text.split() if len(string)> k]\n",
    "print(text)\n",
    "print(k)\n",
    "print(f\"\\nWords greater than length {k} : \",\" \".join(text_list))\n",
    "    \n",
    "        "
   ]
  },
  {
   "cell_type": "markdown",
   "id": "23d76646",
   "metadata": {},
   "source": [
    "### 2. Write a Python program for removing i-th character from a string?"
   ]
  },
  {
   "cell_type": "code",
   "execution_count": 3,
   "id": "43f9ed15",
   "metadata": {},
   "outputs": [
    {
     "name": "stdout",
     "output_type": "stream",
     "text": [
      "c\n",
      "h\n",
      "a\n",
      "a\n",
      "c\n",
      "t\n",
      "e\n",
      "r\n"
     ]
    }
   ],
   "source": [
    "string=input(\"Enter the String :\\n\")\n",
    "i = int(input('Enter the length : '))\n",
    "for j in range(len(string)):\n",
    "    if j!=i-1:\n",
    "        print(string[j])"
   ]
  },
  {
   "cell_type": "markdown",
   "id": "7cafd14a",
   "metadata": {},
   "source": [
    "### 3. Write a Python program to split and join a string?"
   ]
  },
  {
   "cell_type": "code",
   "execution_count": 5,
   "id": "7d01bf73",
   "metadata": {},
   "outputs": [
    {
     "name": "stdout",
     "output_type": "stream",
     "text": [
      "Programming is the art of telling another human being what one wants the computer to do.\n",
      "\n",
      "\n",
      "Split and join a string :  Programming-is-the-art-of-telling-another-human-being-what-one-wants-the-computer-to-do.\n"
     ]
    }
   ],
   "source": [
    "text=input(\"Enter the Text :\\n\")\n",
    "print(text)\n",
    "print()\n",
    "print(f\"\\nSplit and join a string : \",\"-\".join(text.split()))"
   ]
  },
  {
   "cell_type": "markdown",
   "id": "39e0c4ee",
   "metadata": {},
   "source": [
    "### 4. Write a Python to check if a given string is binary string or not?"
   ]
  },
  {
   "cell_type": "code",
   "execution_count": 7,
   "id": "40d461cc",
   "metadata": {},
   "outputs": [
    {
     "name": "stdout",
     "output_type": "stream",
     "text": [
      "{'1', '0'}\n",
      "Yes\n"
     ]
    }
   ],
   "source": [
    "string =input(\"Enter the string : \")\n",
    "p = set(string)\n",
    "print(p)\n",
    "s ={'0', '1'}\n",
    "if s == p or p == {'0'} or p == {'1'}:\n",
    "    print(\"Yes\")\n",
    "else:\n",
    "    print(\"No\")"
   ]
  },
  {
   "cell_type": "markdown",
   "id": "0070ee44",
   "metadata": {},
   "source": [
    "### 5. Write a Python program to find uncommon words from two Strings?"
   ]
  },
  {
   "cell_type": "code",
   "execution_count": 11,
   "id": "db3ad76a",
   "metadata": {},
   "outputs": [
    {
     "data": {
      "text/plain": [
       "{'h', 'n', 't', 'y'}"
      ]
     },
     "execution_count": 11,
     "metadata": {},
     "output_type": "execute_result"
    }
   ],
   "source": [
    "string1 =set(input(\"Enter the first string : \").lower())\n",
    "string2 =set(input(\"Enter the second string : \").lower())\n",
    "\n",
    "string1.difference(string2)"
   ]
  },
  {
   "cell_type": "markdown",
   "id": "cf84b82e",
   "metadata": {},
   "source": [
    "### 6. Write a Python to find all duplicate characters in string?"
   ]
  },
  {
   "cell_type": "code",
   "execution_count": 25,
   "id": "b9956d14",
   "metadata": {},
   "outputs": [
    {
     "name": "stdout",
     "output_type": "stream",
     "text": [
      "Enter the first string : characters \n",
      "c\n",
      "a\n",
      "r\n"
     ]
    }
   ],
   "source": [
    "from collections import Counter\n",
    "string =input(\"Enter the first string : \").lower()\n",
    "WC = Counter(string)\n",
    "for letter, count in WC.items():\n",
    "    if (count > 1):\n",
    "        print(letter)\n",
    " "
   ]
  },
  {
   "cell_type": "markdown",
   "id": "4d1c016f",
   "metadata": {},
   "source": [
    "### 7. Write a Python Program to check if a string contains any special character?"
   ]
  },
  {
   "cell_type": "code",
   "execution_count": 28,
   "id": "a6ef0c37",
   "metadata": {},
   "outputs": [
    {
     "name": "stdout",
     "output_type": "stream",
     "text": [
      "Enter the first string : prog$am!!!yu\n",
      "string  Not contains any special character\n"
     ]
    }
   ],
   "source": [
    "special_character='[@_!#$%^&*()<>?/\\|}{~:]'\n",
    "string =input(\"Enter the first string : \")\n",
    "count=0\n",
    "for  string in text.split():\n",
    "    if string in special_character:\n",
    "        count+=1\n",
    "if count >0:\n",
    "    print(\"String contains any special character\")\n",
    "else:\n",
    "    print(\"string  Not contains any special character\")"
   ]
  },
  {
   "cell_type": "code",
   "execution_count": null,
   "id": "40143b40",
   "metadata": {},
   "outputs": [],
   "source": []
  }
 ],
 "metadata": {
  "kernelspec": {
   "display_name": "Python 3 (ipykernel)",
   "language": "python",
   "name": "python3"
  },
  "language_info": {
   "codemirror_mode": {
    "name": "ipython",
    "version": 3
   },
   "file_extension": ".py",
   "mimetype": "text/x-python",
   "name": "python",
   "nbconvert_exporter": "python",
   "pygments_lexer": "ipython3",
   "version": "3.9.13"
  }
 },
 "nbformat": 4,
 "nbformat_minor": 5
}
