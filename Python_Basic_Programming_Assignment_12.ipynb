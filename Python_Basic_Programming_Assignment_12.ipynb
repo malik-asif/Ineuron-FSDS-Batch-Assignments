{
 "cells": [
  {
   "cell_type": "markdown",
   "id": "e02c5d83",
   "metadata": {},
   "source": [
    "# Python Basic Programming Assignment 12"
   ]
  },
  {
   "cell_type": "raw",
   "id": "dd61dde4",
   "metadata": {},
   "source": [
    "1. Write a Python program to Extract Unique values dictionary values?\n",
    "2. Write a Python program to find the sum of all items in a dictionary?\n",
    "3. Write a Python program to Merging two Dictionaries?\n",
    "4. Write a Python program to convert key-values list to flat dictionary?\n",
    "5. Write a Python program to insertion at the beginning in OrderedDict?\n",
    "6. Write a Python program to check order of character in string using OrderedDict()?\n",
    "7. Write a Python program to sort Python Dictionaries by Key or Value?"
   ]
  },
  {
   "cell_type": "markdown",
   "id": "60b4cb9e",
   "metadata": {},
   "source": [
    "### 1. Write a Python program to Extract Unique values dictionary values?"
   ]
  },
  {
   "cell_type": "code",
   "execution_count": 12,
   "id": "7aed3bd8",
   "metadata": {},
   "outputs": [
    {
     "name": "stdout",
     "output_type": "stream",
     "text": [
      "Extract Unique values dictionary values :  {0, 1, 3, 4, 5, 6, 7, 8, 73, 9, 76, 55}\n"
     ]
    }
   ],
   "source": [
    "dictionary={\"a\":[4,8,6,73,7,6,3],\n",
    "           \"b\":[7,3,5,6,4,3],\n",
    "           \"c\":[4,9,1,3,0,76,55]}\n",
    "\n",
    "lst=set([val for  vals in dictionary.values() for val in vals])\n",
    "print(\"Extract Unique values dictionary values : \",lst)"
   ]
  },
  {
   "cell_type": "markdown",
   "id": "d07b9886",
   "metadata": {},
   "source": [
    "### 2. Write a Python program to find the sum of all items in a dictionary?"
   ]
  },
  {
   "cell_type": "code",
   "execution_count": 14,
   "id": "9e173647",
   "metadata": {},
   "outputs": [
    {
     "name": "stdout",
     "output_type": "stream",
     "text": [
      "Sum of all items in a dictionary :  283\n"
     ]
    }
   ],
   "source": [
    "lst=[val for  vals in dictionary.values() for val in vals]\n",
    "print(\"Sum of all items in a dictionary : \",sum(lst))"
   ]
  },
  {
   "cell_type": "markdown",
   "id": "1dda13e6",
   "metadata": {},
   "source": [
    "### 3.Write a Python program to Merging two Dictionaries?"
   ]
  },
  {
   "cell_type": "code",
   "execution_count": 1,
   "id": "fef19ef5",
   "metadata": {},
   "outputs": [],
   "source": [
    "dictionary2={'d':[78,7,3,5],\n",
    "            \"e\":[7,6,8,9]}\n",
    "# print(\"Merging two Dictionaries :\\n\", dictionary|dictionary2)"
   ]
  },
  {
   "cell_type": "code",
   "execution_count": 2,
   "id": "a2d85550",
   "metadata": {},
   "outputs": [
    {
     "data": {
      "text/plain": [
       "{'d': [78, 7, 3, 5], 'e': [7, 6, 8, 9]}"
      ]
     },
     "execution_count": 2,
     "metadata": {},
     "output_type": "execute_result"
    }
   ],
   "source": [
    "dictionary2"
   ]
  },
  {
   "cell_type": "markdown",
   "id": "654814b2",
   "metadata": {},
   "source": [
    "### 4. Write a Python program to convert key-values list to flat dictionary?"
   ]
  },
  {
   "cell_type": "code",
   "execution_count": 23,
   "id": "02d28103",
   "metadata": {},
   "outputs": [
    {
     "data": {
      "text/plain": [
       "{1: 'Jan', 2: 'Feb', 3: 'March'}"
      ]
     },
     "execution_count": 23,
     "metadata": {},
     "output_type": "execute_result"
    }
   ],
   "source": [
    "test_dict = {'month' : [1, 2, 3],\n",
    "             'name' : ['Jan', 'Feb', 'March']}\n",
    "\n",
    "dict(zip(test_dict['month'], test_dict['name']))"
   ]
  },
  {
   "cell_type": "markdown",
   "id": "c3a3129c",
   "metadata": {},
   "source": [
    "### 5. Write a Python program to insertion at the beginning in OrderedDict?"
   ]
  },
  {
   "cell_type": "code",
   "execution_count": 30,
   "id": "507a1149",
   "metadata": {},
   "outputs": [
    {
     "name": "stdout",
     "output_type": "stream",
     "text": [
      "Original dict :\n",
      "  OrderedDict([('a', '1'), ('b', '2'), ('c', '3')])\n",
      "Insertion at the beginning :\n",
      "  OrderedDict([('c', '3'), ('a', '1'), ('b', '2')])\n"
     ]
    }
   ],
   "source": [
    "from collections import OrderedDict\n",
    "ordered_dict = OrderedDict([('a', '1'), ('b', '2')])\n",
    " \n",
    "# inserting items in starting of dict\n",
    "ordered_dict.update({'c':'3'})\n",
    "print(\"Original dict :\\n \",ordered_dict)\n",
    "ordered_dict.move_to_end('c', last = False)\n",
    "print(\"Insertion at the beginning :\\n \",ordered_dict)"
   ]
  },
  {
   "cell_type": "markdown",
   "id": "c310ed07",
   "metadata": {},
   "source": [
    "### 6. Write a Python program to check order of character in string using OrderedDict()?"
   ]
  },
  {
   "cell_type": "code",
   "execution_count": 32,
   "id": "26df70b2",
   "metadata": {},
   "outputs": [
    {
     "name": "stdout",
     "output_type": "stream",
     "text": [
      "True\n"
     ]
    }
   ],
   "source": [
    "from collections import OrderedDict  \n",
    "def checkOrder(string, pattern): \n",
    "    dic = OrderedDict.fromkeys(string) \n",
    "    ptr = 0\n",
    "    for key,value in dic.items(): \n",
    "        if (key == pattern[ptr]): \n",
    "            ptr = ptr + 1\n",
    "        if (ptr == (len(pattern))): \n",
    "            return 'True'\n",
    "    return 'False'\n",
    "string = 'OrderedDict'\n",
    "pattern = 'rd'\n",
    "print (checkOrder(string,pattern))"
   ]
  },
  {
   "cell_type": "markdown",
   "id": "e8534f7c",
   "metadata": {},
   "source": [
    "### 7. Write a Python program to sort Python Dictionaries by Key or Value?"
   ]
  },
  {
   "cell_type": "code",
   "execution_count": 3,
   "id": "31e1f9eb",
   "metadata": {},
   "outputs": [
    {
     "name": "stdout",
     "output_type": "stream",
     "text": [
      "OrderedDict([('Aahil', 15), ('Karishma', 4), ('Malik', 7), ('Zoya', 8)])\n"
     ]
    }
   ],
   "source": [
    "from collections import OrderedDict\n",
    "dictionary3={\"Malik\":7,\n",
    "            \"Karishma\":4,\n",
    "            \"Aahil\":15,\n",
    "            \"Zoya\":8}\n",
    "dict1 = OrderedDict(sorted(dictionary3.items()))\n",
    "print(dict1)"
   ]
  },
  {
   "cell_type": "code",
   "execution_count": null,
   "id": "e241de61",
   "metadata": {},
   "outputs": [],
   "source": []
  }
 ],
 "metadata": {
  "kernelspec": {
   "display_name": "Python 3 (ipykernel)",
   "language": "python",
   "name": "python3"
  },
  "language_info": {
   "codemirror_mode": {
    "name": "ipython",
    "version": 3
   },
   "file_extension": ".py",
   "mimetype": "text/x-python",
   "name": "python",
   "nbconvert_exporter": "python",
   "pygments_lexer": "ipython3",
   "version": "3.9.13"
  }
 },
 "nbformat": 4,
 "nbformat_minor": 5
}
