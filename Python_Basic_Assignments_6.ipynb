{
 "cells": [
  {
   "cell_type": "markdown",
   "id": "77751fce",
   "metadata": {},
   "source": [
    "# Assignment 6 'Python basic'"
   ]
  },
  {
   "cell_type": "markdown",
   "id": "2a79d7ea",
   "metadata": {},
   "source": [
    "### 1. What are escape characters, and how do you use them?\n",
    "\n",
    "    The backslash “\\” is a special character, also called the “escape” character. It is used in representing certain whitespace characters.If We not used it python not able to read certain string character. \n",
    "\n"
   ]
  },
  {
   "cell_type": "markdown",
   "id": "504bd697",
   "metadata": {},
   "source": [
    "### 2. What do the escape characters n and t stand for?\n",
    "\n",
    "`\\n` means newline.<br>\n",
    "`\\t` means tab"
   ]
  },
  {
   "cell_type": "markdown",
   "id": "efb6920b",
   "metadata": {},
   "source": [
    "### 3. What is the way to include backslash characters in a string?\n",
    "\n",
    "`\\\\` used double backslash."
   ]
  },
  {
   "cell_type": "markdown",
   "id": "766e3e80",
   "metadata": {},
   "source": [
    "### 4. The string &quot;Howl&#39;s Moving Castle&quot; is a correct value. Why isn&#39;t the single quote character in the word Howl&#39;s not escaped a problem?"
   ]
  },
  {
   "cell_type": "code",
   "execution_count": 13,
   "id": "0afb7762",
   "metadata": {},
   "outputs": [
    {
     "name": "stdout",
     "output_type": "stream",
     "text": [
      "Howl's Moving Castle\n"
     ]
    }
   ],
   "source": [
    "string=\"Howl's Moving Castle\"\n",
    "print(string)"
   ]
  },
  {
   "cell_type": "markdown",
   "id": "052f8555",
   "metadata": {},
   "source": [
    "`Howl's` work  absoulty fine because we used double quotes in beginning and ending."
   ]
  },
  {
   "cell_type": "markdown",
   "id": "b7e18884",
   "metadata": {},
   "source": [
    "### 5. How do you write a string of newlines if you don&#39;t want to use the n character?\n",
    "\n",
    "    By Using Multiline string(\"\"\"--------------\"\"\").String are enclose with triple quotes."
   ]
  },
  {
   "cell_type": "code",
   "execution_count": 14,
   "id": "e823a598",
   "metadata": {},
   "outputs": [],
   "source": [
    "strings=\"\"\"Python is a high-level, interpreted, general-purpose programming language.\n",
    "Its design philosophy emphasizes code readability with the use of significant indentation.[32]\n",
    "\n",
    "Python is dynamically-typed and garbage-collected.\n",
    "It supports multiple programming paradigms, including structured (particularly procedural), object-oriented and functional programming.\"\"\""
   ]
  },
  {
   "cell_type": "code",
   "execution_count": 15,
   "id": "5e63b5cd",
   "metadata": {},
   "outputs": [
    {
     "name": "stdout",
     "output_type": "stream",
     "text": [
      "Python is a high-level, interpreted, general-purpose programming language.\n",
      "Its design philosophy emphasizes code readability with the use of significant indentation.[32]\n",
      "\n",
      "Python is dynamically-typed and garbage-collected.\n",
      "It supports multiple programming paradigms, including structured (particularly procedural), object-oriented and functional programming.\n"
     ]
    }
   ],
   "source": [
    "print(strings)"
   ]
  },
  {
   "cell_type": "markdown",
   "id": "799157ff",
   "metadata": {},
   "source": [
    "### 6. What are the values of the given expressions?\n",
    "\n",
    "&#39;Hello, world!&#39;[1]<br>\n",
    "&#39;Hello, world!&#39;[0:5]<br>\n",
    "&#39;Hello, world!&#39;[:5]<br>\n",
    "&#39;Hello, world!&#39;[3:]"
   ]
  },
  {
   "cell_type": "code",
   "execution_count": 16,
   "id": "6f91e66c",
   "metadata": {},
   "outputs": [
    {
     "name": "stdout",
     "output_type": "stream",
     "text": [
      "e\n"
     ]
    }
   ],
   "source": [
    "print('Hello, world!'[1])"
   ]
  },
  {
   "cell_type": "code",
   "execution_count": 17,
   "id": "0cfa3be9",
   "metadata": {},
   "outputs": [
    {
     "name": "stdout",
     "output_type": "stream",
     "text": [
      "Hello\n"
     ]
    }
   ],
   "source": [
    "print('Hello, world!'[0:5])"
   ]
  },
  {
   "cell_type": "code",
   "execution_count": 18,
   "id": "b2fdd00b",
   "metadata": {},
   "outputs": [
    {
     "name": "stdout",
     "output_type": "stream",
     "text": [
      "Hello\n"
     ]
    }
   ],
   "source": [
    "print('Hello, world!'[:5])"
   ]
  },
  {
   "cell_type": "code",
   "execution_count": 19,
   "id": "0771fdcb",
   "metadata": {},
   "outputs": [
    {
     "name": "stdout",
     "output_type": "stream",
     "text": [
      "lo, world!\n"
     ]
    }
   ],
   "source": [
    "print('Hello, world!'[3:])"
   ]
  },
  {
   "cell_type": "markdown",
   "id": "d7dff450",
   "metadata": {},
   "source": [
    "### 7. What are the values of the following expressions?\n",
    "\n",
    "&#39;Hello&#39;.upper()<br>\n",
    "&#39;Hello&#39;.upper().isupper()<br>\n",
    "&#39;Hello&#39;.upper().lower()"
   ]
  },
  {
   "cell_type": "code",
   "execution_count": 20,
   "id": "74cd9ca5",
   "metadata": {},
   "outputs": [
    {
     "name": "stdout",
     "output_type": "stream",
     "text": [
      "HELLO\n"
     ]
    }
   ],
   "source": [
    "print('Hello'.upper())"
   ]
  },
  {
   "cell_type": "code",
   "execution_count": 21,
   "id": "c41eb71d",
   "metadata": {},
   "outputs": [
    {
     "name": "stdout",
     "output_type": "stream",
     "text": [
      "True\n"
     ]
    }
   ],
   "source": [
    "print('Hello'.upper().isupper())"
   ]
  },
  {
   "cell_type": "code",
   "execution_count": 22,
   "id": "f62e3406",
   "metadata": {},
   "outputs": [
    {
     "name": "stdout",
     "output_type": "stream",
     "text": [
      "hello\n"
     ]
    }
   ],
   "source": [
    "print('Hello'.upper().lower())"
   ]
  },
  {
   "cell_type": "markdown",
   "id": "a8a6e115",
   "metadata": {},
   "source": [
    "### 8. What are the values of the following expressions?\n",
    "\n",
    "&#39;Remember, remember, the fifth of July.&#39;.split()<br>\n",
    "\n",
    "&#39;-&#39;.join(&#39;There can only one.&#39;.split())"
   ]
  },
  {
   "cell_type": "code",
   "execution_count": 23,
   "id": "43c87c92",
   "metadata": {},
   "outputs": [
    {
     "name": "stdout",
     "output_type": "stream",
     "text": [
      "['Remember,', 'remember,', 'the', 'fifth', 'of', 'July.']\n"
     ]
    }
   ],
   "source": [
    "print('Remember, remember, the fifth of July.'.split())"
   ]
  },
  {
   "cell_type": "code",
   "execution_count": 24,
   "id": "5b423774",
   "metadata": {},
   "outputs": [
    {
     "name": "stdout",
     "output_type": "stream",
     "text": [
      "There-can-only-one.\n"
     ]
    }
   ],
   "source": [
    "print('-'.join('There can only one.'.split()))"
   ]
  },
  {
   "cell_type": "markdown",
   "id": "3017881d",
   "metadata": {},
   "source": [
    "### 9. What are the methods for right-justifying, left-justifying, and centering a string?\n",
    "\n",
    "right-justifying method `rjust(width,fillchar)`<br>\n",
    "left-justifying method `ljust(width,fillchar)`<br>\n",
    "center method `center(width,fillchar)`"
   ]
  },
  {
   "cell_type": "code",
   "execution_count": 30,
   "id": "0559b8cf",
   "metadata": {},
   "outputs": [
    {
     "name": "stdout",
     "output_type": "stream",
     "text": [
      "*****Malik\n",
      "**Malik***\n",
      "Malik*****\n"
     ]
    }
   ],
   "source": [
    "string=\"Malik\"\n",
    "print(string.rjust(10,'*'))\n",
    "print(string.center(10,'*'))\n",
    "print(string.ljust(10,\"*\"))"
   ]
  },
  {
   "cell_type": "markdown",
   "id": "d4b2e5cd",
   "metadata": {},
   "source": [
    "### 10. What is the best way to remove whitespace characters from the start or end?\n",
    "\n",
    "By using strip(), if want to reomve start space use `lstrip()` and if want to remove end space use `rstrip`"
   ]
  },
  {
   "cell_type": "code",
   "execution_count": 31,
   "id": "74793b88",
   "metadata": {},
   "outputs": [],
   "source": [
    "string=\"    Malik Asif    \""
   ]
  },
  {
   "cell_type": "code",
   "execution_count": 32,
   "id": "66350bdd",
   "metadata": {},
   "outputs": [
    {
     "name": "stdout",
     "output_type": "stream",
     "text": [
      "Malik Asif    \n",
      "    Malik Asif\n"
     ]
    }
   ],
   "source": [
    "print(string.lstrip())\n",
    "print(string.rstrip())"
   ]
  }
 ],
 "metadata": {
  "kernelspec": {
   "display_name": "Python 3 (ipykernel)",
   "language": "python",
   "name": "python3"
  },
  "language_info": {
   "codemirror_mode": {
    "name": "ipython",
    "version": 3
   },
   "file_extension": ".py",
   "mimetype": "text/x-python",
   "name": "python",
   "nbconvert_exporter": "python",
   "pygments_lexer": "ipython3",
   "version": "3.9.7"
  }
 },
 "nbformat": 4,
 "nbformat_minor": 5
}
