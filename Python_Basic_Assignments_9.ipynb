{
 "cells": [
  {
   "cell_type": "markdown",
   "id": "9695ba50",
   "metadata": {},
   "source": [
    "# Assignment 9 'Python basic'"
   ]
  },
  {
   "cell_type": "markdown",
   "id": "496f8174",
   "metadata": {},
   "source": [
    "### 1. To what does a relative path refer?\n",
    "\n",
    "A relative path refers to a location that is relative to a current directory."
   ]
  },
  {
   "cell_type": "markdown",
   "id": "15d97117",
   "metadata": {},
   "source": [
    "### 2. What does an absolute path start with your operating system?\n",
    "\n",
    "Absolute Path start with root folder such as `C:\\,D:\\`."
   ]
  },
  {
   "cell_type": "markdown",
   "id": "a418222a",
   "metadata": {},
   "source": [
    "### 3. What do the functions os.getcwd() and os.chdir() do?\n",
    "\n",
    "**os.getcwd()** is used to get Current Working Director.\n",
    "\n",
    "**os.chdir()** is used to changes the current working directory.\n"
   ]
  },
  {
   "cell_type": "markdown",
   "id": "f09f9971",
   "metadata": {},
   "source": [
    "### 4. What are the . and .. folders?\n",
    "\n",
    "The . folder is the current folder, and .. is the parent folder"
   ]
  },
  {
   "cell_type": "markdown",
   "id": "4515e3b9",
   "metadata": {},
   "source": [
    "### 5. In C:\\bacon\\eggs\\spam.txt, which part is the dir name, and which part is the base name\n",
    "\n",
    "dir name is `C:\\bacon\\eggs`\n",
    "\n",
    "base name is `spam.txt`"
   ]
  },
  {
   "cell_type": "markdown",
   "id": "0ec3a8e0",
   "metadata": {},
   "source": [
    "### 6. What are the three “mode” arguments that can be passed to the open() function?\n",
    "\n",
    "'r' for read mode\n",
    "\n",
    "'w' for write mode\n",
    "\n",
    "'a' for append mode"
   ]
  },
  {
   "cell_type": "markdown",
   "id": "9c78f286",
   "metadata": {},
   "source": [
    "### 7. What happens if an existing file is opened in write mode?\n",
    "\n",
    "An existing file opened in write mode is erased and completely overwritten."
   ]
  },
  {
   "cell_type": "markdown",
   "id": "8d3990e7",
   "metadata": {},
   "source": [
    "### 8. How do you tell the difference between read() and readlines()?\n",
    "\n",
    "**The read()** method returns the  contents  of file as a single string value. \n",
    "\n",
    "**The readlines()** method returns a list of strings, where each string is a line from the file’s contents."
   ]
  },
  {
   "cell_type": "markdown",
   "id": "b35fe232",
   "metadata": {},
   "source": [
    "### 9. What data structure does a shelf value resemble?\n",
    "\n",
    "A shelf value resembles a dictionary value; it has keys and values, along with keys() and values() methods that work similarly to the dictionary methods of the same names."
   ]
  }
 ],
 "metadata": {
  "kernelspec": {
   "display_name": "Python 3 (ipykernel)",
   "language": "python",
   "name": "python3"
  },
  "language_info": {
   "codemirror_mode": {
    "name": "ipython",
    "version": 3
   },
   "file_extension": ".py",
   "mimetype": "text/x-python",
   "name": "python",
   "nbconvert_exporter": "python",
   "pygments_lexer": "ipython3",
   "version": "3.9.7"
  }
 },
 "nbformat": 4,
 "nbformat_minor": 5
}
