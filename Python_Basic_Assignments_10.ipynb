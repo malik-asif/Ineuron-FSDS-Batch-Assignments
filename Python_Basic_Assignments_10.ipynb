{
 "cells": [
  {
   "cell_type": "markdown",
   "id": "2fae9ef3",
   "metadata": {},
   "source": [
    "# Assignment 10 'Python basic'"
   ]
  },
  {
   "cell_type": "markdown",
   "id": "4c76f689",
   "metadata": {},
   "source": [
    "### 1. How do you distinguish between shutil.copy() and shutil.copytree()?\n",
    "\n",
    "**shutil.copy()** used to copy a single file\n",
    "\n",
    "**shutil.copytree()** used to  copy an entire folder with all its contents."
   ]
  },
  {
   "cell_type": "markdown",
   "id": "491abf91",
   "metadata": {},
   "source": [
    "### 2. What function is used to rename files?\n",
    "\n",
    "**os.rename()** used to rename a file or directory.\n",
    "\n",
    "`os.rename('path/to/file.txt', 'path/to/new/directory/file.txt')`\n",
    "\n",
    "**shutil.move()** is used for renaming files(Actually overwrite ), as well as moving them.\n",
    "\n",
    "`shutil.move('path/to/file.txt', 'path/to/new/directory/')`\n",
    "\n",
    "\n",
    "1.OS module might fail to move a file **if the source and destination path is on different file systems or drive.**\n",
    "But shutil.move will not fail in this kind of cases.\n",
    "\n",
    "2.shutil.move checks if the source and destination path are on the same file system or not. But os.rename does not check, thus it fails sometimes.\n",
    "\n",
    "3.After checking the source and destination path, if it is found that they are not in the same file system, **shutil.move will copy the file first to the destination.** Then it will delete the file from the source file. Thus we can say shutil.move is a smarter method to move a file in Python when the source and destination path are not on the same drive or file system.\n",
    "\n",
    "4.shutil.move works on high-level functions, while os.rename works on lower-level functions."
   ]
  },
  {
   "cell_type": "markdown",
   "id": "7da9ae01",
   "metadata": {},
   "source": [
    "### 3. What is the difference between the delete functions in the send2trash and shutil modules?\n",
    "\n",
    "**Delete()** permanently delete files and folder.\n",
    "\n",
    "**send2trash()** move a file or folder to the recycle bin\n",
    "\n"
   ]
  },
  {
   "cell_type": "markdown",
   "id": "89006ebe",
   "metadata": {},
   "source": [
    "### 4.ZipFile objects have a close() method just like File objects’ close() method. What ZipFile method is equivalent to File objects’ open() method?\n",
    "\n",
    "**zipfile.ZipFile()** function is equivalent to the open() function.<br>\n",
    "the first argument is the filename, and the second argument is the mode to open the ZIP file in (read, write, or append)."
   ]
  },
  {
   "cell_type": "markdown",
   "id": "000a5d62",
   "metadata": {},
   "source": [
    "### 5. Create a programme that searches a folder tree for files with a certain file extension (such as .pdf or .jpg). Copy these files from whatever location they are in to a new folder."
   ]
  },
  {
   "cell_type": "code",
   "execution_count": 90,
   "id": "e0aab51e",
   "metadata": {},
   "outputs": [],
   "source": [
    "import os\n",
    "import shutil  "
   ]
  },
  {
   "cell_type": "code",
   "execution_count": 91,
   "id": "b39ce3a0",
   "metadata": {},
   "outputs": [],
   "source": [
    "#making destination directory\n",
    "try:\n",
    "    os.mkdir(os.environ['UserProfile']+'//desktop'+'//'+'Folder_pdf_JPG')\n",
    "except:\n",
    "    print(\"Directory exit\")\n",
    "    \n"
   ]
  },
  {
   "cell_type": "code",
   "execution_count": 92,
   "id": "8ffaeef5",
   "metadata": {},
   "outputs": [],
   "source": [
    "# checking destination folder before copy \n",
    "for i in os.listdir(os.environ['UserProfile']+'\\\\desktop'+'\\\\'+'Folder_pdf_JPG'):\n",
    "    print(i)"
   ]
  },
  {
   "cell_type": "code",
   "execution_count": 93,
   "id": "2a12344a",
   "metadata": {},
   "outputs": [],
   "source": [
    "\n",
    "def move_file(source_path,destination_path):\n",
    "    for root,directory,file in os.walk(source_path):\n",
    "#     print(file)\n",
    "        for i in file:\n",
    "            if i.endswith(\"pdf\") or i.endswith(\".jpg\"):\n",
    "                shutil.copy(os.path.join(root, i),destination_path)\n",
    "                               \n",
    "source_path=os.environ['UserProfile']+'//desktop'                \n",
    "destination_path=os.environ['UserProfile']+'//desktop//Folder_pdf_JPG'\n",
    "\n",
    "move_file(source_path,destination_path)"
   ]
  },
  {
   "cell_type": "code",
   "execution_count": 94,
   "id": "db4ad705",
   "metadata": {},
   "outputs": [
    {
     "name": "stdout",
     "output_type": "stream",
     "text": [
      "._img_club_logo.jpg\n",
      "._img_flag.jpg\n",
      "._img_player.jpg\n",
      "2x2.jpg\n",
      "aliens.jpg\n",
      "ApacheThrift1.jpg\n",
      "ApacheThrift2.jpg\n",
      "atom01.jpg\n",
      "atom02.jpg\n",
      "atom03.jpg\n",
      "atom04.jpg\n",
      "attitude-quotes-55_.jpg\n",
      "awkwardpenguin.jpg\n",
      "bill-lumbergh.jpg\n",
      "cassandra1.jpg\n",
      "cassandra10.jpg\n",
      "cassandra11.jpg\n",
      "cassandra11_keyspace.jpg\n",
      "cassandra11_table.jpg\n",
      "cassandra12.jpg\n",
      "cassandra12_insertINtable.jpg\n",
      "cassandra13.jpg\n",
      "cassandra14.jpg\n",
      "cassandra15.jpg\n",
      "cassandra16.jpg\n",
      "cassandra17.jpg\n",
      "cassandra2.jpg\n",
      "cassandra3.jpg\n",
      "cassandra4.jpg\n",
      "cassandra5.jpg\n",
      "cassandra6.jpg\n",
      "cassandra7.jpg\n",
      "cassandra8.jpg\n",
      "cassandra9.jpg\n",
      "confessionbear.jpg\n",
      "Data Science with Python_Lesson 01_Data Science Overview.pdf\n",
      "Data Science with Python_Lesson 02_Data Analytics Overview.pdf\n",
      "Data Science with Python_Lesson 03_Statistical Analysis and Business Applications.pdf\n",
      "Data Science with Python_Lesson 04_Python Environment Setup and Essentials.pdf\n",
      "Data Science with Python_Lesson 05_Mathematical_Computing_with_Python_NumPy.pdf\n",
      "Data Science with Python_Lesson 06_Scientific computing with Python (Scipy)_ebook.pdf\n",
      "Data Science with Python_Lesson 07_Data Manipulation with Python_Pandas.pdf\n",
      "Data Science with Python_Lesson 08_Machine Learning with Python (Scikit-Learn).pdf\n",
      "Data Science with Python_Lesson 09_Data Science with Python_NLP.pdf\n",
      "Data Science with Python_Lesson 10_Data Visualization in Python with Matplotlib_raw.pdf\n",
      "Data Science with Python_Lesson 11_Web Scraping.pdf\n",
      "Data Science with Python_Lesson 12_Python integration with Hadoop.pdf\n",
      "download (1).jpg\n",
      "download.jpg\n",
      "environmentVariable.jpg\n",
      "environmentVariable2.jpg\n",
      "environmentVariable3.jpg\n",
      "FAQ1.pdf\n",
      "Fibonacci_Number.jpg\n",
      "img_club_logo.jpg\n",
      "img_flag.jpg\n",
      "img_player.jpg\n",
      "install01.jpg\n",
      "install02.jpg\n",
      "install03.jpg\n",
      "install04.jpg\n",
      "install05.jpg\n",
      "install06.jpg\n",
      "install07.jpg\n",
      "install08.jpg\n",
      "install09.jpg\n",
      "install10.jpg\n",
      "install11.jpg\n",
      "install12.jpg\n",
      "install13.jpg\n",
      "install14.jpg\n",
      "Introducing Python _ Manualzz.pdf\n",
      "MYSQL application.pdf\n",
      "mysql1.jpg\n",
      "mysql10.jpg\n",
      "mysql11.jpg\n",
      "mysql12.jpg\n",
      "mysql13.jpg\n",
      "mysql14.jpg\n",
      "mysql15.jpg\n",
      "mysql16.jpg\n",
      "mysql17.jpg\n",
      "mysql18.jpg\n",
      "mysql19.jpg\n",
      "mysql2.jpg\n",
      "mysql20.jpg\n",
      "mysql21.jpg\n",
      "mysql22.jpg\n",
      "mysql23.jpg\n",
      "mysql24.jpg\n",
      "mysql25.jpg\n",
      "mysql26.jpg\n",
      "mysql27.jpg\n",
      "mysql28.jpg\n",
      "mysql29.jpg\n",
      "mysql3.jpg\n",
      "mysql30.jpg\n",
      "mysql31.jpg\n",
      "mysql32.jpg\n",
      "mysql33.jpg\n",
      "mysql4.jpg\n",
      "mysql5.jpg\n",
      "mysql6.jpg\n",
      "mysql7.jpg\n",
      "mysql8.jpg\n",
      "mysql9.jpg\n",
      "open1.jpg\n",
      "open1_2.jpg\n",
      "open1_3.jpg\n",
      "open2.jpg\n",
      "open2_2.jpg\n",
      "open2_3.jpg\n",
      "open2_4.jpg\n",
      "open3.jpg\n",
      "open3_2.jpg\n",
      "oracle_jre.jpg\n",
      "oracle_jre2.jpg\n",
      "oracle_jre3.jpg\n",
      "oracle_jre4.jpg\n",
      "oracle_jre5.jpg\n",
      "photo-1484053801020-3a74ca659b03.jpg\n",
      "photo-1493976040374-85c8e12f0c0e.jpg\n",
      "photo-1507143550189-fed454f93097.jpg\n",
      "photo-1513938709626-033611b8cc03.jpg\n",
      "photo-1542281286-9e0a16bb7366.jpg\n",
      "photo-1542397284385-6010376c5337.jpg\n",
      "photo-1542640244-7e672d6cef4e.jpg\n",
      "photo-1543739970-9f00688c2285.jpg\n",
      "photo-1543868100-d3b62207712e.jpg\n",
      "photo-1547185942-2b5661136b1b.jpg\n",
      "Project Submission Instructions.pdf\n",
      "python2.jpg\n",
      "sublime01.jpg\n",
      "sublime02.jpg\n",
      "sublime03.jpg\n",
      "successkid.jpg\n",
      "systeminfo.jpg\n"
     ]
    }
   ],
   "source": [
    "# checking destination folder AFTER copy \n",
    "for i in os.listdir(os.environ['UserProfile']+'//desktop'+'//'+'Folder_pdf_JPG'):\n",
    "    print(i)"
   ]
  },
  {
   "cell_type": "code",
   "execution_count": 8,
   "id": "fd363571",
   "metadata": {},
   "outputs": [
    {
     "data": {
      "text/plain": [
       "0"
      ]
     },
     "execution_count": 8,
     "metadata": {},
     "output_type": "execute_result"
    }
   ],
   "source": [
    "import os\n",
    " \n",
    "import aspose.words as aw\n",
    "\n",
    "# Load source and destination documents\n",
    "dstDoc = aw.Document(r'C:\\Users\\HP\\Downloads\\Assignment_1.docx')\n",
    "srcDoc = aw.Document(r'C:\\Users\\HP\\Downloads\\Assignment_2.docx')\n",
    "\n",
    "# Append the source document to the destination document.\n",
    "# Pass format mode to retain the original formatting of the source document when importing it.\n",
    "dstDoc.append_document(srcDoc, aw.ImportFormatMode.KEEP_SOURCE_FORMATTING)\n",
    "\n",
    "# Combine Word documents\n",
    "dstDoc.save(\"combined.docx\")\n",
    "\n",
    "\n",
    "\n",
    "os.system(\"combined.docx\") \n"
   ]
  },
  {
   "cell_type": "code",
   "execution_count": 3,
   "id": "9a6fca3d",
   "metadata": {},
   "outputs": [
    {
     "ename": "ModuleNotFoundError",
     "evalue": "No module named 'exceptions'",
     "output_type": "error",
     "traceback": [
      "\u001b[1;31m---------------------------------------------------------------------------\u001b[0m",
      "\u001b[1;31mModuleNotFoundError\u001b[0m                       Traceback (most recent call last)",
      "\u001b[1;32m~\\AppData\\Local\\Temp/ipykernel_3436/3784560857.py\u001b[0m in \u001b[0;36m<module>\u001b[1;34m\u001b[0m\n\u001b[1;32m----> 1\u001b[1;33m \u001b[1;32mfrom\u001b[0m \u001b[0mdocx\u001b[0m \u001b[1;32mimport\u001b[0m \u001b[0mDocument\u001b[0m\u001b[1;33m\u001b[0m\u001b[1;33m\u001b[0m\u001b[0m\n\u001b[0m\u001b[0;32m      2\u001b[0m \u001b[1;32mfrom\u001b[0m \u001b[0mdocxcompose\u001b[0m\u001b[1;33m.\u001b[0m\u001b[0mcomposer\u001b[0m \u001b[1;32mimport\u001b[0m \u001b[0mComposer\u001b[0m\u001b[1;33m\u001b[0m\u001b[1;33m\u001b[0m\u001b[0m\n\u001b[0;32m      3\u001b[0m \u001b[1;33m\u001b[0m\u001b[0m\n\u001b[0;32m      4\u001b[0m \u001b[0mfiles\u001b[0m \u001b[1;33m=\u001b[0m \u001b[1;33m[\u001b[0m\u001b[1;34mr'C:\\Users\\HP\\Downloads\\Assignment_1.docx'\u001b[0m\u001b[1;33m,\u001b[0m \u001b[1;34mr'C:\\Users\\HP\\Downloads\\Assignment_2.docx'\u001b[0m\u001b[1;33m]\u001b[0m\u001b[1;33m\u001b[0m\u001b[1;33m\u001b[0m\u001b[0m\n\u001b[0;32m      5\u001b[0m \u001b[0mcomposed\u001b[0m \u001b[1;33m=\u001b[0m \u001b[1;34mr\"C:\\Users\\HP\\Downloads\\Assignmen.docx\"\u001b[0m\u001b[1;33m\u001b[0m\u001b[1;33m\u001b[0m\u001b[0m\n",
      "\u001b[1;32mC:\\ProgramData\\Anaconda3\\lib\\site-packages\\docx.py\u001b[0m in \u001b[0;36m<module>\u001b[1;34m\u001b[0m\n\u001b[0;32m     28\u001b[0m     \u001b[0mTAGS\u001b[0m \u001b[1;33m=\u001b[0m \u001b[1;33m{\u001b[0m\u001b[1;33m}\u001b[0m\u001b[1;33m\u001b[0m\u001b[1;33m\u001b[0m\u001b[0m\n\u001b[0;32m     29\u001b[0m \u001b[1;33m\u001b[0m\u001b[0m\n\u001b[1;32m---> 30\u001b[1;33m \u001b[1;32mfrom\u001b[0m \u001b[0mexceptions\u001b[0m \u001b[1;32mimport\u001b[0m \u001b[0mPendingDeprecationWarning\u001b[0m\u001b[1;33m\u001b[0m\u001b[1;33m\u001b[0m\u001b[0m\n\u001b[0m\u001b[0;32m     31\u001b[0m \u001b[1;32mfrom\u001b[0m \u001b[0mwarnings\u001b[0m \u001b[1;32mimport\u001b[0m \u001b[0mwarn\u001b[0m\u001b[1;33m\u001b[0m\u001b[1;33m\u001b[0m\u001b[0m\n\u001b[0;32m     32\u001b[0m \u001b[1;33m\u001b[0m\u001b[0m\n",
      "\u001b[1;31mModuleNotFoundError\u001b[0m: No module named 'exceptions'"
     ]
    }
   ],
   "source": [
    "\n",
    "\n",
    " \n",
    "from docx import Document\n",
    "from docxcompose.composer import Composer\n",
    "\n",
    "files = [r'C:\\Users\\HP\\Downloads\\Assignment_1.docx', r'C:\\Users\\HP\\Downloads\\Assignment_2.docx']\n",
    "composed = r\"C:\\Users\\HP\\Downloads\\Assignmen.docx\"\n",
    "\n",
    "result = Document(files[0])\n",
    "result.add_page_break()\n",
    "composer = Composer(result)\n",
    "\n",
    "for i in range(1, len(files)):\n",
    "    doc = Document(files[i])\n",
    "\n",
    "    if i != len(files) - 1:\n",
    "        doc.add_page_break()\n",
    "\n",
    "    composer.append(doc)\n",
    "\n",
    "composer.save(composed)"
   ]
  },
  {
   "cell_type": "code",
   "execution_count": 13,
   "id": "22343ea3",
   "metadata": {},
   "outputs": [],
   "source": [
    "os.mkdir(r\"C:\\Users\\HP\\Downloads\\Assignmen.docx\")"
   ]
  },
  {
   "cell_type": "code",
   "execution_count": 4,
   "id": "36778efa",
   "metadata": {},
   "outputs": [
    {
     "name": "stdout",
     "output_type": "stream",
     "text": [
      "Collecting python-docx\n",
      "  Downloading python-docx-0.8.11.tar.gz (5.6 MB)\n",
      "Requirement already satisfied: lxml>=2.3.2 in c:\\programdata\\anaconda3\\lib\\site-packages (from python-docx) (4.6.3)\n",
      "Building wheels for collected packages: python-docx\n",
      "  Building wheel for python-docx (setup.py): started\n",
      "  Building wheel for python-docx (setup.py): finished with status 'done'\n",
      "  Created wheel for python-docx: filename=python_docx-0.8.11-py3-none-any.whl size=184508 sha256=1d3de5dae839a52f87bc340af571ff6a9dc5340780d97c559666b93f9378c9d5\n",
      "  Stored in directory: c:\\users\\hp\\appdata\\local\\pip\\cache\\wheels\\83\\8b\\7c\\09ae60c42c7ba4ed2dddaf2b8b9186cb105255856d6ed3dba5\n",
      "Successfully built python-docx\n",
      "Installing collected packages: python-docx\n",
      "Successfully installed python-docx-0.8.11\n",
      "Note: you may need to restart the kernel to use updated packages.\n"
     ]
    }
   ],
   "source": [
    "pip install python-docx"
   ]
  },
  {
   "cell_type": "code",
   "execution_count": 1,
   "id": "438b9297",
   "metadata": {},
   "outputs": [
    {
     "name": "stdout",
     "output_type": "stream",
     "text": [
      "Note: you may need to restart the kernel to use updated packages.\n"
     ]
    },
    {
     "name": "stderr",
     "output_type": "stream",
     "text": [
      "ERROR: Could not find a version that satisfies the requirement docxcompose.composer (from versions: none)\n",
      "ERROR: No matching distribution found for docxcompose.composer\n"
     ]
    }
   ],
   "source": [
    "pip install docxcompose.composer"
   ]
  },
  {
   "cell_type": "code",
   "execution_count": null,
   "id": "35a7bef4",
   "metadata": {},
   "outputs": [],
   "source": []
  }
 ],
 "metadata": {
  "kernelspec": {
   "display_name": "Python 3 (ipykernel)",
   "language": "python",
   "name": "python3"
  },
  "language_info": {
   "codemirror_mode": {
    "name": "ipython",
    "version": 3
   },
   "file_extension": ".py",
   "mimetype": "text/x-python",
   "name": "python",
   "nbconvert_exporter": "python",
   "pygments_lexer": "ipython3",
   "version": "3.9.7"
  }
 },
 "nbformat": 4,
 "nbformat_minor": 5
}
