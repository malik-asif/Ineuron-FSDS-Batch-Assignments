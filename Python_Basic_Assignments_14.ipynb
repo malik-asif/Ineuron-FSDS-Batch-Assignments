{
 "cells": [
  {
   "cell_type": "markdown",
   "id": "5e88a3e3",
   "metadata": {},
   "source": [
    "# Assignment 14 'Python basic'"
   ]
  },
  {
   "cell_type": "markdown",
   "id": "6e70b840",
   "metadata": {},
   "source": [
    "### 1. What does RGBA stand for?\n",
    "\n",
    "An RGBA value is a tuple of 4 integers, each ranging from 0 to 255. The four integers correspond to the amount of red, green, blue, and alpha (transparency) in the color.\n",
    "\n",
    "\n",
    "### 2. From the Pillow module, how do you get the RGBA value of any images?\n",
    "\n",
    "A function call to ImageColor.getcolor('Red', 'RGBA') will return (255, 0, 0, 255), the RGBA value for that color.\n",
    "\n",
    "\n",
    "### 3. What is a box tuple, and how does it work?\n",
    "\n",
    "A box tuple is a tuple value of four integers: \n",
    "\n",
    ">**Left** The x-coordinate of the leftmost edge of the box.\n",
    "\n",
    ">**Top** The y-coordinate of the top edge of the box.\n",
    "\n",
    ">**Right(width)** The x-coordinate of one pixel to the right of the rightmost edge of the box. This integer must be greater than the left integer.\n",
    "\n",
    ">**Bottom(height)** The y-coordinate of one pixel lower than the bottom edge of the box. This integer must be greater than the top integer.\n",
    "\n",
    "### 4. Use your image and load in notebook then, How can you find out the width and height of an Image object?\n",
    "\n",
    "imageObj.size is a tuple of two integers, the width and the height.\n",
    "\n",
    "### 5. What method would you call to get Image object for a 100×100 image, excluding the lower-left quarter of it?\n",
    "\n",
    "imageObj.crop((0, 50, 50, 50)).\n",
    "\n",
    "\n",
    "### 6. After making changes to an Image object, how could you save it as an image file?\n",
    "\n",
    "By calling imageObj.save('new_filename.png')\n",
    "\n",
    "### 7. What module contains Pillow’s shape-drawing code?\n",
    "\n",
    "The ImageDraw module contains code to draw on images.\n",
    "\n",
    "### 8. Image objects do not have drawing methods. What kind of object does? How do you get this kind of object?\n",
    "\n",
    "ImageDraw objects have shape-drawing methods such as point(), line(), or rectangle(). They are returned by passing the Image object to the ImageDraw.Draw() function."
   ]
  },
  {
   "cell_type": "code",
   "execution_count": null,
   "id": "04c411c7",
   "metadata": {},
   "outputs": [],
   "source": [
    "from PIL import Image, ImageDraw\n",
    "im = Image.new('RGBA', (200, 200), 'white')\n",
    "draw = ImageDraw.Draw(im)\n",
    "draw.line([(0, 0), (199, 0), (199, 199), (0, 199), (0, 0)], fill='black')\n",
    "draw.rectangle((20, 30, 60, 60), fill='blue')\n",
    "draw.ellipse((120, 30, 160, 60), fill='red')\n",
    "draw.polygon(((57, 87), (79, 62), (94, 85), (120, 90), (103, 113)),fill='brown')\n",
    "im.save('drawing.png')"
   ]
  }
 ],
 "metadata": {
  "kernelspec": {
   "display_name": "Python 3 (ipykernel)",
   "language": "python",
   "name": "python3"
  },
  "language_info": {
   "codemirror_mode": {
    "name": "ipython",
    "version": 3
   },
   "file_extension": ".py",
   "mimetype": "text/x-python",
   "name": "python",
   "nbconvert_exporter": "python",
   "pygments_lexer": "ipython3",
   "version": "3.9.13"
  }
 },
 "nbformat": 4,
 "nbformat_minor": 5
}
